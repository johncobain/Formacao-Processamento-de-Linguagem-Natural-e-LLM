{
 "cells": [
  {
   "cell_type": "code",
   "execution_count": 1,
   "metadata": {},
   "outputs": [
    {
     "name": "stderr",
     "output_type": "stream",
     "text": [
      "c:\\Users\\estag\\workspace\\Formacao-Processamento-de-Linguagem-Natural-e-LLM\\.venv\\Lib\\site-packages\\tqdm\\auto.py:21: TqdmWarning: IProgress not found. Please update jupyter and ipywidgets. See https://ipywidgets.readthedocs.io/en/stable/user_install.html\n",
      "  from .autonotebook import tqdm as notebook_tqdm\n"
     ]
    }
   ],
   "source": [
    "import transformers\n",
    "from transformers import pipeline"
   ]
  },
  {
   "cell_type": "code",
   "execution_count": 3,
   "metadata": {},
   "outputs": [
    {
     "name": "stdout",
     "output_type": "stream",
     "text": [
      "WARNING:tensorflow:From c:\\Users\\estag\\workspace\\Formacao-Processamento-de-Linguagem-Natural-e-LLM\\.venv\\Lib\\site-packages\\tf_keras\\src\\losses.py:2976: The name tf.losses.sparse_softmax_cross_entropy is deprecated. Please use tf.compat.v1.losses.sparse_softmax_cross_entropy instead.\n",
      "\n"
     ]
    },
    {
     "name": "stderr",
     "output_type": "stream",
     "text": [
      "c:\\Users\\estag\\workspace\\Formacao-Processamento-de-Linguagem-Natural-e-LLM\\.venv\\Lib\\site-packages\\transformers\\tokenization_utils_base.py:1601: FutureWarning: `clean_up_tokenization_spaces` was not set. It will be set to `True` by default. This behavior will be depracted in transformers v4.45, and will be then set to `False` by default. For more details check this issue: https://github.com/huggingface/transformers/issues/31884\n",
      "  warnings.warn(\n"
     ]
    }
   ],
   "source": [
    "gerador = pipeline(\"text-generation\", model=\"pierreguillou/gpt2-small-portuguese\", device='cuda')"
   ]
  },
  {
   "cell_type": "code",
   "execution_count": 11,
   "metadata": {},
   "outputs": [
    {
     "name": "stdout",
     "output_type": "stream",
     "text": [
      "Em sentido escrito, ciência refere-se ao sistema de adquirir conhecimento baseado no método científico. A ciência tem de ser definida pelo método científico. A ciência, por definição, é um estudo científico, com um sistema de informação, dados e regras, que tem uma intenção de produzir resultados. A ciência e a ciência podem ser combinados em uma única ciência.\n",
      "\n",
      "A ciência está sendo estudada em várias áreas de conhecimento do uso prático. A ciência pode ser definida segundo critérios matemáticos, químicos ou qualquer outro.\n",
      "\n",
      "O mundo moderno ocupa um lugar central no estudo e aplicação da ciência, já que os avanços tecnológicos, que impulsionam as ciências sociais no mundo, foram muito maiores do que as da ciência. Em consequência a ciência tem a sua economia baseada principalmente\n"
     ]
    }
   ],
   "source": [
    "texto = \"Em sentido escrito, ciência refere-se ao sistema de adquirir conhecimento baseado no método científico.\"\n",
    "resultado = gerador(texto, max_length=150 ,do_sample=True)\n",
    "print(resultado[0]['generated_text'])"
   ]
  },
  {
   "cell_type": "code",
   "execution_count": null,
   "metadata": {},
   "outputs": [],
   "source": []
  }
 ],
 "metadata": {
  "kernelspec": {
   "display_name": ".venv",
   "language": "python",
   "name": "python3"
  },
  "language_info": {
   "codemirror_mode": {
    "name": "ipython",
    "version": 3
   },
   "file_extension": ".py",
   "mimetype": "text/x-python",
   "name": "python",
   "nbconvert_exporter": "python",
   "pygments_lexer": "ipython3",
   "version": "3.12.3"
  }
 },
 "nbformat": 4,
 "nbformat_minor": 2
}
