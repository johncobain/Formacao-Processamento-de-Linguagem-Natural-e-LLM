{
 "cells": [
  {
   "cell_type": "code",
   "execution_count": 1,
   "metadata": {},
   "outputs": [
    {
     "name": "stderr",
     "output_type": "stream",
     "text": [
      "[nltk_data] Downloading package punkt to\n",
      "[nltk_data]     C:\\Users\\estag\\AppData\\Roaming\\nltk_data...\n",
      "[nltk_data]   Package punkt is already up-to-date!\n",
      "[nltk_data] Downloading package stopwords to\n",
      "[nltk_data]     C:\\Users\\estag\\AppData\\Roaming\\nltk_data...\n",
      "[nltk_data]   Package stopwords is already up-to-date!\n"
     ]
    },
    {
     "data": {
      "text/plain": [
       "True"
      ]
     },
     "execution_count": 1,
     "metadata": {},
     "output_type": "execute_result"
    }
   ],
   "source": [
    "import nltk\n",
    "from nltk.tokenize import sent_tokenize\n",
    "from nltk.corpus import stopwords\n",
    "nltk.download(\"punkt\")\n",
    "nltk.download(\"stopwords\")"
   ]
  },
  {
   "cell_type": "code",
   "execution_count": 2,
   "metadata": {},
   "outputs": [],
   "source": [
    "from bertopic import BERTopic\n",
    "from sklearn.feature_extraction.text import CountVectorizer\n",
    "from sentence_transformers import SentenceTransformer"
   ]
  },
  {
   "cell_type": "code",
   "execution_count": 3,
   "metadata": {},
   "outputs": [],
   "source": [
    "import glob\n",
    "dados = []\n",
    "dir = \"documentos/\"\n",
    "for arquivo in glob.iglob(dir + '*.txt', recursive=False):\n",
    "    meuarquivo = open(arquivo, \"r\", encoding=\"utf8\")\n",
    "    content = meuarquivo.read()\n",
    "    dados.append(content)\n",
    "    meuarquivo.close()"
   ]
  },
  {
   "cell_type": "code",
   "execution_count": 4,
   "metadata": {},
   "outputs": [
    {
     "data": {
      "text/plain": [
       "22"
      ]
     },
     "execution_count": 4,
     "metadata": {},
     "output_type": "execute_result"
    }
   ],
   "source": [
    "len(dados)"
   ]
  },
  {
   "cell_type": "code",
   "execution_count": 6,
   "metadata": {},
   "outputs": [],
   "source": [
    "sentencas = []\n",
    "for item in dados:\n",
    "    for t in sent_tokenize(item):\n",
    "        sentencas.append(t)"
   ]
  },
  {
   "cell_type": "code",
   "execution_count": 7,
   "metadata": {},
   "outputs": [
    {
     "data": {
      "text/plain": [
       "1504"
      ]
     },
     "execution_count": 7,
     "metadata": {},
     "output_type": "execute_result"
    }
   ],
   "source": [
    "len(sentencas)"
   ]
  },
  {
   "cell_type": "code",
   "execution_count": 11,
   "metadata": {},
   "outputs": [
    {
     "data": {
      "text/plain": [
       "'[21]\\n\\nExistem na maioria dos países associações de engenheiros civis que buscam a troca de conhecimento e a divulgação e aperfeiçoamento de técnicas.'"
      ]
     },
     "execution_count": 11,
     "metadata": {},
     "output_type": "execute_result"
    }
   ],
   "source": [
    "sentencas[300]"
   ]
  },
  {
   "cell_type": "code",
   "execution_count": 23,
   "metadata": {},
   "outputs": [],
   "source": [
    "model = BERTopic(language=\"portuguese\", verbose=True, embedding_model=\"xlm-r-bert-base-nli-stsb-mean-tokens\",\n",
    "                 top_n_words=15, min_topic_size=10, nr_topics=20,\n",
    "                 vectorizer_model=CountVectorizer(ngram_range=(1,3),\n",
    "                                                  stop_words=stopwords.words(\"portuguese\"),\n",
    "                                                  min_df=10))"
   ]
  },
  {
   "cell_type": "code",
   "execution_count": 24,
   "metadata": {},
   "outputs": [
    {
     "name": "stderr",
     "output_type": "stream",
     "text": [
      "2024-09-25 11:38:57,495 - BERTopic - Embedding - Transforming documents to embeddings.\n",
      "Batches: 100%|██████████| 47/47 [00:13<00:00,  3.42it/s]\n",
      "2024-09-25 11:41:23,780 - BERTopic - Embedding - Completed ✓\n",
      "2024-09-25 11:41:23,780 - BERTopic - Dimensionality - Fitting the dimensionality reduction algorithm\n",
      "2024-09-25 11:41:28,530 - BERTopic - Dimensionality - Completed ✓\n",
      "2024-09-25 11:41:28,531 - BERTopic - Cluster - Start clustering the reduced embeddings\n",
      "2024-09-25 11:41:28,582 - BERTopic - Cluster - Completed ✓\n",
      "2024-09-25 11:41:28,583 - BERTopic - Representation - Extracting topics from clusters using representation models.\n",
      "2024-09-25 11:41:28,693 - BERTopic - Representation - Completed ✓\n",
      "2024-09-25 11:41:28,694 - BERTopic - Topic reduction - Reducing number of topics\n",
      "2024-09-25 11:41:28,808 - BERTopic - Topic reduction - Reduced number of topics from 28 to 20\n"
     ]
    },
    {
     "name": "stdout",
     "output_type": "stream",
     "text": [
      "CPU times: total: 26.7 s\n",
      "Wall time: 2min 31s\n"
     ]
    }
   ],
   "source": [
    "%%time\n",
    "topicos, probabilidades = model.fit_transform(sentencas)"
   ]
  },
  {
   "cell_type": "code",
   "execution_count": 25,
   "metadata": {},
   "outputs": [
    {
     "data": {
      "text/html": [
       "<div>\n",
       "<style scoped>\n",
       "    .dataframe tbody tr th:only-of-type {\n",
       "        vertical-align: middle;\n",
       "    }\n",
       "\n",
       "    .dataframe tbody tr th {\n",
       "        vertical-align: top;\n",
       "    }\n",
       "\n",
       "    .dataframe thead th {\n",
       "        text-align: right;\n",
       "    }\n",
       "</style>\n",
       "<table border=\"1\" class=\"dataframe\">\n",
       "  <thead>\n",
       "    <tr style=\"text-align: right;\">\n",
       "      <th></th>\n",
       "      <th>Topic</th>\n",
       "      <th>Count</th>\n",
       "      <th>Name</th>\n",
       "      <th>Representation</th>\n",
       "      <th>Representative_Docs</th>\n",
       "    </tr>\n",
       "  </thead>\n",
       "  <tbody>\n",
       "    <tr>\n",
       "      <th>0</th>\n",
       "      <td>-1</td>\n",
       "      <td>394</td>\n",
       "      <td>-1_grande_além_estudo_engenharia</td>\n",
       "      <td>[grande, além, estudo, engenharia, engenheiro,...</td>\n",
       "      <td>[A introdução por Ferdinand Blum em 1894 da so...</td>\n",
       "    </tr>\n",
       "    <tr>\n",
       "      <th>1</th>\n",
       "      <td>0</td>\n",
       "      <td>198</td>\n",
       "      <td>0_ver_engenharia_ciência_sobre</td>\n",
       "      <td>[ver, engenharia, ciência, sobre, desenvolvime...</td>\n",
       "      <td>[(explicação sugerida por Enrico Coiera)\\n\\nAs...</td>\n",
       "    </tr>\n",
       "    <tr>\n",
       "      <th>2</th>\n",
       "      <td>1</td>\n",
       "      <td>153</td>\n",
       "      <td>1_engenharia_engenheiro_controle_forma</td>\n",
       "      <td>[engenharia, engenheiro, controle, forma, aind...</td>\n",
       "      <td>[A engenharia mecânica sobrepõe-se com a engen...</td>\n",
       "    </tr>\n",
       "    <tr>\n",
       "      <th>3</th>\n",
       "      <td>2</td>\n",
       "      <td>143</td>\n",
       "      <td>2_sistema_podem_outras_diversas</td>\n",
       "      <td>[sistema, podem, outras, diversas, sendo, proc...</td>\n",
       "      <td>[O sistema complementar é um conjunto de aprox...</td>\n",
       "    </tr>\n",
       "    <tr>\n",
       "      <th>4</th>\n",
       "      <td>3</td>\n",
       "      <td>101</td>\n",
       "      <td>3_cada_maior_formação_através</td>\n",
       "      <td>[cada, maior, formação, através, pode, pois, p...</td>\n",
       "      <td>[Há um intervalo de alguns milissegundos entre...</td>\n",
       "    </tr>\n",
       "    <tr>\n",
       "      <th>5</th>\n",
       "      <td>4</td>\n",
       "      <td>75</td>\n",
       "      <td>4_estruturas_tipos_sobre_desenvolvimento</td>\n",
       "      <td>[estruturas, tipos, sobre, desenvolvimento, té...</td>\n",
       "      <td>[Como a maior parte das estruturas celulares é...</td>\n",
       "    </tr>\n",
       "    <tr>\n",
       "      <th>6</th>\n",
       "      <td>5</td>\n",
       "      <td>75</td>\n",
       "      <td>5_água_através_estudo_uso</td>\n",
       "      <td>[água, através, estudo, uso, podem, diversos, ...</td>\n",
       "      <td>[Em algumas minas, os Romanos utilizavam máqui...</td>\n",
       "    </tr>\n",
       "    <tr>\n",
       "      <th>7</th>\n",
       "      <td>6</td>\n",
       "      <td>68</td>\n",
       "      <td>6_área_ainda_tecnologia_sobre</td>\n",
       "      <td>[área, ainda, tecnologia, sobre, processos, fo...</td>\n",
       "      <td>[A internet das coisas é um tema que se espera...</td>\n",
       "    </tr>\n",
       "    <tr>\n",
       "      <th>8</th>\n",
       "      <td>7</td>\n",
       "      <td>51</td>\n",
       "      <td>7_produção_área_outras_áreas</td>\n",
       "      <td>[produção, área, outras, áreas, atuação, engen...</td>\n",
       "      <td>[Lastreiam também o conhecimento científico do...</td>\n",
       "    </tr>\n",
       "    <tr>\n",
       "      <th>9</th>\n",
       "      <td>8</td>\n",
       "      <td>42</td>\n",
       "      <td>8_tipos_através_processo_cada</td>\n",
       "      <td>[tipos, através, processo, cada, vez, exemplo,...</td>\n",
       "      <td>[Os mamíferos reagem à infecção através do sis...</td>\n",
       "    </tr>\n",
       "  </tbody>\n",
       "</table>\n",
       "</div>"
      ],
      "text/plain": [
       "   Topic  Count                                      Name  \\\n",
       "0     -1    394          -1_grande_além_estudo_engenharia   \n",
       "1      0    198            0_ver_engenharia_ciência_sobre   \n",
       "2      1    153    1_engenharia_engenheiro_controle_forma   \n",
       "3      2    143           2_sistema_podem_outras_diversas   \n",
       "4      3    101             3_cada_maior_formação_através   \n",
       "5      4     75  4_estruturas_tipos_sobre_desenvolvimento   \n",
       "6      5     75                 5_água_através_estudo_uso   \n",
       "7      6     68             6_área_ainda_tecnologia_sobre   \n",
       "8      7     51              7_produção_área_outras_áreas   \n",
       "9      8     42             8_tipos_através_processo_cada   \n",
       "\n",
       "                                      Representation  \\\n",
       "0  [grande, além, estudo, engenharia, engenheiro,...   \n",
       "1  [ver, engenharia, ciência, sobre, desenvolvime...   \n",
       "2  [engenharia, engenheiro, controle, forma, aind...   \n",
       "3  [sistema, podem, outras, diversas, sendo, proc...   \n",
       "4  [cada, maior, formação, através, pode, pois, p...   \n",
       "5  [estruturas, tipos, sobre, desenvolvimento, té...   \n",
       "6  [água, através, estudo, uso, podem, diversos, ...   \n",
       "7  [área, ainda, tecnologia, sobre, processos, fo...   \n",
       "8  [produção, área, outras, áreas, atuação, engen...   \n",
       "9  [tipos, através, processo, cada, vez, exemplo,...   \n",
       "\n",
       "                                 Representative_Docs  \n",
       "0  [A introdução por Ferdinand Blum em 1894 da so...  \n",
       "1  [(explicação sugerida por Enrico Coiera)\\n\\nAs...  \n",
       "2  [A engenharia mecânica sobrepõe-se com a engen...  \n",
       "3  [O sistema complementar é um conjunto de aprox...  \n",
       "4  [Há um intervalo de alguns milissegundos entre...  \n",
       "5  [Como a maior parte das estruturas celulares é...  \n",
       "6  [Em algumas minas, os Romanos utilizavam máqui...  \n",
       "7  [A internet das coisas é um tema que se espera...  \n",
       "8  [Lastreiam também o conhecimento científico do...  \n",
       "9  [Os mamíferos reagem à infecção através do sis...  "
      ]
     },
     "execution_count": 25,
     "metadata": {},
     "output_type": "execute_result"
    }
   ],
   "source": [
    "frequencia = model.get_topic_info()\n",
    "frequencia.head(10)"
   ]
  },
  {
   "cell_type": "code",
   "execution_count": 26,
   "metadata": {},
   "outputs": [
    {
     "data": {
      "text/plain": [
       "[('estruturas', 0.12116941781397905),\n",
       " ('tipos', 0.09964494485256087),\n",
       " ('sobre', 0.09346050080581503),\n",
       " ('desenvolvimento', 0.07384773994138057),\n",
       " ('técnicas', 0.0675523689791427),\n",
       " ('além', 0.06595499947275225),\n",
       " ('estudo', 0.06096972452770971),\n",
       " ('muitas', 0.05200672033173335),\n",
       " ('podem', 0.04778331066249917),\n",
       " ('outros', 0.04778331066249917),\n",
       " ('ramo', 0.04607427276320068),\n",
       " ('processo', 0.04368407545194223),\n",
       " ('processos', 0.036955847330658695),\n",
       " ('exemplo', 0.036460080170882675),\n",
       " ('grande', 0.03377618448957135)]"
      ]
     },
     "execution_count": 26,
     "metadata": {},
     "output_type": "execute_result"
    }
   ],
   "source": [
    "model.get_topic(4)"
   ]
  },
  {
   "cell_type": "code",
   "execution_count": 27,
   "metadata": {},
   "outputs": [
    {
     "ename": "ValueError",
     "evalue": "Mime type rendering requires nbformat>=4.2.0 but it is not installed",
     "output_type": "error",
     "traceback": [
      "\u001b[1;31m---------------------------------------------------------------------------\u001b[0m",
      "\u001b[1;31mValueError\u001b[0m                                Traceback (most recent call last)",
      "File \u001b[1;32mc:\\Users\\estag\\workspace\\Formacao-Processamento-de-Linguagem-Natural-e-LLM\\.venv\\Lib\\site-packages\\IPython\\core\\formatters.py:925\u001b[0m, in \u001b[0;36mIPythonDisplayFormatter.__call__\u001b[1;34m(self, obj)\u001b[0m\n\u001b[0;32m    923\u001b[0m method \u001b[38;5;241m=\u001b[39m get_real_method(obj, \u001b[38;5;28mself\u001b[39m\u001b[38;5;241m.\u001b[39mprint_method)\n\u001b[0;32m    924\u001b[0m \u001b[38;5;28;01mif\u001b[39;00m method \u001b[38;5;129;01mis\u001b[39;00m \u001b[38;5;129;01mnot\u001b[39;00m \u001b[38;5;28;01mNone\u001b[39;00m:\n\u001b[1;32m--> 925\u001b[0m     \u001b[43mmethod\u001b[49m\u001b[43m(\u001b[49m\u001b[43m)\u001b[49m\n\u001b[0;32m    926\u001b[0m     \u001b[38;5;28;01mreturn\u001b[39;00m \u001b[38;5;28;01mTrue\u001b[39;00m\n",
      "File \u001b[1;32mc:\\Users\\estag\\workspace\\Formacao-Processamento-de-Linguagem-Natural-e-LLM\\.venv\\Lib\\site-packages\\plotly\\basedatatypes.py:832\u001b[0m, in \u001b[0;36mBaseFigure._ipython_display_\u001b[1;34m(self)\u001b[0m\n\u001b[0;32m    829\u001b[0m \u001b[38;5;28;01mimport\u001b[39;00m \u001b[38;5;21;01mplotly\u001b[39;00m\u001b[38;5;21;01m.\u001b[39;00m\u001b[38;5;21;01mio\u001b[39;00m \u001b[38;5;28;01mas\u001b[39;00m \u001b[38;5;21;01mpio\u001b[39;00m\n\u001b[0;32m    831\u001b[0m \u001b[38;5;28;01mif\u001b[39;00m pio\u001b[38;5;241m.\u001b[39mrenderers\u001b[38;5;241m.\u001b[39mrender_on_display \u001b[38;5;129;01mand\u001b[39;00m pio\u001b[38;5;241m.\u001b[39mrenderers\u001b[38;5;241m.\u001b[39mdefault:\n\u001b[1;32m--> 832\u001b[0m     \u001b[43mpio\u001b[49m\u001b[38;5;241;43m.\u001b[39;49m\u001b[43mshow\u001b[49m\u001b[43m(\u001b[49m\u001b[38;5;28;43mself\u001b[39;49m\u001b[43m)\u001b[49m\n\u001b[0;32m    833\u001b[0m \u001b[38;5;28;01melse\u001b[39;00m:\n\u001b[0;32m    834\u001b[0m     \u001b[38;5;28mprint\u001b[39m(\u001b[38;5;28mrepr\u001b[39m(\u001b[38;5;28mself\u001b[39m))\n",
      "File \u001b[1;32mc:\\Users\\estag\\workspace\\Formacao-Processamento-de-Linguagem-Natural-e-LLM\\.venv\\Lib\\site-packages\\plotly\\io\\_renderers.py:394\u001b[0m, in \u001b[0;36mshow\u001b[1;34m(fig, renderer, validate, **kwargs)\u001b[0m\n\u001b[0;32m    389\u001b[0m         \u001b[38;5;28;01mraise\u001b[39;00m \u001b[38;5;167;01mValueError\u001b[39;00m(\n\u001b[0;32m    390\u001b[0m             \u001b[38;5;124m\"\u001b[39m\u001b[38;5;124mMime type rendering requires ipython but it is not installed\u001b[39m\u001b[38;5;124m\"\u001b[39m\n\u001b[0;32m    391\u001b[0m         )\n\u001b[0;32m    393\u001b[0m     \u001b[38;5;28;01mif\u001b[39;00m \u001b[38;5;129;01mnot\u001b[39;00m nbformat \u001b[38;5;129;01mor\u001b[39;00m Version(nbformat\u001b[38;5;241m.\u001b[39m__version__) \u001b[38;5;241m<\u001b[39m Version(\u001b[38;5;124m\"\u001b[39m\u001b[38;5;124m4.2.0\u001b[39m\u001b[38;5;124m\"\u001b[39m):\n\u001b[1;32m--> 394\u001b[0m         \u001b[38;5;28;01mraise\u001b[39;00m \u001b[38;5;167;01mValueError\u001b[39;00m(\n\u001b[0;32m    395\u001b[0m             \u001b[38;5;124m\"\u001b[39m\u001b[38;5;124mMime type rendering requires nbformat>=4.2.0 but it is not installed\u001b[39m\u001b[38;5;124m\"\u001b[39m\n\u001b[0;32m    396\u001b[0m         )\n\u001b[0;32m    398\u001b[0m     ipython_display\u001b[38;5;241m.\u001b[39mdisplay(bundle, raw\u001b[38;5;241m=\u001b[39m\u001b[38;5;28;01mTrue\u001b[39;00m)\n\u001b[0;32m    400\u001b[0m \u001b[38;5;66;03m# external renderers\u001b[39;00m\n",
      "\u001b[1;31mValueError\u001b[0m: Mime type rendering requires nbformat>=4.2.0 but it is not installed"
     ]
    },
    {
     "data": {
      "application/vnd.plotly.v1+json": {
       "config": {
        "plotlyServerURL": "https://plot.ly"
       },
       "data": [
        {
         "marker": {
          "color": "#D55E00"
         },
         "orientation": "h",
         "type": "bar",
         "x": [
          0.02988462297513939,
          0.031623675272138295,
          0.03332768649202151,
          0.03445045197467441,
          0.0351330567466314,
          0.035428699408888216,
          0.0357445757107935,
          0.03605066030070894,
          0.03848359027909196,
          0.04019219397045348,
          0.04337089488620763,
          0.045741250394380366,
          0.04883207629034072,
          0.059941318907098466,
          0.06149920042391321
         ],
         "xaxis": "x",
         "y": [
          "parte  ",
          "sistemas  ",
          "engenheiro  ",
          "sendo  ",
          "desde  ",
          "áreas  ",
          "sistema  ",
          "vez  ",
          "processo  ",
          "tecnologia  ",
          "desenvolvimento  ",
          "sobre  ",
          "ciência  ",
          "engenharia  ",
          "ver  "
         ],
         "yaxis": "y"
        },
        {
         "marker": {
          "color": "#0072B2"
         },
         "orientation": "h",
         "type": "bar",
         "x": [
          0.026816867917492677,
          0.030897559498744197,
          0.03276745741096183,
          0.032783617158431255,
          0.03372539655269167,
          0.03380850868436633,
          0.035618694944390406,
          0.03582542233626856,
          0.03776622826169104,
          0.0387095392859415,
          0.03970799641467832,
          0.045989177117306816,
          0.049892874271777,
          0.06345078774442557,
          0.07780844281209896
         ],
         "xaxis": "x2",
         "y": [
          "além  ",
          "artigo  ",
          "diversos  ",
          "ramo  ",
          "áreas  ",
          "processos  ",
          "outros  ",
          "sistemas  ",
          "técnicas  ",
          "estruturas  ",
          "ainda  ",
          "forma  ",
          "controle  ",
          "engenheiro  ",
          "engenharia  "
         ],
         "yaxis": "y2"
        },
        {
         "marker": {
          "color": "#CC79A7"
         },
         "orientation": "h",
         "type": "bar",
         "x": [
          0.0349593273442212,
          0.034986339132256974,
          0.034986339132256974,
          0.035888996937901846,
          0.03673433617549687,
          0.03817534998177009,
          0.04238205539993236,
          0.042923458019357326,
          0.04335048533377938,
          0.051428070645695614,
          0.0526152357431391,
          0.053262886522734997,
          0.05900755474645791,
          0.07500531794901384,
          0.08188757344654511
         ],
         "xaxis": "x3",
         "y": [
          "ciência  ",
          "muitas  ",
          "todos  ",
          "estudo  ",
          "principal  ",
          "pode  ",
          "produção  ",
          "exemplo  ",
          "através  ",
          "processo  ",
          "sendo  ",
          "diversas  ",
          "outras  ",
          "podem  ",
          "sistema  "
         ],
         "yaxis": "y3"
        },
        {
         "marker": {
          "color": "#E69F00"
         },
         "orientation": "h",
         "type": "bar",
         "x": [
          0.032506577501750816,
          0.03648500560553676,
          0.03894724799329789,
          0.04033749511011971,
          0.04166311481705007,
          0.04536701801045257,
          0.046367437404195994,
          0.05229827649167441,
          0.07021123635530963,
          0.0711403339723956,
          0.0758907559878562,
          0.08617867566353732,
          0.10308684504357142,
          0.11377302125612786,
          0.15067229583411748
         ],
         "xaxis": "x4",
         "y": [
          "exemplo  ",
          "assim  ",
          "processo  ",
          "forma  ",
          "sobre  ",
          "parte  ",
          "todos  ",
          "sendo  ",
          "produção  ",
          "pois  ",
          "pode  ",
          "através  ",
          "formação  ",
          "maior  ",
          "cada  "
         ],
         "yaxis": "y4"
        },
        {
         "marker": {
          "color": "#56B4E9"
         },
         "orientation": "h",
         "type": "bar",
         "x": [
          0.03377618448957135,
          0.036460080170882675,
          0.036955847330658695,
          0.04368407545194223,
          0.04607427276320068,
          0.04778331066249917,
          0.04778331066249917,
          0.05200672033173335,
          0.06096972452770971,
          0.06595499947275225,
          0.0675523689791427,
          0.07384773994138057,
          0.09346050080581503,
          0.09964494485256087,
          0.12116941781397905
         ],
         "xaxis": "x5",
         "y": [
          "grande  ",
          "exemplo  ",
          "processos  ",
          "processo  ",
          "ramo  ",
          "outros  ",
          "podem  ",
          "muitas  ",
          "estudo  ",
          "além  ",
          "técnicas  ",
          "desenvolvimento  ",
          "sobre  ",
          "tipos  ",
          "estruturas  "
         ],
         "yaxis": "y5"
        },
        {
         "marker": {
          "color": "#009E73"
         },
         "orientation": "h",
         "type": "bar",
         "x": [
          0.029648856402695805,
          0.033277532585269796,
          0.03435659492920811,
          0.034609520587868495,
          0.037348052549807505,
          0.03842329198345516,
          0.04614602745049133,
          0.049055122258460614,
          0.049055122258460614,
          0.04915118611644274,
          0.05180901082820423,
          0.06077246636612228,
          0.07436966398434922,
          0.10480337113660951,
          0.13971298506519395
         ],
         "xaxis": "x6",
         "y": [
          "maior  ",
          "vez  ",
          "análise  ",
          "engenheiro  ",
          "engenharia  ",
          "produção  ",
          "pode  ",
          "forma  ",
          "áreas  ",
          "diversos  ",
          "podem  ",
          "uso  ",
          "estudo  ",
          "através  ",
          "água  "
         ],
         "yaxis": "y6"
        },
        {
         "marker": {
          "color": "#F0E442"
         },
         "orientation": "h",
         "type": "bar",
         "x": [
          0.037199476301592704,
          0.038882300907358426,
          0.03997105085400471,
          0.03997105085400471,
          0.041333482643702915,
          0.041775551991208505,
          0.044863043929771126,
          0.046317779830487966,
          0.04857540227255255,
          0.049600179172443505,
          0.05064319819386561,
          0.051230200441706016,
          0.05358959196060464,
          0.05839883109067842,
          0.06559823429795313
         ],
         "xaxis": "x7",
         "y": [
          "diversas  ",
          "pode  ",
          "exemplo  ",
          "maior  ",
          "áreas  ",
          "estudo  ",
          "assim  ",
          "cada  ",
          "desenvolvimento  ",
          "forma  ",
          "processos  ",
          "sobre  ",
          "tecnologia  ",
          "ainda  ",
          "área  "
         ],
         "yaxis": "y7"
        },
        {
         "marker": {
          "color": "#D55E00"
         },
         "orientation": "h",
         "type": "bar",
         "x": [
          0.02904848531651695,
          0.029603825419602058,
          0.029603825419602058,
          0.030280244716455566,
          0.03290849284083242,
          0.034338585580922426,
          0.03549716314951691,
          0.03845288695735815,
          0.03845288695735815,
          0.04037777401917991,
          0.04889954477281788,
          0.06867717116184485,
          0.07489420410127351,
          0.07785284949647185,
          0.1703432611266512
         ],
         "xaxis": "x8",
         "y": [
          "engenharia  ",
          "outro  ",
          "todos  ",
          "pois  ",
          "formação  ",
          "forma  ",
          "ciência  ",
          "técnicas  ",
          "grande  ",
          "engenheiro  ",
          "atuação  ",
          "áreas  ",
          "outras  ",
          "área  ",
          "produção  "
         ],
         "yaxis": "y8"
        },
        {
         "marker": {
          "color": "#0072B2"
         },
         "orientation": "h",
         "type": "bar",
         "x": [
          0.04276108116164742,
          0.04276108116164742,
          0.04276108116164742,
          0.043738131257102485,
          0.043738131257102485,
          0.04448213866232081,
          0.05238466650407316,
          0.052983926519063695,
          0.05839883109067842,
          0.05995657628100707,
          0.0672945658946567,
          0.06947666974573195,
          0.07183603518763833,
          0.10596785303812739,
          0.12289543198482505
         ],
         "xaxis": "x9",
         "y": [
          "outro  ",
          "muitas  ",
          "todos  ",
          "pois  ",
          "tais  ",
          "sistema  ",
          "podem  ",
          "ver  ",
          "ainda  ",
          "exemplo  ",
          "vez  ",
          "cada  ",
          "processo  ",
          "através  ",
          "tipos  "
         ],
         "yaxis": "y9"
        },
        {
         "marker": {
          "color": "#CC79A7"
         },
         "orientation": "h",
         "type": "bar",
         "x": [
          0.02162874622603969,
          0.025904505414102115,
          0.028510213869586857,
          0.03299499296380939,
          0.03603120498238788,
          0.04119952174002659,
          0.04137870873480839,
          0.04229117917086009,
          0.044473284604043706,
          0.04770062581108765,
          0.04779674113152003,
          0.049579775989566144,
          0.05071023307073844,
          0.0954450231828414,
          0.14330168934507423
         ],
         "xaxis": "x10",
         "y": [
          "pois  ",
          "outros  ",
          "controle  ",
          "sistema  ",
          "desenvolvimento  ",
          "grande  ",
          "parte  ",
          "todos  ",
          "maior  ",
          "sendo  ",
          "utilizados  ",
          "estudo  ",
          "ciência  ",
          "engenharia  ",
          "sistemas  "
         ],
         "yaxis": "y10"
        },
        {
         "marker": {
          "color": "#E69F00"
         },
         "orientation": "h",
         "type": "bar",
         "x": [
          0.03531633789147958,
          0.03788329093863167,
          0.03934902355622717,
          0.04276108116164742,
          0.04276108116164742,
          0.043738131257102485,
          0.043738131257102485,
          0.05238466650407316,
          0.056227057969674116,
          0.07869804711245434,
          0.08134449934972779,
          0.08193028798988337,
          0.0961604595868203,
          0.1153079760947735,
          0.14880053751733052
         ],
         "xaxis": "x11",
         "y": [
          "atuação  ",
          "ramo  ",
          "desde  ",
          "muitas  ",
          "outro  ",
          "pois  ",
          "tais  ",
          "outros  ",
          "área  ",
          "muitos  ",
          "além  ",
          "uso  ",
          "outras  ",
          "controle  ",
          "áreas  "
         ],
         "yaxis": "y11"
        },
        {
         "marker": {
          "color": "#56B4E9"
         },
         "orientation": "h",
         "type": "bar",
         "x": [
          0.00001,
          0.00001,
          0.00001,
          0.00001,
          0.00001,
          0.00001,
          0.00001,
          0.00001,
          0.00001,
          0.17030547809699043,
          0.18299054935172346,
          0.1927175666175227,
          0.20670271184804648,
          0.22703360073094014,
          0.3122704431806949
         ],
         "xaxis": "x12",
         "y": [
          "  ",
          "  ",
          "  ",
          "  ",
          "  ",
          "  ",
          "  ",
          "  ",
          "  ",
          "ver  ",
          "estruturas  ",
          "exemplo  ",
          "sendo  ",
          "água  ",
          "desenvolvimento  "
         ],
         "yaxis": "y12"
        },
        {
         "marker": {
          "color": "#009E73"
         },
         "orientation": "h",
         "type": "bar",
         "x": [
          0.02633606147307066,
          0.02689166340674648,
          0.028401325213051717,
          0.032506577501750816,
          0.03486551766111628,
          0.03592576655900634,
          0.03617523324947776,
          0.04033678153184751,
          0.04308933783176866,
          0.04688727943612778,
          0.048759866252626224,
          0.05081345628407931,
          0.05842087198994683,
          0.06369667864585644,
          0.20075665046803237
         ],
         "xaxis": "x13",
         "y": [
          "desenvolvimento  ",
          "forma  ",
          "outros  ",
          "exemplo  ",
          "tecnologia  ",
          "diversos  ",
          "sistema  ",
          "diversas  ",
          "ver  ",
          "controle  ",
          "maior  ",
          "artigo  ",
          "principal  ",
          "engenharia  ",
          "sistemas  "
         ],
         "yaxis": "y13"
        },
        {
         "marker": {
          "color": "#F0E442"
         },
         "orientation": "h",
         "type": "bar",
         "x": [
          0.030900565972036234,
          0.03842308668232207,
          0.03927038065865579,
          0.040167671562645134,
          0.04435528479728488,
          0.047048143262791234,
          0.04757169483665877,
          0.05363157957307201,
          0.055062161890720766,
          0.06427482394889864,
          0.06597186904987193,
          0.07706741002341232,
          0.07854076131731158,
          0.09570765730279401,
          0.10212735917369573
         ],
         "xaxis": "x14",
         "y": [
          "assim  ",
          "parte  ",
          "outro  ",
          "tais  ",
          "sistemas  ",
          "sobre  ",
          "produção  ",
          "ainda  ",
          "exemplo  ",
          "pode  ",
          "processo  ",
          "engenharia  ",
          "muitas  ",
          "análise  ",
          "sistema  "
         ],
         "yaxis": "y14"
        },
        {
         "marker": {
          "color": "#D55E00"
         },
         "orientation": "h",
         "type": "bar",
         "x": [
          0.00001,
          0.00001,
          0.00001,
          0.00001,
          0.00001,
          0.00001,
          0.00001,
          0.00001,
          0.00001,
          0.00001,
          0.00001,
          0.00001,
          0.00001,
          0.10498221244986777,
          0.3398672782032483
         ],
         "xaxis": "x15",
         "y": [
          "  ",
          "  ",
          "  ",
          "  ",
          "  ",
          "  ",
          "  ",
          "  ",
          "  ",
          "  ",
          "  ",
          "  ",
          "  ",
          "engenheiro  ",
          "engenharia  "
         ],
         "yaxis": "y15"
        },
        {
         "marker": {
          "color": "#0072B2"
         },
         "orientation": "h",
         "type": "bar",
         "x": [
          0.05639699518813149,
          0.058275326174906994,
          0.05893274981708231,
          0.05893274981708231,
          0.05960691733394666,
          0.062485941305707,
          0.06404669227310321,
          0.07130173448847024,
          0.07570638663148878,
          0.07691052015728664,
          0.08081553958609312,
          0.08369882167858358,
          0.0921715739886188,
          0.1349022966322659,
          0.19682159065696117
         ],
         "xaxis": "x16",
         "y": [
          "estudo  ",
          "produção  ",
          "outros  ",
          "podem  ",
          "através  ",
          "técnicas  ",
          "estruturas  ",
          "formação  ",
          "vez  ",
          "ciência  ",
          "processo  ",
          "diversas  ",
          "uso  ",
          "maior  ",
          "pois  "
         ],
         "yaxis": "y16"
        },
        {
         "marker": {
          "color": "#CC79A7"
         },
         "orientation": "h",
         "type": "bar",
         "x": [
          0.00001,
          0.017982395672129538,
          0.05314304911333232,
          0.05371142398869665,
          0.05488950047325644,
          0.061772130050771513,
          0.06423918887250757,
          0.06694471224727909,
          0.07324811443551107,
          0.07443928901328423,
          0.07696718055818393,
          0.09531886856211601,
          0.11353698539799362,
          0.17030547809699043,
          0.2756036157973953
         ],
         "xaxis": "x17",
         "y": [
          "  ",
          "engenharia  ",
          "forma  ",
          "estudo  ",
          "sobre  ",
          "controle  ",
          "exemplo  ",
          "artigo  ",
          "ciência  ",
          "análise  ",
          "principal  ",
          "sistema  ",
          "através  ",
          "ver  ",
          "tecnologia  "
         ],
         "yaxis": "y17"
        },
        {
         "marker": {
          "color": "#E69F00"
         },
         "orientation": "h",
         "type": "bar",
         "x": [
          0.00001,
          0.00001,
          0.00001,
          0.00001,
          0.00001,
          0.00001,
          0.00001,
          0.00001,
          0.00001,
          0.00001,
          0.00001,
          0.00001,
          0.00001,
          0.20996442489973555,
          1.1246711657542887
         ],
         "xaxis": "x18",
         "y": [
          "  ",
          "  ",
          "  ",
          "  ",
          "  ",
          "  ",
          "  ",
          "  ",
          "  ",
          "  ",
          "  ",
          "  ",
          "  ",
          "pode  ",
          "artigo  "
         ],
         "yaxis": "y18"
        },
        {
         "marker": {
          "color": "#56B4E9"
         },
         "orientation": "h",
         "type": "bar",
         "x": [
          0.038336630433868715,
          0.03881617713521407,
          0.039309537305036425,
          0.04143534397679914,
          0.042601180520995784,
          0.04815864257929033,
          0.0489791149006625,
          0.0516590330981341,
          0.05365775939485523,
          0.058310565220428295,
          0.058310565220428295,
          0.06586087742627149,
          0.06590156731770185,
          0.07225080888963231,
          0.38526914063432266
         ],
         "xaxis": "x19",
         "y": [
          "área  ",
          "estruturas  ",
          "controle  ",
          "processos  ",
          "artigo  ",
          "atuação  ",
          "principal  ",
          "ramo  ",
          "desde  ",
          "muitas  ",
          "todos  ",
          "sistemas  ",
          "utilizados  ",
          "ver  ",
          "água  "
         ],
         "yaxis": "y19"
        }
       ],
       "layout": {
        "annotations": [
         {
          "font": {
           "size": 16
          },
          "showarrow": false,
          "text": "Topic 0",
          "x": 0.0875,
          "xanchor": "center",
          "xref": "paper",
          "y": 0.9999999999999999,
          "yanchor": "bottom",
          "yref": "paper"
         },
         {
          "font": {
           "size": 16
          },
          "showarrow": false,
          "text": "Topic 1",
          "x": 0.36250000000000004,
          "xanchor": "center",
          "xref": "paper",
          "y": 0.9999999999999999,
          "yanchor": "bottom",
          "yref": "paper"
         },
         {
          "font": {
           "size": 16
          },
          "showarrow": false,
          "text": "Topic 2",
          "x": 0.6375000000000001,
          "xanchor": "center",
          "xref": "paper",
          "y": 0.9999999999999999,
          "yanchor": "bottom",
          "yref": "paper"
         },
         {
          "font": {
           "size": 16
          },
          "showarrow": false,
          "text": "Topic 3",
          "x": 0.9125,
          "xanchor": "center",
          "xref": "paper",
          "y": 0.9999999999999999,
          "yanchor": "bottom",
          "yref": "paper"
         },
         {
          "font": {
           "size": 16
          },
          "showarrow": false,
          "text": "Topic 4",
          "x": 0.0875,
          "xanchor": "center",
          "xref": "paper",
          "y": 0.7839999999999999,
          "yanchor": "bottom",
          "yref": "paper"
         },
         {
          "font": {
           "size": 16
          },
          "showarrow": false,
          "text": "Topic 5",
          "x": 0.36250000000000004,
          "xanchor": "center",
          "xref": "paper",
          "y": 0.7839999999999999,
          "yanchor": "bottom",
          "yref": "paper"
         },
         {
          "font": {
           "size": 16
          },
          "showarrow": false,
          "text": "Topic 6",
          "x": 0.6375000000000001,
          "xanchor": "center",
          "xref": "paper",
          "y": 0.7839999999999999,
          "yanchor": "bottom",
          "yref": "paper"
         },
         {
          "font": {
           "size": 16
          },
          "showarrow": false,
          "text": "Topic 7",
          "x": 0.9125,
          "xanchor": "center",
          "xref": "paper",
          "y": 0.7839999999999999,
          "yanchor": "bottom",
          "yref": "paper"
         },
         {
          "font": {
           "size": 16
          },
          "showarrow": false,
          "text": "Topic 8",
          "x": 0.0875,
          "xanchor": "center",
          "xref": "paper",
          "y": 0.568,
          "yanchor": "bottom",
          "yref": "paper"
         },
         {
          "font": {
           "size": 16
          },
          "showarrow": false,
          "text": "Topic 9",
          "x": 0.36250000000000004,
          "xanchor": "center",
          "xref": "paper",
          "y": 0.568,
          "yanchor": "bottom",
          "yref": "paper"
         },
         {
          "font": {
           "size": 16
          },
          "showarrow": false,
          "text": "Topic 10",
          "x": 0.6375000000000001,
          "xanchor": "center",
          "xref": "paper",
          "y": 0.568,
          "yanchor": "bottom",
          "yref": "paper"
         },
         {
          "font": {
           "size": 16
          },
          "showarrow": false,
          "text": "Topic 11",
          "x": 0.9125,
          "xanchor": "center",
          "xref": "paper",
          "y": 0.568,
          "yanchor": "bottom",
          "yref": "paper"
         },
         {
          "font": {
           "size": 16
          },
          "showarrow": false,
          "text": "Topic 12",
          "x": 0.0875,
          "xanchor": "center",
          "xref": "paper",
          "y": 0.352,
          "yanchor": "bottom",
          "yref": "paper"
         },
         {
          "font": {
           "size": 16
          },
          "showarrow": false,
          "text": "Topic 13",
          "x": 0.36250000000000004,
          "xanchor": "center",
          "xref": "paper",
          "y": 0.352,
          "yanchor": "bottom",
          "yref": "paper"
         },
         {
          "font": {
           "size": 16
          },
          "showarrow": false,
          "text": "Topic 14",
          "x": 0.6375000000000001,
          "xanchor": "center",
          "xref": "paper",
          "y": 0.352,
          "yanchor": "bottom",
          "yref": "paper"
         },
         {
          "font": {
           "size": 16
          },
          "showarrow": false,
          "text": "Topic 15",
          "x": 0.9125,
          "xanchor": "center",
          "xref": "paper",
          "y": 0.352,
          "yanchor": "bottom",
          "yref": "paper"
         },
         {
          "font": {
           "size": 16
          },
          "showarrow": false,
          "text": "Topic 16",
          "x": 0.0875,
          "xanchor": "center",
          "xref": "paper",
          "y": 0.13599999999999998,
          "yanchor": "bottom",
          "yref": "paper"
         },
         {
          "font": {
           "size": 16
          },
          "showarrow": false,
          "text": "Topic 17",
          "x": 0.36250000000000004,
          "xanchor": "center",
          "xref": "paper",
          "y": 0.13599999999999998,
          "yanchor": "bottom",
          "yref": "paper"
         },
         {
          "font": {
           "size": 16
          },
          "showarrow": false,
          "text": "Topic 18",
          "x": 0.6375000000000001,
          "xanchor": "center",
          "xref": "paper",
          "y": 0.13599999999999998,
          "yanchor": "bottom",
          "yref": "paper"
         }
        ],
        "height": 1250,
        "hoverlabel": {
         "bgcolor": "white",
         "font": {
          "family": "Rockwell",
          "size": 16
         }
        },
        "showlegend": false,
        "template": {
         "data": {
          "bar": [
           {
            "error_x": {
             "color": "#2a3f5f"
            },
            "error_y": {
             "color": "#2a3f5f"
            },
            "marker": {
             "line": {
              "color": "white",
              "width": 0.5
             },
             "pattern": {
              "fillmode": "overlay",
              "size": 10,
              "solidity": 0.2
             }
            },
            "type": "bar"
           }
          ],
          "barpolar": [
           {
            "marker": {
             "line": {
              "color": "white",
              "width": 0.5
             },
             "pattern": {
              "fillmode": "overlay",
              "size": 10,
              "solidity": 0.2
             }
            },
            "type": "barpolar"
           }
          ],
          "carpet": [
           {
            "aaxis": {
             "endlinecolor": "#2a3f5f",
             "gridcolor": "#C8D4E3",
             "linecolor": "#C8D4E3",
             "minorgridcolor": "#C8D4E3",
             "startlinecolor": "#2a3f5f"
            },
            "baxis": {
             "endlinecolor": "#2a3f5f",
             "gridcolor": "#C8D4E3",
             "linecolor": "#C8D4E3",
             "minorgridcolor": "#C8D4E3",
             "startlinecolor": "#2a3f5f"
            },
            "type": "carpet"
           }
          ],
          "choropleth": [
           {
            "colorbar": {
             "outlinewidth": 0,
             "ticks": ""
            },
            "type": "choropleth"
           }
          ],
          "contour": [
           {
            "colorbar": {
             "outlinewidth": 0,
             "ticks": ""
            },
            "colorscale": [
             [
              0,
              "#0d0887"
             ],
             [
              0.1111111111111111,
              "#46039f"
             ],
             [
              0.2222222222222222,
              "#7201a8"
             ],
             [
              0.3333333333333333,
              "#9c179e"
             ],
             [
              0.4444444444444444,
              "#bd3786"
             ],
             [
              0.5555555555555556,
              "#d8576b"
             ],
             [
              0.6666666666666666,
              "#ed7953"
             ],
             [
              0.7777777777777778,
              "#fb9f3a"
             ],
             [
              0.8888888888888888,
              "#fdca26"
             ],
             [
              1,
              "#f0f921"
             ]
            ],
            "type": "contour"
           }
          ],
          "contourcarpet": [
           {
            "colorbar": {
             "outlinewidth": 0,
             "ticks": ""
            },
            "type": "contourcarpet"
           }
          ],
          "heatmap": [
           {
            "colorbar": {
             "outlinewidth": 0,
             "ticks": ""
            },
            "colorscale": [
             [
              0,
              "#0d0887"
             ],
             [
              0.1111111111111111,
              "#46039f"
             ],
             [
              0.2222222222222222,
              "#7201a8"
             ],
             [
              0.3333333333333333,
              "#9c179e"
             ],
             [
              0.4444444444444444,
              "#bd3786"
             ],
             [
              0.5555555555555556,
              "#d8576b"
             ],
             [
              0.6666666666666666,
              "#ed7953"
             ],
             [
              0.7777777777777778,
              "#fb9f3a"
             ],
             [
              0.8888888888888888,
              "#fdca26"
             ],
             [
              1,
              "#f0f921"
             ]
            ],
            "type": "heatmap"
           }
          ],
          "heatmapgl": [
           {
            "colorbar": {
             "outlinewidth": 0,
             "ticks": ""
            },
            "colorscale": [
             [
              0,
              "#0d0887"
             ],
             [
              0.1111111111111111,
              "#46039f"
             ],
             [
              0.2222222222222222,
              "#7201a8"
             ],
             [
              0.3333333333333333,
              "#9c179e"
             ],
             [
              0.4444444444444444,
              "#bd3786"
             ],
             [
              0.5555555555555556,
              "#d8576b"
             ],
             [
              0.6666666666666666,
              "#ed7953"
             ],
             [
              0.7777777777777778,
              "#fb9f3a"
             ],
             [
              0.8888888888888888,
              "#fdca26"
             ],
             [
              1,
              "#f0f921"
             ]
            ],
            "type": "heatmapgl"
           }
          ],
          "histogram": [
           {
            "marker": {
             "pattern": {
              "fillmode": "overlay",
              "size": 10,
              "solidity": 0.2
             }
            },
            "type": "histogram"
           }
          ],
          "histogram2d": [
           {
            "colorbar": {
             "outlinewidth": 0,
             "ticks": ""
            },
            "colorscale": [
             [
              0,
              "#0d0887"
             ],
             [
              0.1111111111111111,
              "#46039f"
             ],
             [
              0.2222222222222222,
              "#7201a8"
             ],
             [
              0.3333333333333333,
              "#9c179e"
             ],
             [
              0.4444444444444444,
              "#bd3786"
             ],
             [
              0.5555555555555556,
              "#d8576b"
             ],
             [
              0.6666666666666666,
              "#ed7953"
             ],
             [
              0.7777777777777778,
              "#fb9f3a"
             ],
             [
              0.8888888888888888,
              "#fdca26"
             ],
             [
              1,
              "#f0f921"
             ]
            ],
            "type": "histogram2d"
           }
          ],
          "histogram2dcontour": [
           {
            "colorbar": {
             "outlinewidth": 0,
             "ticks": ""
            },
            "colorscale": [
             [
              0,
              "#0d0887"
             ],
             [
              0.1111111111111111,
              "#46039f"
             ],
             [
              0.2222222222222222,
              "#7201a8"
             ],
             [
              0.3333333333333333,
              "#9c179e"
             ],
             [
              0.4444444444444444,
              "#bd3786"
             ],
             [
              0.5555555555555556,
              "#d8576b"
             ],
             [
              0.6666666666666666,
              "#ed7953"
             ],
             [
              0.7777777777777778,
              "#fb9f3a"
             ],
             [
              0.8888888888888888,
              "#fdca26"
             ],
             [
              1,
              "#f0f921"
             ]
            ],
            "type": "histogram2dcontour"
           }
          ],
          "mesh3d": [
           {
            "colorbar": {
             "outlinewidth": 0,
             "ticks": ""
            },
            "type": "mesh3d"
           }
          ],
          "parcoords": [
           {
            "line": {
             "colorbar": {
              "outlinewidth": 0,
              "ticks": ""
             }
            },
            "type": "parcoords"
           }
          ],
          "pie": [
           {
            "automargin": true,
            "type": "pie"
           }
          ],
          "scatter": [
           {
            "fillpattern": {
             "fillmode": "overlay",
             "size": 10,
             "solidity": 0.2
            },
            "type": "scatter"
           }
          ],
          "scatter3d": [
           {
            "line": {
             "colorbar": {
              "outlinewidth": 0,
              "ticks": ""
             }
            },
            "marker": {
             "colorbar": {
              "outlinewidth": 0,
              "ticks": ""
             }
            },
            "type": "scatter3d"
           }
          ],
          "scattercarpet": [
           {
            "marker": {
             "colorbar": {
              "outlinewidth": 0,
              "ticks": ""
             }
            },
            "type": "scattercarpet"
           }
          ],
          "scattergeo": [
           {
            "marker": {
             "colorbar": {
              "outlinewidth": 0,
              "ticks": ""
             }
            },
            "type": "scattergeo"
           }
          ],
          "scattergl": [
           {
            "marker": {
             "colorbar": {
              "outlinewidth": 0,
              "ticks": ""
             }
            },
            "type": "scattergl"
           }
          ],
          "scattermapbox": [
           {
            "marker": {
             "colorbar": {
              "outlinewidth": 0,
              "ticks": ""
             }
            },
            "type": "scattermapbox"
           }
          ],
          "scatterpolar": [
           {
            "marker": {
             "colorbar": {
              "outlinewidth": 0,
              "ticks": ""
             }
            },
            "type": "scatterpolar"
           }
          ],
          "scatterpolargl": [
           {
            "marker": {
             "colorbar": {
              "outlinewidth": 0,
              "ticks": ""
             }
            },
            "type": "scatterpolargl"
           }
          ],
          "scatterternary": [
           {
            "marker": {
             "colorbar": {
              "outlinewidth": 0,
              "ticks": ""
             }
            },
            "type": "scatterternary"
           }
          ],
          "surface": [
           {
            "colorbar": {
             "outlinewidth": 0,
             "ticks": ""
            },
            "colorscale": [
             [
              0,
              "#0d0887"
             ],
             [
              0.1111111111111111,
              "#46039f"
             ],
             [
              0.2222222222222222,
              "#7201a8"
             ],
             [
              0.3333333333333333,
              "#9c179e"
             ],
             [
              0.4444444444444444,
              "#bd3786"
             ],
             [
              0.5555555555555556,
              "#d8576b"
             ],
             [
              0.6666666666666666,
              "#ed7953"
             ],
             [
              0.7777777777777778,
              "#fb9f3a"
             ],
             [
              0.8888888888888888,
              "#fdca26"
             ],
             [
              1,
              "#f0f921"
             ]
            ],
            "type": "surface"
           }
          ],
          "table": [
           {
            "cells": {
             "fill": {
              "color": "#EBF0F8"
             },
             "line": {
              "color": "white"
             }
            },
            "header": {
             "fill": {
              "color": "#C8D4E3"
             },
             "line": {
              "color": "white"
             }
            },
            "type": "table"
           }
          ]
         },
         "layout": {
          "annotationdefaults": {
           "arrowcolor": "#2a3f5f",
           "arrowhead": 0,
           "arrowwidth": 1
          },
          "autotypenumbers": "strict",
          "coloraxis": {
           "colorbar": {
            "outlinewidth": 0,
            "ticks": ""
           }
          },
          "colorscale": {
           "diverging": [
            [
             0,
             "#8e0152"
            ],
            [
             0.1,
             "#c51b7d"
            ],
            [
             0.2,
             "#de77ae"
            ],
            [
             0.3,
             "#f1b6da"
            ],
            [
             0.4,
             "#fde0ef"
            ],
            [
             0.5,
             "#f7f7f7"
            ],
            [
             0.6,
             "#e6f5d0"
            ],
            [
             0.7,
             "#b8e186"
            ],
            [
             0.8,
             "#7fbc41"
            ],
            [
             0.9,
             "#4d9221"
            ],
            [
             1,
             "#276419"
            ]
           ],
           "sequential": [
            [
             0,
             "#0d0887"
            ],
            [
             0.1111111111111111,
             "#46039f"
            ],
            [
             0.2222222222222222,
             "#7201a8"
            ],
            [
             0.3333333333333333,
             "#9c179e"
            ],
            [
             0.4444444444444444,
             "#bd3786"
            ],
            [
             0.5555555555555556,
             "#d8576b"
            ],
            [
             0.6666666666666666,
             "#ed7953"
            ],
            [
             0.7777777777777778,
             "#fb9f3a"
            ],
            [
             0.8888888888888888,
             "#fdca26"
            ],
            [
             1,
             "#f0f921"
            ]
           ],
           "sequentialminus": [
            [
             0,
             "#0d0887"
            ],
            [
             0.1111111111111111,
             "#46039f"
            ],
            [
             0.2222222222222222,
             "#7201a8"
            ],
            [
             0.3333333333333333,
             "#9c179e"
            ],
            [
             0.4444444444444444,
             "#bd3786"
            ],
            [
             0.5555555555555556,
             "#d8576b"
            ],
            [
             0.6666666666666666,
             "#ed7953"
            ],
            [
             0.7777777777777778,
             "#fb9f3a"
            ],
            [
             0.8888888888888888,
             "#fdca26"
            ],
            [
             1,
             "#f0f921"
            ]
           ]
          },
          "colorway": [
           "#636efa",
           "#EF553B",
           "#00cc96",
           "#ab63fa",
           "#FFA15A",
           "#19d3f3",
           "#FF6692",
           "#B6E880",
           "#FF97FF",
           "#FECB52"
          ],
          "font": {
           "color": "#2a3f5f"
          },
          "geo": {
           "bgcolor": "white",
           "lakecolor": "white",
           "landcolor": "white",
           "showlakes": true,
           "showland": true,
           "subunitcolor": "#C8D4E3"
          },
          "hoverlabel": {
           "align": "left"
          },
          "hovermode": "closest",
          "mapbox": {
           "style": "light"
          },
          "paper_bgcolor": "white",
          "plot_bgcolor": "white",
          "polar": {
           "angularaxis": {
            "gridcolor": "#EBF0F8",
            "linecolor": "#EBF0F8",
            "ticks": ""
           },
           "bgcolor": "white",
           "radialaxis": {
            "gridcolor": "#EBF0F8",
            "linecolor": "#EBF0F8",
            "ticks": ""
           }
          },
          "scene": {
           "xaxis": {
            "backgroundcolor": "white",
            "gridcolor": "#DFE8F3",
            "gridwidth": 2,
            "linecolor": "#EBF0F8",
            "showbackground": true,
            "ticks": "",
            "zerolinecolor": "#EBF0F8"
           },
           "yaxis": {
            "backgroundcolor": "white",
            "gridcolor": "#DFE8F3",
            "gridwidth": 2,
            "linecolor": "#EBF0F8",
            "showbackground": true,
            "ticks": "",
            "zerolinecolor": "#EBF0F8"
           },
           "zaxis": {
            "backgroundcolor": "white",
            "gridcolor": "#DFE8F3",
            "gridwidth": 2,
            "linecolor": "#EBF0F8",
            "showbackground": true,
            "ticks": "",
            "zerolinecolor": "#EBF0F8"
           }
          },
          "shapedefaults": {
           "line": {
            "color": "#2a3f5f"
           }
          },
          "ternary": {
           "aaxis": {
            "gridcolor": "#DFE8F3",
            "linecolor": "#A2B1C6",
            "ticks": ""
           },
           "baxis": {
            "gridcolor": "#DFE8F3",
            "linecolor": "#A2B1C6",
            "ticks": ""
           },
           "bgcolor": "white",
           "caxis": {
            "gridcolor": "#DFE8F3",
            "linecolor": "#A2B1C6",
            "ticks": ""
           }
          },
          "title": {
           "x": 0.05
          },
          "xaxis": {
           "automargin": true,
           "gridcolor": "#EBF0F8",
           "linecolor": "#EBF0F8",
           "ticks": "",
           "title": {
            "standoff": 15
           },
           "zerolinecolor": "#EBF0F8",
           "zerolinewidth": 2
          },
          "yaxis": {
           "automargin": true,
           "gridcolor": "#EBF0F8",
           "linecolor": "#EBF0F8",
           "ticks": "",
           "title": {
            "standoff": 15
           },
           "zerolinecolor": "#EBF0F8",
           "zerolinewidth": 2
          }
         }
        },
        "title": {
         "font": {
          "color": "Black",
          "size": 22
         },
         "text": "Topic Word Scores",
         "x": 0.5,
         "xanchor": "center",
         "yanchor": "top"
        },
        "width": 1000,
        "xaxis": {
         "anchor": "y",
         "domain": [
          0,
          0.175
         ],
         "showgrid": true
        },
        "xaxis10": {
         "anchor": "y10",
         "domain": [
          0.275,
          0.45
         ],
         "showgrid": true
        },
        "xaxis11": {
         "anchor": "y11",
         "domain": [
          0.55,
          0.7250000000000001
         ],
         "showgrid": true
        },
        "xaxis12": {
         "anchor": "y12",
         "domain": [
          0.825,
          1
         ],
         "showgrid": true
        },
        "xaxis13": {
         "anchor": "y13",
         "domain": [
          0,
          0.175
         ],
         "showgrid": true
        },
        "xaxis14": {
         "anchor": "y14",
         "domain": [
          0.275,
          0.45
         ],
         "showgrid": true
        },
        "xaxis15": {
         "anchor": "y15",
         "domain": [
          0.55,
          0.7250000000000001
         ],
         "showgrid": true
        },
        "xaxis16": {
         "anchor": "y16",
         "domain": [
          0.825,
          1
         ],
         "showgrid": true
        },
        "xaxis17": {
         "anchor": "y17",
         "domain": [
          0,
          0.175
         ],
         "showgrid": true
        },
        "xaxis18": {
         "anchor": "y18",
         "domain": [
          0.275,
          0.45
         ],
         "showgrid": true
        },
        "xaxis19": {
         "anchor": "y19",
         "domain": [
          0.55,
          0.7250000000000001
         ],
         "showgrid": true
        },
        "xaxis2": {
         "anchor": "y2",
         "domain": [
          0.275,
          0.45
         ],
         "showgrid": true
        },
        "xaxis20": {
         "anchor": "y20",
         "domain": [
          0.825,
          1
         ],
         "showgrid": true
        },
        "xaxis3": {
         "anchor": "y3",
         "domain": [
          0.55,
          0.7250000000000001
         ],
         "showgrid": true
        },
        "xaxis4": {
         "anchor": "y4",
         "domain": [
          0.825,
          1
         ],
         "showgrid": true
        },
        "xaxis5": {
         "anchor": "y5",
         "domain": [
          0,
          0.175
         ],
         "showgrid": true
        },
        "xaxis6": {
         "anchor": "y6",
         "domain": [
          0.275,
          0.45
         ],
         "showgrid": true
        },
        "xaxis7": {
         "anchor": "y7",
         "domain": [
          0.55,
          0.7250000000000001
         ],
         "showgrid": true
        },
        "xaxis8": {
         "anchor": "y8",
         "domain": [
          0.825,
          1
         ],
         "showgrid": true
        },
        "xaxis9": {
         "anchor": "y9",
         "domain": [
          0,
          0.175
         ],
         "showgrid": true
        },
        "yaxis": {
         "anchor": "x",
         "domain": [
          0.8639999999999999,
          0.9999999999999999
         ],
         "showgrid": true
        },
        "yaxis10": {
         "anchor": "x10",
         "domain": [
          0.43199999999999994,
          0.568
         ],
         "showgrid": true
        },
        "yaxis11": {
         "anchor": "x11",
         "domain": [
          0.43199999999999994,
          0.568
         ],
         "showgrid": true
        },
        "yaxis12": {
         "anchor": "x12",
         "domain": [
          0.43199999999999994,
          0.568
         ],
         "showgrid": true
        },
        "yaxis13": {
         "anchor": "x13",
         "domain": [
          0.21599999999999997,
          0.352
         ],
         "showgrid": true
        },
        "yaxis14": {
         "anchor": "x14",
         "domain": [
          0.21599999999999997,
          0.352
         ],
         "showgrid": true
        },
        "yaxis15": {
         "anchor": "x15",
         "domain": [
          0.21599999999999997,
          0.352
         ],
         "showgrid": true
        },
        "yaxis16": {
         "anchor": "x16",
         "domain": [
          0.21599999999999997,
          0.352
         ],
         "showgrid": true
        },
        "yaxis17": {
         "anchor": "x17",
         "domain": [
          0,
          0.13599999999999998
         ],
         "showgrid": true
        },
        "yaxis18": {
         "anchor": "x18",
         "domain": [
          0,
          0.13599999999999998
         ],
         "showgrid": true
        },
        "yaxis19": {
         "anchor": "x19",
         "domain": [
          0,
          0.13599999999999998
         ],
         "showgrid": true
        },
        "yaxis2": {
         "anchor": "x2",
         "domain": [
          0.8639999999999999,
          0.9999999999999999
         ],
         "showgrid": true
        },
        "yaxis20": {
         "anchor": "x20",
         "domain": [
          0,
          0.13599999999999998
         ],
         "showgrid": true
        },
        "yaxis3": {
         "anchor": "x3",
         "domain": [
          0.8639999999999999,
          0.9999999999999999
         ],
         "showgrid": true
        },
        "yaxis4": {
         "anchor": "x4",
         "domain": [
          0.8639999999999999,
          0.9999999999999999
         ],
         "showgrid": true
        },
        "yaxis5": {
         "anchor": "x5",
         "domain": [
          0.6479999999999999,
          0.7839999999999999
         ],
         "showgrid": true
        },
        "yaxis6": {
         "anchor": "x6",
         "domain": [
          0.6479999999999999,
          0.7839999999999999
         ],
         "showgrid": true
        },
        "yaxis7": {
         "anchor": "x7",
         "domain": [
          0.6479999999999999,
          0.7839999999999999
         ],
         "showgrid": true
        },
        "yaxis8": {
         "anchor": "x8",
         "domain": [
          0.6479999999999999,
          0.7839999999999999
         ],
         "showgrid": true
        },
        "yaxis9": {
         "anchor": "x9",
         "domain": [
          0.43199999999999994,
          0.568
         ],
         "showgrid": true
        }
       }
      },
      "text/html": [
       "<div>                        <script type=\"text/javascript\">window.PlotlyConfig = {MathJaxConfig: 'local'};</script>\n",
       "        <script charset=\"utf-8\" src=\"https://cdn.plot.ly/plotly-2.35.2.min.js\"></script>                <div id=\"cc0c74ab-7246-455b-9c6e-c8d0175aac3c\" class=\"plotly-graph-div\" style=\"height:1250px; width:1000px;\"></div>            <script type=\"text/javascript\">                                    window.PLOTLYENV=window.PLOTLYENV || {};                                    if (document.getElementById(\"cc0c74ab-7246-455b-9c6e-c8d0175aac3c\")) {                    Plotly.newPlot(                        \"cc0c74ab-7246-455b-9c6e-c8d0175aac3c\",                        [{\"marker\":{\"color\":\"#D55E00\"},\"orientation\":\"h\",\"x\":[0.02988462297513939,0.031623675272138295,0.03332768649202151,0.03445045197467441,0.0351330567466314,0.035428699408888216,0.0357445757107935,0.03605066030070894,0.03848359027909196,0.04019219397045348,0.04337089488620763,0.045741250394380366,0.04883207629034072,0.059941318907098466,0.06149920042391321],\"y\":[\"parte  \",\"sistemas  \",\"engenheiro  \",\"sendo  \",\"desde  \",\"\\u00e1reas  \",\"sistema  \",\"vez  \",\"processo  \",\"tecnologia  \",\"desenvolvimento  \",\"sobre  \",\"ci\\u00eancia  \",\"engenharia  \",\"ver  \"],\"type\":\"bar\",\"xaxis\":\"x\",\"yaxis\":\"y\"},{\"marker\":{\"color\":\"#0072B2\"},\"orientation\":\"h\",\"x\":[0.026816867917492677,0.030897559498744197,0.03276745741096183,0.032783617158431255,0.03372539655269167,0.03380850868436633,0.035618694944390406,0.03582542233626856,0.03776622826169104,0.0387095392859415,0.03970799641467832,0.045989177117306816,0.049892874271777,0.06345078774442557,0.07780844281209896],\"y\":[\"al\\u00e9m  \",\"artigo  \",\"diversos  \",\"ramo  \",\"\\u00e1reas  \",\"processos  \",\"outros  \",\"sistemas  \",\"t\\u00e9cnicas  \",\"estruturas  \",\"ainda  \",\"forma  \",\"controle  \",\"engenheiro  \",\"engenharia  \"],\"type\":\"bar\",\"xaxis\":\"x2\",\"yaxis\":\"y2\"},{\"marker\":{\"color\":\"#CC79A7\"},\"orientation\":\"h\",\"x\":[0.0349593273442212,0.034986339132256974,0.034986339132256974,0.035888996937901846,0.03673433617549687,0.03817534998177009,0.04238205539993236,0.042923458019357326,0.04335048533377938,0.051428070645695614,0.0526152357431391,0.053262886522734997,0.05900755474645791,0.07500531794901384,0.08188757344654511],\"y\":[\"ci\\u00eancia  \",\"muitas  \",\"todos  \",\"estudo  \",\"principal  \",\"pode  \",\"produ\\u00e7\\u00e3o  \",\"exemplo  \",\"atrav\\u00e9s  \",\"processo  \",\"sendo  \",\"diversas  \",\"outras  \",\"podem  \",\"sistema  \"],\"type\":\"bar\",\"xaxis\":\"x3\",\"yaxis\":\"y3\"},{\"marker\":{\"color\":\"#E69F00\"},\"orientation\":\"h\",\"x\":[0.032506577501750816,0.03648500560553676,0.03894724799329789,0.04033749511011971,0.04166311481705007,0.04536701801045257,0.046367437404195994,0.05229827649167441,0.07021123635530963,0.0711403339723956,0.0758907559878562,0.08617867566353732,0.10308684504357142,0.11377302125612786,0.15067229583411748],\"y\":[\"exemplo  \",\"assim  \",\"processo  \",\"forma  \",\"sobre  \",\"parte  \",\"todos  \",\"sendo  \",\"produ\\u00e7\\u00e3o  \",\"pois  \",\"pode  \",\"atrav\\u00e9s  \",\"forma\\u00e7\\u00e3o  \",\"maior  \",\"cada  \"],\"type\":\"bar\",\"xaxis\":\"x4\",\"yaxis\":\"y4\"},{\"marker\":{\"color\":\"#56B4E9\"},\"orientation\":\"h\",\"x\":[0.03377618448957135,0.036460080170882675,0.036955847330658695,0.04368407545194223,0.04607427276320068,0.04778331066249917,0.04778331066249917,0.05200672033173335,0.06096972452770971,0.06595499947275225,0.0675523689791427,0.07384773994138057,0.09346050080581503,0.09964494485256087,0.12116941781397905],\"y\":[\"grande  \",\"exemplo  \",\"processos  \",\"processo  \",\"ramo  \",\"outros  \",\"podem  \",\"muitas  \",\"estudo  \",\"al\\u00e9m  \",\"t\\u00e9cnicas  \",\"desenvolvimento  \",\"sobre  \",\"tipos  \",\"estruturas  \"],\"type\":\"bar\",\"xaxis\":\"x5\",\"yaxis\":\"y5\"},{\"marker\":{\"color\":\"#009E73\"},\"orientation\":\"h\",\"x\":[0.029648856402695805,0.033277532585269796,0.03435659492920811,0.034609520587868495,0.037348052549807505,0.03842329198345516,0.04614602745049133,0.049055122258460614,0.049055122258460614,0.04915118611644274,0.05180901082820423,0.06077246636612228,0.07436966398434922,0.10480337113660951,0.13971298506519395],\"y\":[\"maior  \",\"vez  \",\"an\\u00e1lise  \",\"engenheiro  \",\"engenharia  \",\"produ\\u00e7\\u00e3o  \",\"pode  \",\"forma  \",\"\\u00e1reas  \",\"diversos  \",\"podem  \",\"uso  \",\"estudo  \",\"atrav\\u00e9s  \",\"\\u00e1gua  \"],\"type\":\"bar\",\"xaxis\":\"x6\",\"yaxis\":\"y6\"},{\"marker\":{\"color\":\"#F0E442\"},\"orientation\":\"h\",\"x\":[0.037199476301592704,0.038882300907358426,0.03997105085400471,0.03997105085400471,0.041333482643702915,0.041775551991208505,0.044863043929771126,0.046317779830487966,0.04857540227255255,0.049600179172443505,0.05064319819386561,0.051230200441706016,0.05358959196060464,0.05839883109067842,0.06559823429795313],\"y\":[\"diversas  \",\"pode  \",\"exemplo  \",\"maior  \",\"\\u00e1reas  \",\"estudo  \",\"assim  \",\"cada  \",\"desenvolvimento  \",\"forma  \",\"processos  \",\"sobre  \",\"tecnologia  \",\"ainda  \",\"\\u00e1rea  \"],\"type\":\"bar\",\"xaxis\":\"x7\",\"yaxis\":\"y7\"},{\"marker\":{\"color\":\"#D55E00\"},\"orientation\":\"h\",\"x\":[0.02904848531651695,0.029603825419602058,0.029603825419602058,0.030280244716455566,0.03290849284083242,0.034338585580922426,0.03549716314951691,0.03845288695735815,0.03845288695735815,0.04037777401917991,0.04889954477281788,0.06867717116184485,0.07489420410127351,0.07785284949647185,0.1703432611266512],\"y\":[\"engenharia  \",\"outro  \",\"todos  \",\"pois  \",\"forma\\u00e7\\u00e3o  \",\"forma  \",\"ci\\u00eancia  \",\"t\\u00e9cnicas  \",\"grande  \",\"engenheiro  \",\"atua\\u00e7\\u00e3o  \",\"\\u00e1reas  \",\"outras  \",\"\\u00e1rea  \",\"produ\\u00e7\\u00e3o  \"],\"type\":\"bar\",\"xaxis\":\"x8\",\"yaxis\":\"y8\"},{\"marker\":{\"color\":\"#0072B2\"},\"orientation\":\"h\",\"x\":[0.04276108116164742,0.04276108116164742,0.04276108116164742,0.043738131257102485,0.043738131257102485,0.04448213866232081,0.05238466650407316,0.052983926519063695,0.05839883109067842,0.05995657628100707,0.0672945658946567,0.06947666974573195,0.07183603518763833,0.10596785303812739,0.12289543198482505],\"y\":[\"outro  \",\"muitas  \",\"todos  \",\"pois  \",\"tais  \",\"sistema  \",\"podem  \",\"ver  \",\"ainda  \",\"exemplo  \",\"vez  \",\"cada  \",\"processo  \",\"atrav\\u00e9s  \",\"tipos  \"],\"type\":\"bar\",\"xaxis\":\"x9\",\"yaxis\":\"y9\"},{\"marker\":{\"color\":\"#CC79A7\"},\"orientation\":\"h\",\"x\":[0.02162874622603969,0.025904505414102115,0.028510213869586857,0.03299499296380939,0.03603120498238788,0.04119952174002659,0.04137870873480839,0.04229117917086009,0.044473284604043706,0.04770062581108765,0.04779674113152003,0.049579775989566144,0.05071023307073844,0.0954450231828414,0.14330168934507423],\"y\":[\"pois  \",\"outros  \",\"controle  \",\"sistema  \",\"desenvolvimento  \",\"grande  \",\"parte  \",\"todos  \",\"maior  \",\"sendo  \",\"utilizados  \",\"estudo  \",\"ci\\u00eancia  \",\"engenharia  \",\"sistemas  \"],\"type\":\"bar\",\"xaxis\":\"x10\",\"yaxis\":\"y10\"},{\"marker\":{\"color\":\"#E69F00\"},\"orientation\":\"h\",\"x\":[0.03531633789147958,0.03788329093863167,0.03934902355622717,0.04276108116164742,0.04276108116164742,0.043738131257102485,0.043738131257102485,0.05238466650407316,0.056227057969674116,0.07869804711245434,0.08134449934972779,0.08193028798988337,0.0961604595868203,0.1153079760947735,0.14880053751733052],\"y\":[\"atua\\u00e7\\u00e3o  \",\"ramo  \",\"desde  \",\"muitas  \",\"outro  \",\"pois  \",\"tais  \",\"outros  \",\"\\u00e1rea  \",\"muitos  \",\"al\\u00e9m  \",\"uso  \",\"outras  \",\"controle  \",\"\\u00e1reas  \"],\"type\":\"bar\",\"xaxis\":\"x11\",\"yaxis\":\"y11\"},{\"marker\":{\"color\":\"#56B4E9\"},\"orientation\":\"h\",\"x\":[1e-05,1e-05,1e-05,1e-05,1e-05,1e-05,1e-05,1e-05,1e-05,0.17030547809699043,0.18299054935172346,0.1927175666175227,0.20670271184804648,0.22703360073094014,0.3122704431806949],\"y\":[\"  \",\"  \",\"  \",\"  \",\"  \",\"  \",\"  \",\"  \",\"  \",\"ver  \",\"estruturas  \",\"exemplo  \",\"sendo  \",\"\\u00e1gua  \",\"desenvolvimento  \"],\"type\":\"bar\",\"xaxis\":\"x12\",\"yaxis\":\"y12\"},{\"marker\":{\"color\":\"#009E73\"},\"orientation\":\"h\",\"x\":[0.02633606147307066,0.02689166340674648,0.028401325213051717,0.032506577501750816,0.03486551766111628,0.03592576655900634,0.03617523324947776,0.04033678153184751,0.04308933783176866,0.04688727943612778,0.048759866252626224,0.05081345628407931,0.05842087198994683,0.06369667864585644,0.20075665046803237],\"y\":[\"desenvolvimento  \",\"forma  \",\"outros  \",\"exemplo  \",\"tecnologia  \",\"diversos  \",\"sistema  \",\"diversas  \",\"ver  \",\"controle  \",\"maior  \",\"artigo  \",\"principal  \",\"engenharia  \",\"sistemas  \"],\"type\":\"bar\",\"xaxis\":\"x13\",\"yaxis\":\"y13\"},{\"marker\":{\"color\":\"#F0E442\"},\"orientation\":\"h\",\"x\":[0.030900565972036234,0.03842308668232207,0.03927038065865579,0.040167671562645134,0.04435528479728488,0.047048143262791234,0.04757169483665877,0.05363157957307201,0.055062161890720766,0.06427482394889864,0.06597186904987193,0.07706741002341232,0.07854076131731158,0.09570765730279401,0.10212735917369573],\"y\":[\"assim  \",\"parte  \",\"outro  \",\"tais  \",\"sistemas  \",\"sobre  \",\"produ\\u00e7\\u00e3o  \",\"ainda  \",\"exemplo  \",\"pode  \",\"processo  \",\"engenharia  \",\"muitas  \",\"an\\u00e1lise  \",\"sistema  \"],\"type\":\"bar\",\"xaxis\":\"x14\",\"yaxis\":\"y14\"},{\"marker\":{\"color\":\"#D55E00\"},\"orientation\":\"h\",\"x\":[1e-05,1e-05,1e-05,1e-05,1e-05,1e-05,1e-05,1e-05,1e-05,1e-05,1e-05,1e-05,1e-05,0.10498221244986777,0.3398672782032483],\"y\":[\"  \",\"  \",\"  \",\"  \",\"  \",\"  \",\"  \",\"  \",\"  \",\"  \",\"  \",\"  \",\"  \",\"engenheiro  \",\"engenharia  \"],\"type\":\"bar\",\"xaxis\":\"x15\",\"yaxis\":\"y15\"},{\"marker\":{\"color\":\"#0072B2\"},\"orientation\":\"h\",\"x\":[0.05639699518813149,0.058275326174906994,0.05893274981708231,0.05893274981708231,0.05960691733394666,0.062485941305707,0.06404669227310321,0.07130173448847024,0.07570638663148878,0.07691052015728664,0.08081553958609312,0.08369882167858358,0.0921715739886188,0.1349022966322659,0.19682159065696117],\"y\":[\"estudo  \",\"produ\\u00e7\\u00e3o  \",\"outros  \",\"podem  \",\"atrav\\u00e9s  \",\"t\\u00e9cnicas  \",\"estruturas  \",\"forma\\u00e7\\u00e3o  \",\"vez  \",\"ci\\u00eancia  \",\"processo  \",\"diversas  \",\"uso  \",\"maior  \",\"pois  \"],\"type\":\"bar\",\"xaxis\":\"x16\",\"yaxis\":\"y16\"},{\"marker\":{\"color\":\"#CC79A7\"},\"orientation\":\"h\",\"x\":[1e-05,0.017982395672129538,0.05314304911333232,0.05371142398869665,0.05488950047325644,0.061772130050771513,0.06423918887250757,0.06694471224727909,0.07324811443551107,0.07443928901328423,0.07696718055818393,0.09531886856211601,0.11353698539799362,0.17030547809699043,0.2756036157973953],\"y\":[\"  \",\"engenharia  \",\"forma  \",\"estudo  \",\"sobre  \",\"controle  \",\"exemplo  \",\"artigo  \",\"ci\\u00eancia  \",\"an\\u00e1lise  \",\"principal  \",\"sistema  \",\"atrav\\u00e9s  \",\"ver  \",\"tecnologia  \"],\"type\":\"bar\",\"xaxis\":\"x17\",\"yaxis\":\"y17\"},{\"marker\":{\"color\":\"#E69F00\"},\"orientation\":\"h\",\"x\":[1e-05,1e-05,1e-05,1e-05,1e-05,1e-05,1e-05,1e-05,1e-05,1e-05,1e-05,1e-05,1e-05,0.20996442489973555,1.1246711657542887],\"y\":[\"  \",\"  \",\"  \",\"  \",\"  \",\"  \",\"  \",\"  \",\"  \",\"  \",\"  \",\"  \",\"  \",\"pode  \",\"artigo  \"],\"type\":\"bar\",\"xaxis\":\"x18\",\"yaxis\":\"y18\"},{\"marker\":{\"color\":\"#56B4E9\"},\"orientation\":\"h\",\"x\":[0.038336630433868715,0.03881617713521407,0.039309537305036425,0.04143534397679914,0.042601180520995784,0.04815864257929033,0.0489791149006625,0.0516590330981341,0.05365775939485523,0.058310565220428295,0.058310565220428295,0.06586087742627149,0.06590156731770185,0.07225080888963231,0.38526914063432266],\"y\":[\"\\u00e1rea  \",\"estruturas  \",\"controle  \",\"processos  \",\"artigo  \",\"atua\\u00e7\\u00e3o  \",\"principal  \",\"ramo  \",\"desde  \",\"muitas  \",\"todos  \",\"sistemas  \",\"utilizados  \",\"ver  \",\"\\u00e1gua  \"],\"type\":\"bar\",\"xaxis\":\"x19\",\"yaxis\":\"y19\"}],                        {\"template\":{\"data\":{\"barpolar\":[{\"marker\":{\"line\":{\"color\":\"white\",\"width\":0.5},\"pattern\":{\"fillmode\":\"overlay\",\"size\":10,\"solidity\":0.2}},\"type\":\"barpolar\"}],\"bar\":[{\"error_x\":{\"color\":\"#2a3f5f\"},\"error_y\":{\"color\":\"#2a3f5f\"},\"marker\":{\"line\":{\"color\":\"white\",\"width\":0.5},\"pattern\":{\"fillmode\":\"overlay\",\"size\":10,\"solidity\":0.2}},\"type\":\"bar\"}],\"carpet\":[{\"aaxis\":{\"endlinecolor\":\"#2a3f5f\",\"gridcolor\":\"#C8D4E3\",\"linecolor\":\"#C8D4E3\",\"minorgridcolor\":\"#C8D4E3\",\"startlinecolor\":\"#2a3f5f\"},\"baxis\":{\"endlinecolor\":\"#2a3f5f\",\"gridcolor\":\"#C8D4E3\",\"linecolor\":\"#C8D4E3\",\"minorgridcolor\":\"#C8D4E3\",\"startlinecolor\":\"#2a3f5f\"},\"type\":\"carpet\"}],\"choropleth\":[{\"colorbar\":{\"outlinewidth\":0,\"ticks\":\"\"},\"type\":\"choropleth\"}],\"contourcarpet\":[{\"colorbar\":{\"outlinewidth\":0,\"ticks\":\"\"},\"type\":\"contourcarpet\"}],\"contour\":[{\"colorbar\":{\"outlinewidth\":0,\"ticks\":\"\"},\"colorscale\":[[0.0,\"#0d0887\"],[0.1111111111111111,\"#46039f\"],[0.2222222222222222,\"#7201a8\"],[0.3333333333333333,\"#9c179e\"],[0.4444444444444444,\"#bd3786\"],[0.5555555555555556,\"#d8576b\"],[0.6666666666666666,\"#ed7953\"],[0.7777777777777778,\"#fb9f3a\"],[0.8888888888888888,\"#fdca26\"],[1.0,\"#f0f921\"]],\"type\":\"contour\"}],\"heatmapgl\":[{\"colorbar\":{\"outlinewidth\":0,\"ticks\":\"\"},\"colorscale\":[[0.0,\"#0d0887\"],[0.1111111111111111,\"#46039f\"],[0.2222222222222222,\"#7201a8\"],[0.3333333333333333,\"#9c179e\"],[0.4444444444444444,\"#bd3786\"],[0.5555555555555556,\"#d8576b\"],[0.6666666666666666,\"#ed7953\"],[0.7777777777777778,\"#fb9f3a\"],[0.8888888888888888,\"#fdca26\"],[1.0,\"#f0f921\"]],\"type\":\"heatmapgl\"}],\"heatmap\":[{\"colorbar\":{\"outlinewidth\":0,\"ticks\":\"\"},\"colorscale\":[[0.0,\"#0d0887\"],[0.1111111111111111,\"#46039f\"],[0.2222222222222222,\"#7201a8\"],[0.3333333333333333,\"#9c179e\"],[0.4444444444444444,\"#bd3786\"],[0.5555555555555556,\"#d8576b\"],[0.6666666666666666,\"#ed7953\"],[0.7777777777777778,\"#fb9f3a\"],[0.8888888888888888,\"#fdca26\"],[1.0,\"#f0f921\"]],\"type\":\"heatmap\"}],\"histogram2dcontour\":[{\"colorbar\":{\"outlinewidth\":0,\"ticks\":\"\"},\"colorscale\":[[0.0,\"#0d0887\"],[0.1111111111111111,\"#46039f\"],[0.2222222222222222,\"#7201a8\"],[0.3333333333333333,\"#9c179e\"],[0.4444444444444444,\"#bd3786\"],[0.5555555555555556,\"#d8576b\"],[0.6666666666666666,\"#ed7953\"],[0.7777777777777778,\"#fb9f3a\"],[0.8888888888888888,\"#fdca26\"],[1.0,\"#f0f921\"]],\"type\":\"histogram2dcontour\"}],\"histogram2d\":[{\"colorbar\":{\"outlinewidth\":0,\"ticks\":\"\"},\"colorscale\":[[0.0,\"#0d0887\"],[0.1111111111111111,\"#46039f\"],[0.2222222222222222,\"#7201a8\"],[0.3333333333333333,\"#9c179e\"],[0.4444444444444444,\"#bd3786\"],[0.5555555555555556,\"#d8576b\"],[0.6666666666666666,\"#ed7953\"],[0.7777777777777778,\"#fb9f3a\"],[0.8888888888888888,\"#fdca26\"],[1.0,\"#f0f921\"]],\"type\":\"histogram2d\"}],\"histogram\":[{\"marker\":{\"pattern\":{\"fillmode\":\"overlay\",\"size\":10,\"solidity\":0.2}},\"type\":\"histogram\"}],\"mesh3d\":[{\"colorbar\":{\"outlinewidth\":0,\"ticks\":\"\"},\"type\":\"mesh3d\"}],\"parcoords\":[{\"line\":{\"colorbar\":{\"outlinewidth\":0,\"ticks\":\"\"}},\"type\":\"parcoords\"}],\"pie\":[{\"automargin\":true,\"type\":\"pie\"}],\"scatter3d\":[{\"line\":{\"colorbar\":{\"outlinewidth\":0,\"ticks\":\"\"}},\"marker\":{\"colorbar\":{\"outlinewidth\":0,\"ticks\":\"\"}},\"type\":\"scatter3d\"}],\"scattercarpet\":[{\"marker\":{\"colorbar\":{\"outlinewidth\":0,\"ticks\":\"\"}},\"type\":\"scattercarpet\"}],\"scattergeo\":[{\"marker\":{\"colorbar\":{\"outlinewidth\":0,\"ticks\":\"\"}},\"type\":\"scattergeo\"}],\"scattergl\":[{\"marker\":{\"colorbar\":{\"outlinewidth\":0,\"ticks\":\"\"}},\"type\":\"scattergl\"}],\"scattermapbox\":[{\"marker\":{\"colorbar\":{\"outlinewidth\":0,\"ticks\":\"\"}},\"type\":\"scattermapbox\"}],\"scatterpolargl\":[{\"marker\":{\"colorbar\":{\"outlinewidth\":0,\"ticks\":\"\"}},\"type\":\"scatterpolargl\"}],\"scatterpolar\":[{\"marker\":{\"colorbar\":{\"outlinewidth\":0,\"ticks\":\"\"}},\"type\":\"scatterpolar\"}],\"scatter\":[{\"fillpattern\":{\"fillmode\":\"overlay\",\"size\":10,\"solidity\":0.2},\"type\":\"scatter\"}],\"scatterternary\":[{\"marker\":{\"colorbar\":{\"outlinewidth\":0,\"ticks\":\"\"}},\"type\":\"scatterternary\"}],\"surface\":[{\"colorbar\":{\"outlinewidth\":0,\"ticks\":\"\"},\"colorscale\":[[0.0,\"#0d0887\"],[0.1111111111111111,\"#46039f\"],[0.2222222222222222,\"#7201a8\"],[0.3333333333333333,\"#9c179e\"],[0.4444444444444444,\"#bd3786\"],[0.5555555555555556,\"#d8576b\"],[0.6666666666666666,\"#ed7953\"],[0.7777777777777778,\"#fb9f3a\"],[0.8888888888888888,\"#fdca26\"],[1.0,\"#f0f921\"]],\"type\":\"surface\"}],\"table\":[{\"cells\":{\"fill\":{\"color\":\"#EBF0F8\"},\"line\":{\"color\":\"white\"}},\"header\":{\"fill\":{\"color\":\"#C8D4E3\"},\"line\":{\"color\":\"white\"}},\"type\":\"table\"}]},\"layout\":{\"annotationdefaults\":{\"arrowcolor\":\"#2a3f5f\",\"arrowhead\":0,\"arrowwidth\":1},\"autotypenumbers\":\"strict\",\"coloraxis\":{\"colorbar\":{\"outlinewidth\":0,\"ticks\":\"\"}},\"colorscale\":{\"diverging\":[[0,\"#8e0152\"],[0.1,\"#c51b7d\"],[0.2,\"#de77ae\"],[0.3,\"#f1b6da\"],[0.4,\"#fde0ef\"],[0.5,\"#f7f7f7\"],[0.6,\"#e6f5d0\"],[0.7,\"#b8e186\"],[0.8,\"#7fbc41\"],[0.9,\"#4d9221\"],[1,\"#276419\"]],\"sequential\":[[0.0,\"#0d0887\"],[0.1111111111111111,\"#46039f\"],[0.2222222222222222,\"#7201a8\"],[0.3333333333333333,\"#9c179e\"],[0.4444444444444444,\"#bd3786\"],[0.5555555555555556,\"#d8576b\"],[0.6666666666666666,\"#ed7953\"],[0.7777777777777778,\"#fb9f3a\"],[0.8888888888888888,\"#fdca26\"],[1.0,\"#f0f921\"]],\"sequentialminus\":[[0.0,\"#0d0887\"],[0.1111111111111111,\"#46039f\"],[0.2222222222222222,\"#7201a8\"],[0.3333333333333333,\"#9c179e\"],[0.4444444444444444,\"#bd3786\"],[0.5555555555555556,\"#d8576b\"],[0.6666666666666666,\"#ed7953\"],[0.7777777777777778,\"#fb9f3a\"],[0.8888888888888888,\"#fdca26\"],[1.0,\"#f0f921\"]]},\"colorway\":[\"#636efa\",\"#EF553B\",\"#00cc96\",\"#ab63fa\",\"#FFA15A\",\"#19d3f3\",\"#FF6692\",\"#B6E880\",\"#FF97FF\",\"#FECB52\"],\"font\":{\"color\":\"#2a3f5f\"},\"geo\":{\"bgcolor\":\"white\",\"lakecolor\":\"white\",\"landcolor\":\"white\",\"showlakes\":true,\"showland\":true,\"subunitcolor\":\"#C8D4E3\"},\"hoverlabel\":{\"align\":\"left\"},\"hovermode\":\"closest\",\"mapbox\":{\"style\":\"light\"},\"paper_bgcolor\":\"white\",\"plot_bgcolor\":\"white\",\"polar\":{\"angularaxis\":{\"gridcolor\":\"#EBF0F8\",\"linecolor\":\"#EBF0F8\",\"ticks\":\"\"},\"bgcolor\":\"white\",\"radialaxis\":{\"gridcolor\":\"#EBF0F8\",\"linecolor\":\"#EBF0F8\",\"ticks\":\"\"}},\"scene\":{\"xaxis\":{\"backgroundcolor\":\"white\",\"gridcolor\":\"#DFE8F3\",\"gridwidth\":2,\"linecolor\":\"#EBF0F8\",\"showbackground\":true,\"ticks\":\"\",\"zerolinecolor\":\"#EBF0F8\"},\"yaxis\":{\"backgroundcolor\":\"white\",\"gridcolor\":\"#DFE8F3\",\"gridwidth\":2,\"linecolor\":\"#EBF0F8\",\"showbackground\":true,\"ticks\":\"\",\"zerolinecolor\":\"#EBF0F8\"},\"zaxis\":{\"backgroundcolor\":\"white\",\"gridcolor\":\"#DFE8F3\",\"gridwidth\":2,\"linecolor\":\"#EBF0F8\",\"showbackground\":true,\"ticks\":\"\",\"zerolinecolor\":\"#EBF0F8\"}},\"shapedefaults\":{\"line\":{\"color\":\"#2a3f5f\"}},\"ternary\":{\"aaxis\":{\"gridcolor\":\"#DFE8F3\",\"linecolor\":\"#A2B1C6\",\"ticks\":\"\"},\"baxis\":{\"gridcolor\":\"#DFE8F3\",\"linecolor\":\"#A2B1C6\",\"ticks\":\"\"},\"bgcolor\":\"white\",\"caxis\":{\"gridcolor\":\"#DFE8F3\",\"linecolor\":\"#A2B1C6\",\"ticks\":\"\"}},\"title\":{\"x\":0.05},\"xaxis\":{\"automargin\":true,\"gridcolor\":\"#EBF0F8\",\"linecolor\":\"#EBF0F8\",\"ticks\":\"\",\"title\":{\"standoff\":15},\"zerolinecolor\":\"#EBF0F8\",\"zerolinewidth\":2},\"yaxis\":{\"automargin\":true,\"gridcolor\":\"#EBF0F8\",\"linecolor\":\"#EBF0F8\",\"ticks\":\"\",\"title\":{\"standoff\":15},\"zerolinecolor\":\"#EBF0F8\",\"zerolinewidth\":2}}},\"xaxis\":{\"anchor\":\"y\",\"domain\":[0.0,0.175],\"showgrid\":true},\"yaxis\":{\"anchor\":\"x\",\"domain\":[0.8639999999999999,0.9999999999999999],\"showgrid\":true},\"xaxis2\":{\"anchor\":\"y2\",\"domain\":[0.275,0.45],\"showgrid\":true},\"yaxis2\":{\"anchor\":\"x2\",\"domain\":[0.8639999999999999,0.9999999999999999],\"showgrid\":true},\"xaxis3\":{\"anchor\":\"y3\",\"domain\":[0.55,0.7250000000000001],\"showgrid\":true},\"yaxis3\":{\"anchor\":\"x3\",\"domain\":[0.8639999999999999,0.9999999999999999],\"showgrid\":true},\"xaxis4\":{\"anchor\":\"y4\",\"domain\":[0.825,1.0],\"showgrid\":true},\"yaxis4\":{\"anchor\":\"x4\",\"domain\":[0.8639999999999999,0.9999999999999999],\"showgrid\":true},\"xaxis5\":{\"anchor\":\"y5\",\"domain\":[0.0,0.175],\"showgrid\":true},\"yaxis5\":{\"anchor\":\"x5\",\"domain\":[0.6479999999999999,0.7839999999999999],\"showgrid\":true},\"xaxis6\":{\"anchor\":\"y6\",\"domain\":[0.275,0.45],\"showgrid\":true},\"yaxis6\":{\"anchor\":\"x6\",\"domain\":[0.6479999999999999,0.7839999999999999],\"showgrid\":true},\"xaxis7\":{\"anchor\":\"y7\",\"domain\":[0.55,0.7250000000000001],\"showgrid\":true},\"yaxis7\":{\"anchor\":\"x7\",\"domain\":[0.6479999999999999,0.7839999999999999],\"showgrid\":true},\"xaxis8\":{\"anchor\":\"y8\",\"domain\":[0.825,1.0],\"showgrid\":true},\"yaxis8\":{\"anchor\":\"x8\",\"domain\":[0.6479999999999999,0.7839999999999999],\"showgrid\":true},\"xaxis9\":{\"anchor\":\"y9\",\"domain\":[0.0,0.175],\"showgrid\":true},\"yaxis9\":{\"anchor\":\"x9\",\"domain\":[0.43199999999999994,0.568],\"showgrid\":true},\"xaxis10\":{\"anchor\":\"y10\",\"domain\":[0.275,0.45],\"showgrid\":true},\"yaxis10\":{\"anchor\":\"x10\",\"domain\":[0.43199999999999994,0.568],\"showgrid\":true},\"xaxis11\":{\"anchor\":\"y11\",\"domain\":[0.55,0.7250000000000001],\"showgrid\":true},\"yaxis11\":{\"anchor\":\"x11\",\"domain\":[0.43199999999999994,0.568],\"showgrid\":true},\"xaxis12\":{\"anchor\":\"y12\",\"domain\":[0.825,1.0],\"showgrid\":true},\"yaxis12\":{\"anchor\":\"x12\",\"domain\":[0.43199999999999994,0.568],\"showgrid\":true},\"xaxis13\":{\"anchor\":\"y13\",\"domain\":[0.0,0.175],\"showgrid\":true},\"yaxis13\":{\"anchor\":\"x13\",\"domain\":[0.21599999999999997,0.352],\"showgrid\":true},\"xaxis14\":{\"anchor\":\"y14\",\"domain\":[0.275,0.45],\"showgrid\":true},\"yaxis14\":{\"anchor\":\"x14\",\"domain\":[0.21599999999999997,0.352],\"showgrid\":true},\"xaxis15\":{\"anchor\":\"y15\",\"domain\":[0.55,0.7250000000000001],\"showgrid\":true},\"yaxis15\":{\"anchor\":\"x15\",\"domain\":[0.21599999999999997,0.352],\"showgrid\":true},\"xaxis16\":{\"anchor\":\"y16\",\"domain\":[0.825,1.0],\"showgrid\":true},\"yaxis16\":{\"anchor\":\"x16\",\"domain\":[0.21599999999999997,0.352],\"showgrid\":true},\"xaxis17\":{\"anchor\":\"y17\",\"domain\":[0.0,0.175],\"showgrid\":true},\"yaxis17\":{\"anchor\":\"x17\",\"domain\":[0.0,0.13599999999999998],\"showgrid\":true},\"xaxis18\":{\"anchor\":\"y18\",\"domain\":[0.275,0.45],\"showgrid\":true},\"yaxis18\":{\"anchor\":\"x18\",\"domain\":[0.0,0.13599999999999998],\"showgrid\":true},\"xaxis19\":{\"anchor\":\"y19\",\"domain\":[0.55,0.7250000000000001],\"showgrid\":true},\"yaxis19\":{\"anchor\":\"x19\",\"domain\":[0.0,0.13599999999999998],\"showgrid\":true},\"xaxis20\":{\"anchor\":\"y20\",\"domain\":[0.825,1.0],\"showgrid\":true},\"yaxis20\":{\"anchor\":\"x20\",\"domain\":[0.0,0.13599999999999998],\"showgrid\":true},\"annotations\":[{\"font\":{\"size\":16},\"showarrow\":false,\"text\":\"Topic 0\",\"x\":0.0875,\"xanchor\":\"center\",\"xref\":\"paper\",\"y\":0.9999999999999999,\"yanchor\":\"bottom\",\"yref\":\"paper\"},{\"font\":{\"size\":16},\"showarrow\":false,\"text\":\"Topic 1\",\"x\":0.36250000000000004,\"xanchor\":\"center\",\"xref\":\"paper\",\"y\":0.9999999999999999,\"yanchor\":\"bottom\",\"yref\":\"paper\"},{\"font\":{\"size\":16},\"showarrow\":false,\"text\":\"Topic 2\",\"x\":0.6375000000000001,\"xanchor\":\"center\",\"xref\":\"paper\",\"y\":0.9999999999999999,\"yanchor\":\"bottom\",\"yref\":\"paper\"},{\"font\":{\"size\":16},\"showarrow\":false,\"text\":\"Topic 3\",\"x\":0.9125,\"xanchor\":\"center\",\"xref\":\"paper\",\"y\":0.9999999999999999,\"yanchor\":\"bottom\",\"yref\":\"paper\"},{\"font\":{\"size\":16},\"showarrow\":false,\"text\":\"Topic 4\",\"x\":0.0875,\"xanchor\":\"center\",\"xref\":\"paper\",\"y\":0.7839999999999999,\"yanchor\":\"bottom\",\"yref\":\"paper\"},{\"font\":{\"size\":16},\"showarrow\":false,\"text\":\"Topic 5\",\"x\":0.36250000000000004,\"xanchor\":\"center\",\"xref\":\"paper\",\"y\":0.7839999999999999,\"yanchor\":\"bottom\",\"yref\":\"paper\"},{\"font\":{\"size\":16},\"showarrow\":false,\"text\":\"Topic 6\",\"x\":0.6375000000000001,\"xanchor\":\"center\",\"xref\":\"paper\",\"y\":0.7839999999999999,\"yanchor\":\"bottom\",\"yref\":\"paper\"},{\"font\":{\"size\":16},\"showarrow\":false,\"text\":\"Topic 7\",\"x\":0.9125,\"xanchor\":\"center\",\"xref\":\"paper\",\"y\":0.7839999999999999,\"yanchor\":\"bottom\",\"yref\":\"paper\"},{\"font\":{\"size\":16},\"showarrow\":false,\"text\":\"Topic 8\",\"x\":0.0875,\"xanchor\":\"center\",\"xref\":\"paper\",\"y\":0.568,\"yanchor\":\"bottom\",\"yref\":\"paper\"},{\"font\":{\"size\":16},\"showarrow\":false,\"text\":\"Topic 9\",\"x\":0.36250000000000004,\"xanchor\":\"center\",\"xref\":\"paper\",\"y\":0.568,\"yanchor\":\"bottom\",\"yref\":\"paper\"},{\"font\":{\"size\":16},\"showarrow\":false,\"text\":\"Topic 10\",\"x\":0.6375000000000001,\"xanchor\":\"center\",\"xref\":\"paper\",\"y\":0.568,\"yanchor\":\"bottom\",\"yref\":\"paper\"},{\"font\":{\"size\":16},\"showarrow\":false,\"text\":\"Topic 11\",\"x\":0.9125,\"xanchor\":\"center\",\"xref\":\"paper\",\"y\":0.568,\"yanchor\":\"bottom\",\"yref\":\"paper\"},{\"font\":{\"size\":16},\"showarrow\":false,\"text\":\"Topic 12\",\"x\":0.0875,\"xanchor\":\"center\",\"xref\":\"paper\",\"y\":0.352,\"yanchor\":\"bottom\",\"yref\":\"paper\"},{\"font\":{\"size\":16},\"showarrow\":false,\"text\":\"Topic 13\",\"x\":0.36250000000000004,\"xanchor\":\"center\",\"xref\":\"paper\",\"y\":0.352,\"yanchor\":\"bottom\",\"yref\":\"paper\"},{\"font\":{\"size\":16},\"showarrow\":false,\"text\":\"Topic 14\",\"x\":0.6375000000000001,\"xanchor\":\"center\",\"xref\":\"paper\",\"y\":0.352,\"yanchor\":\"bottom\",\"yref\":\"paper\"},{\"font\":{\"size\":16},\"showarrow\":false,\"text\":\"Topic 15\",\"x\":0.9125,\"xanchor\":\"center\",\"xref\":\"paper\",\"y\":0.352,\"yanchor\":\"bottom\",\"yref\":\"paper\"},{\"font\":{\"size\":16},\"showarrow\":false,\"text\":\"Topic 16\",\"x\":0.0875,\"xanchor\":\"center\",\"xref\":\"paper\",\"y\":0.13599999999999998,\"yanchor\":\"bottom\",\"yref\":\"paper\"},{\"font\":{\"size\":16},\"showarrow\":false,\"text\":\"Topic 17\",\"x\":0.36250000000000004,\"xanchor\":\"center\",\"xref\":\"paper\",\"y\":0.13599999999999998,\"yanchor\":\"bottom\",\"yref\":\"paper\"},{\"font\":{\"size\":16},\"showarrow\":false,\"text\":\"Topic 18\",\"x\":0.6375000000000001,\"xanchor\":\"center\",\"xref\":\"paper\",\"y\":0.13599999999999998,\"yanchor\":\"bottom\",\"yref\":\"paper\"}],\"title\":{\"font\":{\"size\":22,\"color\":\"Black\"},\"text\":\"Topic Word Scores\",\"x\":0.5,\"xanchor\":\"center\",\"yanchor\":\"top\"},\"hoverlabel\":{\"font\":{\"size\":16,\"family\":\"Rockwell\"},\"bgcolor\":\"white\"},\"showlegend\":false,\"width\":1000,\"height\":1250},                        {\"responsive\": true}                    )                };                            </script>        </div>"
      ],
      "text/plain": [
       "Figure({\n",
       "    'data': [{'marker': {'color': '#D55E00'},\n",
       "              'orientation': 'h',\n",
       "              'type': 'bar',\n",
       "              'x': [0.02988462297513939, 0.031623675272138295,\n",
       "                    0.03332768649202151, 0.03445045197467441, 0.0351330567466314,\n",
       "                    0.035428699408888216, 0.0357445757107935, 0.03605066030070894,\n",
       "                    0.03848359027909196, 0.04019219397045348, 0.04337089488620763,\n",
       "                    0.045741250394380366, 0.04883207629034072,\n",
       "                    0.059941318907098466, 0.06149920042391321],\n",
       "              'xaxis': 'x',\n",
       "              'y': [parte  , sistemas  , engenheiro  , sendo  , desde  , áreas  ,\n",
       "                    sistema  , vez  , processo  , tecnologia  , desenvolvimento  ,\n",
       "                    sobre  , ciência  , engenharia  , ver  ],\n",
       "              'yaxis': 'y'},\n",
       "             {'marker': {'color': '#0072B2'},\n",
       "              'orientation': 'h',\n",
       "              'type': 'bar',\n",
       "              'x': [0.026816867917492677, 0.030897559498744197,\n",
       "                    0.03276745741096183, 0.032783617158431255, 0.03372539655269167,\n",
       "                    0.03380850868436633, 0.035618694944390406, 0.03582542233626856,\n",
       "                    0.03776622826169104, 0.0387095392859415, 0.03970799641467832,\n",
       "                    0.045989177117306816, 0.049892874271777, 0.06345078774442557,\n",
       "                    0.07780844281209896],\n",
       "              'xaxis': 'x2',\n",
       "              'y': [além  , artigo  , diversos  , ramo  , áreas  , processos  ,\n",
       "                    outros  , sistemas  , técnicas  , estruturas  , ainda  , forma\n",
       "                    , controle  , engenheiro  , engenharia  ],\n",
       "              'yaxis': 'y2'},\n",
       "             {'marker': {'color': '#CC79A7'},\n",
       "              'orientation': 'h',\n",
       "              'type': 'bar',\n",
       "              'x': [0.0349593273442212, 0.034986339132256974,\n",
       "                    0.034986339132256974, 0.035888996937901846,\n",
       "                    0.03673433617549687, 0.03817534998177009, 0.04238205539993236,\n",
       "                    0.042923458019357326, 0.04335048533377938,\n",
       "                    0.051428070645695614, 0.0526152357431391, 0.053262886522734997,\n",
       "                    0.05900755474645791, 0.07500531794901384, 0.08188757344654511],\n",
       "              'xaxis': 'x3',\n",
       "              'y': [ciência  , muitas  , todos  , estudo  , principal  , pode  ,\n",
       "                    produção  , exemplo  , através  , processo  , sendo  , diversas\n",
       "                    , outras  , podem  , sistema  ],\n",
       "              'yaxis': 'y3'},\n",
       "             {'marker': {'color': '#E69F00'},\n",
       "              'orientation': 'h',\n",
       "              'type': 'bar',\n",
       "              'x': [0.032506577501750816, 0.03648500560553676,\n",
       "                    0.03894724799329789, 0.04033749511011971, 0.04166311481705007,\n",
       "                    0.04536701801045257, 0.046367437404195994, 0.05229827649167441,\n",
       "                    0.07021123635530963, 0.0711403339723956, 0.0758907559878562,\n",
       "                    0.08617867566353732, 0.10308684504357142, 0.11377302125612786,\n",
       "                    0.15067229583411748],\n",
       "              'xaxis': 'x4',\n",
       "              'y': [exemplo  , assim  , processo  , forma  , sobre  , parte  ,\n",
       "                    todos  , sendo  , produção  , pois  , pode  , através  ,\n",
       "                    formação  , maior  , cada  ],\n",
       "              'yaxis': 'y4'},\n",
       "             {'marker': {'color': '#56B4E9'},\n",
       "              'orientation': 'h',\n",
       "              'type': 'bar',\n",
       "              'x': [0.03377618448957135, 0.036460080170882675,\n",
       "                    0.036955847330658695, 0.04368407545194223, 0.04607427276320068,\n",
       "                    0.04778331066249917, 0.04778331066249917, 0.05200672033173335,\n",
       "                    0.06096972452770971, 0.06595499947275225, 0.0675523689791427,\n",
       "                    0.07384773994138057, 0.09346050080581503, 0.09964494485256087,\n",
       "                    0.12116941781397905],\n",
       "              'xaxis': 'x5',\n",
       "              'y': [grande  , exemplo  , processos  , processo  , ramo  , outros\n",
       "                    , podem  , muitas  , estudo  , além  , técnicas  ,\n",
       "                    desenvolvimento  , sobre  , tipos  , estruturas  ],\n",
       "              'yaxis': 'y5'},\n",
       "             {'marker': {'color': '#009E73'},\n",
       "              'orientation': 'h',\n",
       "              'type': 'bar',\n",
       "              'x': [0.029648856402695805, 0.033277532585269796,\n",
       "                    0.03435659492920811, 0.034609520587868495,\n",
       "                    0.037348052549807505, 0.03842329198345516, 0.04614602745049133,\n",
       "                    0.049055122258460614, 0.049055122258460614,\n",
       "                    0.04915118611644274, 0.05180901082820423, 0.06077246636612228,\n",
       "                    0.07436966398434922, 0.10480337113660951, 0.13971298506519395],\n",
       "              'xaxis': 'x6',\n",
       "              'y': [maior  , vez  , análise  , engenheiro  , engenharia  ,\n",
       "                    produção  , pode  , forma  , áreas  , diversos  , podem  , uso\n",
       "                    , estudo  , através  , água  ],\n",
       "              'yaxis': 'y6'},\n",
       "             {'marker': {'color': '#F0E442'},\n",
       "              'orientation': 'h',\n",
       "              'type': 'bar',\n",
       "              'x': [0.037199476301592704, 0.038882300907358426,\n",
       "                    0.03997105085400471, 0.03997105085400471, 0.041333482643702915,\n",
       "                    0.041775551991208505, 0.044863043929771126,\n",
       "                    0.046317779830487966, 0.04857540227255255,\n",
       "                    0.049600179172443505, 0.05064319819386561,\n",
       "                    0.051230200441706016, 0.05358959196060464, 0.05839883109067842,\n",
       "                    0.06559823429795313],\n",
       "              'xaxis': 'x7',\n",
       "              'y': [diversas  , pode  , exemplo  , maior  , áreas  , estudo  ,\n",
       "                    assim  , cada  , desenvolvimento  , forma  , processos  , sobre\n",
       "                    , tecnologia  , ainda  , área  ],\n",
       "              'yaxis': 'y7'},\n",
       "             {'marker': {'color': '#D55E00'},\n",
       "              'orientation': 'h',\n",
       "              'type': 'bar',\n",
       "              'x': [0.02904848531651695, 0.029603825419602058,\n",
       "                    0.029603825419602058, 0.030280244716455566,\n",
       "                    0.03290849284083242, 0.034338585580922426, 0.03549716314951691,\n",
       "                    0.03845288695735815, 0.03845288695735815, 0.04037777401917991,\n",
       "                    0.04889954477281788, 0.06867717116184485, 0.07489420410127351,\n",
       "                    0.07785284949647185, 0.1703432611266512],\n",
       "              'xaxis': 'x8',\n",
       "              'y': [engenharia  , outro  , todos  , pois  , formação  , forma  ,\n",
       "                    ciência  , técnicas  , grande  , engenheiro  , atuação  , áreas\n",
       "                    , outras  , área  , produção  ],\n",
       "              'yaxis': 'y8'},\n",
       "             {'marker': {'color': '#0072B2'},\n",
       "              'orientation': 'h',\n",
       "              'type': 'bar',\n",
       "              'x': [0.04276108116164742, 0.04276108116164742, 0.04276108116164742,\n",
       "                    0.043738131257102485, 0.043738131257102485,\n",
       "                    0.04448213866232081, 0.05238466650407316, 0.052983926519063695,\n",
       "                    0.05839883109067842, 0.05995657628100707, 0.0672945658946567,\n",
       "                    0.06947666974573195, 0.07183603518763833, 0.10596785303812739,\n",
       "                    0.12289543198482505],\n",
       "              'xaxis': 'x9',\n",
       "              'y': [outro  , muitas  , todos  , pois  , tais  , sistema  , podem\n",
       "                    , ver  , ainda  , exemplo  , vez  , cada  , processo  , através\n",
       "                    , tipos  ],\n",
       "              'yaxis': 'y9'},\n",
       "             {'marker': {'color': '#CC79A7'},\n",
       "              'orientation': 'h',\n",
       "              'type': 'bar',\n",
       "              'x': [0.02162874622603969, 0.025904505414102115,\n",
       "                    0.028510213869586857, 0.03299499296380939, 0.03603120498238788,\n",
       "                    0.04119952174002659, 0.04137870873480839, 0.04229117917086009,\n",
       "                    0.044473284604043706, 0.04770062581108765, 0.04779674113152003,\n",
       "                    0.049579775989566144, 0.05071023307073844, 0.0954450231828414,\n",
       "                    0.14330168934507423],\n",
       "              'xaxis': 'x10',\n",
       "              'y': [pois  , outros  , controle  , sistema  , desenvolvimento  ,\n",
       "                    grande  , parte  , todos  , maior  , sendo  , utilizados  ,\n",
       "                    estudo  , ciência  , engenharia  , sistemas  ],\n",
       "              'yaxis': 'y10'},\n",
       "             {'marker': {'color': '#E69F00'},\n",
       "              'orientation': 'h',\n",
       "              'type': 'bar',\n",
       "              'x': [0.03531633789147958, 0.03788329093863167, 0.03934902355622717,\n",
       "                    0.04276108116164742, 0.04276108116164742, 0.043738131257102485,\n",
       "                    0.043738131257102485, 0.05238466650407316,\n",
       "                    0.056227057969674116, 0.07869804711245434, 0.08134449934972779,\n",
       "                    0.08193028798988337, 0.0961604595868203, 0.1153079760947735,\n",
       "                    0.14880053751733052],\n",
       "              'xaxis': 'x11',\n",
       "              'y': [atuação  , ramo  , desde  , muitas  , outro  , pois  , tais  ,\n",
       "                    outros  , área  , muitos  , além  , uso  , outras  , controle\n",
       "                    , áreas  ],\n",
       "              'yaxis': 'y11'},\n",
       "             {'marker': {'color': '#56B4E9'},\n",
       "              'orientation': 'h',\n",
       "              'type': 'bar',\n",
       "              'x': [1e-05, 1e-05, 1e-05, 1e-05, 1e-05, 1e-05, 1e-05, 1e-05, 1e-05,\n",
       "                    0.17030547809699043, 0.18299054935172346, 0.1927175666175227,\n",
       "                    0.20670271184804648, 0.22703360073094014, 0.3122704431806949],\n",
       "              'xaxis': 'x12',\n",
       "              'y': [  ,   ,   ,   ,   ,   ,   ,   ,   , ver  , estruturas  ,\n",
       "                    exemplo  , sendo  , água  , desenvolvimento  ],\n",
       "              'yaxis': 'y12'},\n",
       "             {'marker': {'color': '#009E73'},\n",
       "              'orientation': 'h',\n",
       "              'type': 'bar',\n",
       "              'x': [0.02633606147307066, 0.02689166340674648,\n",
       "                    0.028401325213051717, 0.032506577501750816,\n",
       "                    0.03486551766111628, 0.03592576655900634, 0.03617523324947776,\n",
       "                    0.04033678153184751, 0.04308933783176866, 0.04688727943612778,\n",
       "                    0.048759866252626224, 0.05081345628407931, 0.05842087198994683,\n",
       "                    0.06369667864585644, 0.20075665046803237],\n",
       "              'xaxis': 'x13',\n",
       "              'y': [desenvolvimento  , forma  , outros  , exemplo  , tecnologia  ,\n",
       "                    diversos  , sistema  , diversas  , ver  , controle  , maior  ,\n",
       "                    artigo  , principal  , engenharia  , sistemas  ],\n",
       "              'yaxis': 'y13'},\n",
       "             {'marker': {'color': '#F0E442'},\n",
       "              'orientation': 'h',\n",
       "              'type': 'bar',\n",
       "              'x': [0.030900565972036234, 0.03842308668232207,\n",
       "                    0.03927038065865579, 0.040167671562645134, 0.04435528479728488,\n",
       "                    0.047048143262791234, 0.04757169483665877, 0.05363157957307201,\n",
       "                    0.055062161890720766, 0.06427482394889864, 0.06597186904987193,\n",
       "                    0.07706741002341232, 0.07854076131731158, 0.09570765730279401,\n",
       "                    0.10212735917369573],\n",
       "              'xaxis': 'x14',\n",
       "              'y': [assim  , parte  , outro  , tais  , sistemas  , sobre  ,\n",
       "                    produção  , ainda  , exemplo  , pode  , processo  , engenharia\n",
       "                    , muitas  , análise  , sistema  ],\n",
       "              'yaxis': 'y14'},\n",
       "             {'marker': {'color': '#D55E00'},\n",
       "              'orientation': 'h',\n",
       "              'type': 'bar',\n",
       "              'x': [1e-05, 1e-05, 1e-05, 1e-05, 1e-05, 1e-05, 1e-05, 1e-05, 1e-05,\n",
       "                    1e-05, 1e-05, 1e-05, 1e-05, 0.10498221244986777,\n",
       "                    0.3398672782032483],\n",
       "              'xaxis': 'x15',\n",
       "              'y': [  ,   ,   ,   ,   ,   ,   ,   ,   ,   ,   ,   ,   , engenheiro\n",
       "                    , engenharia  ],\n",
       "              'yaxis': 'y15'},\n",
       "             {'marker': {'color': '#0072B2'},\n",
       "              'orientation': 'h',\n",
       "              'type': 'bar',\n",
       "              'x': [0.05639699518813149, 0.058275326174906994,\n",
       "                    0.05893274981708231, 0.05893274981708231, 0.05960691733394666,\n",
       "                    0.062485941305707, 0.06404669227310321, 0.07130173448847024,\n",
       "                    0.07570638663148878, 0.07691052015728664, 0.08081553958609312,\n",
       "                    0.08369882167858358, 0.0921715739886188, 0.1349022966322659,\n",
       "                    0.19682159065696117],\n",
       "              'xaxis': 'x16',\n",
       "              'y': [estudo  , produção  , outros  , podem  , através  , técnicas\n",
       "                    , estruturas  , formação  , vez  , ciência  , processo  ,\n",
       "                    diversas  , uso  , maior  , pois  ],\n",
       "              'yaxis': 'y16'},\n",
       "             {'marker': {'color': '#CC79A7'},\n",
       "              'orientation': 'h',\n",
       "              'type': 'bar',\n",
       "              'x': [1e-05, 0.017982395672129538, 0.05314304911333232,\n",
       "                    0.05371142398869665, 0.05488950047325644, 0.061772130050771513,\n",
       "                    0.06423918887250757, 0.06694471224727909, 0.07324811443551107,\n",
       "                    0.07443928901328423, 0.07696718055818393, 0.09531886856211601,\n",
       "                    0.11353698539799362, 0.17030547809699043, 0.2756036157973953],\n",
       "              'xaxis': 'x17',\n",
       "              'y': [  , engenharia  , forma  , estudo  , sobre  , controle  ,\n",
       "                    exemplo  , artigo  , ciência  , análise  , principal  , sistema\n",
       "                    , através  , ver  , tecnologia  ],\n",
       "              'yaxis': 'y17'},\n",
       "             {'marker': {'color': '#E69F00'},\n",
       "              'orientation': 'h',\n",
       "              'type': 'bar',\n",
       "              'x': [1e-05, 1e-05, 1e-05, 1e-05, 1e-05, 1e-05, 1e-05, 1e-05, 1e-05,\n",
       "                    1e-05, 1e-05, 1e-05, 1e-05, 0.20996442489973555,\n",
       "                    1.1246711657542887],\n",
       "              'xaxis': 'x18',\n",
       "              'y': [  ,   ,   ,   ,   ,   ,   ,   ,   ,   ,   ,   ,   , pode  ,\n",
       "                    artigo  ],\n",
       "              'yaxis': 'y18'},\n",
       "             {'marker': {'color': '#56B4E9'},\n",
       "              'orientation': 'h',\n",
       "              'type': 'bar',\n",
       "              'x': [0.038336630433868715, 0.03881617713521407,\n",
       "                    0.039309537305036425, 0.04143534397679914,\n",
       "                    0.042601180520995784, 0.04815864257929033, 0.0489791149006625,\n",
       "                    0.0516590330981341, 0.05365775939485523, 0.058310565220428295,\n",
       "                    0.058310565220428295, 0.06586087742627149, 0.06590156731770185,\n",
       "                    0.07225080888963231, 0.38526914063432266],\n",
       "              'xaxis': 'x19',\n",
       "              'y': [área  , estruturas  , controle  , processos  , artigo  ,\n",
       "                    atuação  , principal  , ramo  , desde  , muitas  , todos  ,\n",
       "                    sistemas  , utilizados  , ver  , água  ],\n",
       "              'yaxis': 'y19'}],\n",
       "    'layout': {'annotations': [{'font': {'size': 16},\n",
       "                                'showarrow': False,\n",
       "                                'text': 'Topic 0',\n",
       "                                'x': 0.0875,\n",
       "                                'xanchor': 'center',\n",
       "                                'xref': 'paper',\n",
       "                                'y': 0.9999999999999999,\n",
       "                                'yanchor': 'bottom',\n",
       "                                'yref': 'paper'},\n",
       "                               {'font': {'size': 16},\n",
       "                                'showarrow': False,\n",
       "                                'text': 'Topic 1',\n",
       "                                'x': 0.36250000000000004,\n",
       "                                'xanchor': 'center',\n",
       "                                'xref': 'paper',\n",
       "                                'y': 0.9999999999999999,\n",
       "                                'yanchor': 'bottom',\n",
       "                                'yref': 'paper'},\n",
       "                               {'font': {'size': 16},\n",
       "                                'showarrow': False,\n",
       "                                'text': 'Topic 2',\n",
       "                                'x': 0.6375000000000001,\n",
       "                                'xanchor': 'center',\n",
       "                                'xref': 'paper',\n",
       "                                'y': 0.9999999999999999,\n",
       "                                'yanchor': 'bottom',\n",
       "                                'yref': 'paper'},\n",
       "                               {'font': {'size': 16},\n",
       "                                'showarrow': False,\n",
       "                                'text': 'Topic 3',\n",
       "                                'x': 0.9125,\n",
       "                                'xanchor': 'center',\n",
       "                                'xref': 'paper',\n",
       "                                'y': 0.9999999999999999,\n",
       "                                'yanchor': 'bottom',\n",
       "                                'yref': 'paper'},\n",
       "                               {'font': {'size': 16},\n",
       "                                'showarrow': False,\n",
       "                                'text': 'Topic 4',\n",
       "                                'x': 0.0875,\n",
       "                                'xanchor': 'center',\n",
       "                                'xref': 'paper',\n",
       "                                'y': 0.7839999999999999,\n",
       "                                'yanchor': 'bottom',\n",
       "                                'yref': 'paper'},\n",
       "                               {'font': {'size': 16},\n",
       "                                'showarrow': False,\n",
       "                                'text': 'Topic 5',\n",
       "                                'x': 0.36250000000000004,\n",
       "                                'xanchor': 'center',\n",
       "                                'xref': 'paper',\n",
       "                                'y': 0.7839999999999999,\n",
       "                                'yanchor': 'bottom',\n",
       "                                'yref': 'paper'},\n",
       "                               {'font': {'size': 16},\n",
       "                                'showarrow': False,\n",
       "                                'text': 'Topic 6',\n",
       "                                'x': 0.6375000000000001,\n",
       "                                'xanchor': 'center',\n",
       "                                'xref': 'paper',\n",
       "                                'y': 0.7839999999999999,\n",
       "                                'yanchor': 'bottom',\n",
       "                                'yref': 'paper'},\n",
       "                               {'font': {'size': 16},\n",
       "                                'showarrow': False,\n",
       "                                'text': 'Topic 7',\n",
       "                                'x': 0.9125,\n",
       "                                'xanchor': 'center',\n",
       "                                'xref': 'paper',\n",
       "                                'y': 0.7839999999999999,\n",
       "                                'yanchor': 'bottom',\n",
       "                                'yref': 'paper'},\n",
       "                               {'font': {'size': 16},\n",
       "                                'showarrow': False,\n",
       "                                'text': 'Topic 8',\n",
       "                                'x': 0.0875,\n",
       "                                'xanchor': 'center',\n",
       "                                'xref': 'paper',\n",
       "                                'y': 0.568,\n",
       "                                'yanchor': 'bottom',\n",
       "                                'yref': 'paper'},\n",
       "                               {'font': {'size': 16},\n",
       "                                'showarrow': False,\n",
       "                                'text': 'Topic 9',\n",
       "                                'x': 0.36250000000000004,\n",
       "                                'xanchor': 'center',\n",
       "                                'xref': 'paper',\n",
       "                                'y': 0.568,\n",
       "                                'yanchor': 'bottom',\n",
       "                                'yref': 'paper'},\n",
       "                               {'font': {'size': 16},\n",
       "                                'showarrow': False,\n",
       "                                'text': 'Topic 10',\n",
       "                                'x': 0.6375000000000001,\n",
       "                                'xanchor': 'center',\n",
       "                                'xref': 'paper',\n",
       "                                'y': 0.568,\n",
       "                                'yanchor': 'bottom',\n",
       "                                'yref': 'paper'},\n",
       "                               {'font': {'size': 16},\n",
       "                                'showarrow': False,\n",
       "                                'text': 'Topic 11',\n",
       "                                'x': 0.9125,\n",
       "                                'xanchor': 'center',\n",
       "                                'xref': 'paper',\n",
       "                                'y': 0.568,\n",
       "                                'yanchor': 'bottom',\n",
       "                                'yref': 'paper'},\n",
       "                               {'font': {'size': 16},\n",
       "                                'showarrow': False,\n",
       "                                'text': 'Topic 12',\n",
       "                                'x': 0.0875,\n",
       "                                'xanchor': 'center',\n",
       "                                'xref': 'paper',\n",
       "                                'y': 0.352,\n",
       "                                'yanchor': 'bottom',\n",
       "                                'yref': 'paper'},\n",
       "                               {'font': {'size': 16},\n",
       "                                'showarrow': False,\n",
       "                                'text': 'Topic 13',\n",
       "                                'x': 0.36250000000000004,\n",
       "                                'xanchor': 'center',\n",
       "                                'xref': 'paper',\n",
       "                                'y': 0.352,\n",
       "                                'yanchor': 'bottom',\n",
       "                                'yref': 'paper'},\n",
       "                               {'font': {'size': 16},\n",
       "                                'showarrow': False,\n",
       "                                'text': 'Topic 14',\n",
       "                                'x': 0.6375000000000001,\n",
       "                                'xanchor': 'center',\n",
       "                                'xref': 'paper',\n",
       "                                'y': 0.352,\n",
       "                                'yanchor': 'bottom',\n",
       "                                'yref': 'paper'},\n",
       "                               {'font': {'size': 16},\n",
       "                                'showarrow': False,\n",
       "                                'text': 'Topic 15',\n",
       "                                'x': 0.9125,\n",
       "                                'xanchor': 'center',\n",
       "                                'xref': 'paper',\n",
       "                                'y': 0.352,\n",
       "                                'yanchor': 'bottom',\n",
       "                                'yref': 'paper'},\n",
       "                               {'font': {'size': 16},\n",
       "                                'showarrow': False,\n",
       "                                'text': 'Topic 16',\n",
       "                                'x': 0.0875,\n",
       "                                'xanchor': 'center',\n",
       "                                'xref': 'paper',\n",
       "                                'y': 0.13599999999999998,\n",
       "                                'yanchor': 'bottom',\n",
       "                                'yref': 'paper'},\n",
       "                               {'font': {'size': 16},\n",
       "                                'showarrow': False,\n",
       "                                'text': 'Topic 17',\n",
       "                                'x': 0.36250000000000004,\n",
       "                                'xanchor': 'center',\n",
       "                                'xref': 'paper',\n",
       "                                'y': 0.13599999999999998,\n",
       "                                'yanchor': 'bottom',\n",
       "                                'yref': 'paper'},\n",
       "                               {'font': {'size': 16},\n",
       "                                'showarrow': False,\n",
       "                                'text': 'Topic 18',\n",
       "                                'x': 0.6375000000000001,\n",
       "                                'xanchor': 'center',\n",
       "                                'xref': 'paper',\n",
       "                                'y': 0.13599999999999998,\n",
       "                                'yanchor': 'bottom',\n",
       "                                'yref': 'paper'}],\n",
       "               'height': 1250,\n",
       "               'hoverlabel': {'bgcolor': 'white', 'font': {'family': 'Rockwell', 'size': 16}},\n",
       "               'showlegend': False,\n",
       "               'template': '...',\n",
       "               'title': {'font': {'color': 'Black', 'size': 22},\n",
       "                         'text': 'Topic Word Scores',\n",
       "                         'x': 0.5,\n",
       "                         'xanchor': 'center',\n",
       "                         'yanchor': 'top'},\n",
       "               'width': 1000,\n",
       "               'xaxis': {'anchor': 'y', 'domain': [0.0, 0.175], 'showgrid': True},\n",
       "               'xaxis10': {'anchor': 'y10', 'domain': [0.275, 0.45], 'showgrid': True},\n",
       "               'xaxis11': {'anchor': 'y11', 'domain': [0.55, 0.7250000000000001], 'showgrid': True},\n",
       "               'xaxis12': {'anchor': 'y12', 'domain': [0.825, 1.0], 'showgrid': True},\n",
       "               'xaxis13': {'anchor': 'y13', 'domain': [0.0, 0.175], 'showgrid': True},\n",
       "               'xaxis14': {'anchor': 'y14', 'domain': [0.275, 0.45], 'showgrid': True},\n",
       "               'xaxis15': {'anchor': 'y15', 'domain': [0.55, 0.7250000000000001], 'showgrid': True},\n",
       "               'xaxis16': {'anchor': 'y16', 'domain': [0.825, 1.0], 'showgrid': True},\n",
       "               'xaxis17': {'anchor': 'y17', 'domain': [0.0, 0.175], 'showgrid': True},\n",
       "               'xaxis18': {'anchor': 'y18', 'domain': [0.275, 0.45], 'showgrid': True},\n",
       "               'xaxis19': {'anchor': 'y19', 'domain': [0.55, 0.7250000000000001], 'showgrid': True},\n",
       "               'xaxis2': {'anchor': 'y2', 'domain': [0.275, 0.45], 'showgrid': True},\n",
       "               'xaxis20': {'anchor': 'y20', 'domain': [0.825, 1.0], 'showgrid': True},\n",
       "               'xaxis3': {'anchor': 'y3', 'domain': [0.55, 0.7250000000000001], 'showgrid': True},\n",
       "               'xaxis4': {'anchor': 'y4', 'domain': [0.825, 1.0], 'showgrid': True},\n",
       "               'xaxis5': {'anchor': 'y5', 'domain': [0.0, 0.175], 'showgrid': True},\n",
       "               'xaxis6': {'anchor': 'y6', 'domain': [0.275, 0.45], 'showgrid': True},\n",
       "               'xaxis7': {'anchor': 'y7', 'domain': [0.55, 0.7250000000000001], 'showgrid': True},\n",
       "               'xaxis8': {'anchor': 'y8', 'domain': [0.825, 1.0], 'showgrid': True},\n",
       "               'xaxis9': {'anchor': 'y9', 'domain': [0.0, 0.175], 'showgrid': True},\n",
       "               'yaxis': {'anchor': 'x', 'domain': [0.8639999999999999, 0.9999999999999999], 'showgrid': True},\n",
       "               'yaxis10': {'anchor': 'x10', 'domain': [0.43199999999999994, 0.568], 'showgrid': True},\n",
       "               'yaxis11': {'anchor': 'x11', 'domain': [0.43199999999999994, 0.568], 'showgrid': True},\n",
       "               'yaxis12': {'anchor': 'x12', 'domain': [0.43199999999999994, 0.568], 'showgrid': True},\n",
       "               'yaxis13': {'anchor': 'x13', 'domain': [0.21599999999999997, 0.352], 'showgrid': True},\n",
       "               'yaxis14': {'anchor': 'x14', 'domain': [0.21599999999999997, 0.352], 'showgrid': True},\n",
       "               'yaxis15': {'anchor': 'x15', 'domain': [0.21599999999999997, 0.352], 'showgrid': True},\n",
       "               'yaxis16': {'anchor': 'x16', 'domain': [0.21599999999999997, 0.352], 'showgrid': True},\n",
       "               'yaxis17': {'anchor': 'x17', 'domain': [0.0, 0.13599999999999998], 'showgrid': True},\n",
       "               'yaxis18': {'anchor': 'x18', 'domain': [0.0, 0.13599999999999998], 'showgrid': True},\n",
       "               'yaxis19': {'anchor': 'x19', 'domain': [0.0, 0.13599999999999998], 'showgrid': True},\n",
       "               'yaxis2': {'anchor': 'x2', 'domain': [0.8639999999999999, 0.9999999999999999], 'showgrid': True},\n",
       "               'yaxis20': {'anchor': 'x20', 'domain': [0.0, 0.13599999999999998], 'showgrid': True},\n",
       "               'yaxis3': {'anchor': 'x3', 'domain': [0.8639999999999999, 0.9999999999999999], 'showgrid': True},\n",
       "               'yaxis4': {'anchor': 'x4', 'domain': [0.8639999999999999, 0.9999999999999999], 'showgrid': True},\n",
       "               'yaxis5': {'anchor': 'x5', 'domain': [0.6479999999999999, 0.7839999999999999], 'showgrid': True},\n",
       "               'yaxis6': {'anchor': 'x6', 'domain': [0.6479999999999999, 0.7839999999999999], 'showgrid': True},\n",
       "               'yaxis7': {'anchor': 'x7', 'domain': [0.6479999999999999, 0.7839999999999999], 'showgrid': True},\n",
       "               'yaxis8': {'anchor': 'x8', 'domain': [0.6479999999999999, 0.7839999999999999], 'showgrid': True},\n",
       "               'yaxis9': {'anchor': 'x9', 'domain': [0.43199999999999994, 0.568], 'showgrid': True}}\n",
       "})"
      ]
     },
     "execution_count": 27,
     "metadata": {},
     "output_type": "execute_result"
    }
   ],
   "source": [
    "model.visualize_barchart(n_words=15, top_n_topics=20)"
   ]
  },
  {
   "cell_type": "code",
   "execution_count": 28,
   "metadata": {},
   "outputs": [
    {
     "ename": "ValueError",
     "evalue": "Mime type rendering requires nbformat>=4.2.0 but it is not installed",
     "output_type": "error",
     "traceback": [
      "\u001b[1;31m---------------------------------------------------------------------------\u001b[0m",
      "\u001b[1;31mValueError\u001b[0m                                Traceback (most recent call last)",
      "File \u001b[1;32mc:\\Users\\estag\\workspace\\Formacao-Processamento-de-Linguagem-Natural-e-LLM\\.venv\\Lib\\site-packages\\IPython\\core\\formatters.py:925\u001b[0m, in \u001b[0;36mIPythonDisplayFormatter.__call__\u001b[1;34m(self, obj)\u001b[0m\n\u001b[0;32m    923\u001b[0m method \u001b[38;5;241m=\u001b[39m get_real_method(obj, \u001b[38;5;28mself\u001b[39m\u001b[38;5;241m.\u001b[39mprint_method)\n\u001b[0;32m    924\u001b[0m \u001b[38;5;28;01mif\u001b[39;00m method \u001b[38;5;129;01mis\u001b[39;00m \u001b[38;5;129;01mnot\u001b[39;00m \u001b[38;5;28;01mNone\u001b[39;00m:\n\u001b[1;32m--> 925\u001b[0m     \u001b[43mmethod\u001b[49m\u001b[43m(\u001b[49m\u001b[43m)\u001b[49m\n\u001b[0;32m    926\u001b[0m     \u001b[38;5;28;01mreturn\u001b[39;00m \u001b[38;5;28;01mTrue\u001b[39;00m\n",
      "File \u001b[1;32mc:\\Users\\estag\\workspace\\Formacao-Processamento-de-Linguagem-Natural-e-LLM\\.venv\\Lib\\site-packages\\plotly\\basedatatypes.py:832\u001b[0m, in \u001b[0;36mBaseFigure._ipython_display_\u001b[1;34m(self)\u001b[0m\n\u001b[0;32m    829\u001b[0m \u001b[38;5;28;01mimport\u001b[39;00m \u001b[38;5;21;01mplotly\u001b[39;00m\u001b[38;5;21;01m.\u001b[39;00m\u001b[38;5;21;01mio\u001b[39;00m \u001b[38;5;28;01mas\u001b[39;00m \u001b[38;5;21;01mpio\u001b[39;00m\n\u001b[0;32m    831\u001b[0m \u001b[38;5;28;01mif\u001b[39;00m pio\u001b[38;5;241m.\u001b[39mrenderers\u001b[38;5;241m.\u001b[39mrender_on_display \u001b[38;5;129;01mand\u001b[39;00m pio\u001b[38;5;241m.\u001b[39mrenderers\u001b[38;5;241m.\u001b[39mdefault:\n\u001b[1;32m--> 832\u001b[0m     \u001b[43mpio\u001b[49m\u001b[38;5;241;43m.\u001b[39;49m\u001b[43mshow\u001b[49m\u001b[43m(\u001b[49m\u001b[38;5;28;43mself\u001b[39;49m\u001b[43m)\u001b[49m\n\u001b[0;32m    833\u001b[0m \u001b[38;5;28;01melse\u001b[39;00m:\n\u001b[0;32m    834\u001b[0m     \u001b[38;5;28mprint\u001b[39m(\u001b[38;5;28mrepr\u001b[39m(\u001b[38;5;28mself\u001b[39m))\n",
      "File \u001b[1;32mc:\\Users\\estag\\workspace\\Formacao-Processamento-de-Linguagem-Natural-e-LLM\\.venv\\Lib\\site-packages\\plotly\\io\\_renderers.py:394\u001b[0m, in \u001b[0;36mshow\u001b[1;34m(fig, renderer, validate, **kwargs)\u001b[0m\n\u001b[0;32m    389\u001b[0m         \u001b[38;5;28;01mraise\u001b[39;00m \u001b[38;5;167;01mValueError\u001b[39;00m(\n\u001b[0;32m    390\u001b[0m             \u001b[38;5;124m\"\u001b[39m\u001b[38;5;124mMime type rendering requires ipython but it is not installed\u001b[39m\u001b[38;5;124m\"\u001b[39m\n\u001b[0;32m    391\u001b[0m         )\n\u001b[0;32m    393\u001b[0m     \u001b[38;5;28;01mif\u001b[39;00m \u001b[38;5;129;01mnot\u001b[39;00m nbformat \u001b[38;5;129;01mor\u001b[39;00m Version(nbformat\u001b[38;5;241m.\u001b[39m__version__) \u001b[38;5;241m<\u001b[39m Version(\u001b[38;5;124m\"\u001b[39m\u001b[38;5;124m4.2.0\u001b[39m\u001b[38;5;124m\"\u001b[39m):\n\u001b[1;32m--> 394\u001b[0m         \u001b[38;5;28;01mraise\u001b[39;00m \u001b[38;5;167;01mValueError\u001b[39;00m(\n\u001b[0;32m    395\u001b[0m             \u001b[38;5;124m\"\u001b[39m\u001b[38;5;124mMime type rendering requires nbformat>=4.2.0 but it is not installed\u001b[39m\u001b[38;5;124m\"\u001b[39m\n\u001b[0;32m    396\u001b[0m         )\n\u001b[0;32m    398\u001b[0m     ipython_display\u001b[38;5;241m.\u001b[39mdisplay(bundle, raw\u001b[38;5;241m=\u001b[39m\u001b[38;5;28;01mTrue\u001b[39;00m)\n\u001b[0;32m    400\u001b[0m \u001b[38;5;66;03m# external renderers\u001b[39;00m\n",
      "\u001b[1;31mValueError\u001b[0m: Mime type rendering requires nbformat>=4.2.0 but it is not installed"
     ]
    },
    {
     "data": {
      "application/vnd.plotly.v1+json": {
       "config": {
        "plotlyServerURL": "https://plot.ly"
       },
       "data": [
        {
         "hoverinfo": "text",
         "marker": {
          "color": "rgb(61,153,112)"
         },
         "mode": "lines",
         "type": "scatter",
         "x": [
          0,
          0.19816202359923285,
          0.19816202359923285,
          0
         ],
         "xaxis": "x",
         "y": [
          -15,
          -15,
          -25,
          -25
         ],
         "yaxis": "y"
        },
        {
         "hoverinfo": "text",
         "marker": {
          "color": "rgb(61,153,112)"
         },
         "mode": "lines",
         "type": "scatter",
         "x": [
          0,
          0.7691203069409073,
          0.7691203069409073,
          0.19816202359923285
         ],
         "xaxis": "x",
         "y": [
          -5,
          -5,
          -20,
          -20
         ],
         "yaxis": "y"
        },
        {
         "hoverinfo": "text",
         "marker": {
          "color": "rgb(255,65,54)"
         },
         "mode": "lines",
         "type": "scatter",
         "x": [
          0,
          0.33942652036469767,
          0.33942652036469767,
          0
         ],
         "xaxis": "x",
         "y": [
          -55,
          -55,
          -65,
          -65
         ],
         "yaxis": "y"
        },
        {
         "hoverinfo": "text",
         "marker": {
          "color": "rgb(255,65,54)"
         },
         "mode": "lines",
         "type": "scatter",
         "x": [
          0,
          0.4573792141471843,
          0.4573792141471843,
          0.33942652036469767
         ],
         "xaxis": "x",
         "y": [
          -45,
          -45,
          -60,
          -60
         ],
         "yaxis": "y"
        },
        {
         "hoverinfo": "text",
         "marker": {
          "color": "rgb(255,65,54)"
         },
         "mode": "lines",
         "type": "scatter",
         "x": [
          0.4573792141471843,
          0.5366642289247474,
          0.5366642289247474,
          0
         ],
         "xaxis": "x",
         "y": [
          -52.5,
          -52.5,
          -75,
          -75
         ],
         "yaxis": "y"
        },
        {
         "hoverinfo": "text",
         "marker": {
          "color": "rgb(255,65,54)"
         },
         "mode": "lines",
         "type": "scatter",
         "x": [
          0,
          0.5775631695631629,
          0.5775631695631629,
          0.5366642289247474
         ],
         "xaxis": "x",
         "y": [
          -35,
          -35,
          -63.75,
          -63.75
         ],
         "yaxis": "y"
        },
        {
         "hoverinfo": "text",
         "marker": {
          "color": "rgb(255,65,54)"
         },
         "mode": "lines",
         "type": "scatter",
         "x": [
          0,
          0.4711236192445225,
          0.4711236192445225,
          0
         ],
         "xaxis": "x",
         "y": [
          -85,
          -85,
          -95,
          -95
         ],
         "yaxis": "y"
        },
        {
         "hoverinfo": "text",
         "marker": {
          "color": "rgb(255,65,54)"
         },
         "mode": "lines",
         "type": "scatter",
         "x": [
          0,
          0.2713950648638781,
          0.2713950648638781,
          0
         ],
         "xaxis": "x",
         "y": [
          -105,
          -105,
          -115,
          -115
         ],
         "yaxis": "y"
        },
        {
         "hoverinfo": "text",
         "marker": {
          "color": "rgb(255,65,54)"
         },
         "mode": "lines",
         "type": "scatter",
         "x": [
          0,
          0.38978759741490066,
          0.38978759741490066,
          0
         ],
         "xaxis": "x",
         "y": [
          -125,
          -125,
          -135,
          -135
         ],
         "yaxis": "y"
        },
        {
         "hoverinfo": "text",
         "marker": {
          "color": "rgb(255,65,54)"
         },
         "mode": "lines",
         "type": "scatter",
         "x": [
          0.2713950648638781,
          0.4947333889341713,
          0.4947333889341713,
          0.38978759741490066
         ],
         "xaxis": "x",
         "y": [
          -110,
          -110,
          -130,
          -130
         ],
         "yaxis": "y"
        },
        {
         "hoverinfo": "text",
         "marker": {
          "color": "rgb(255,65,54)"
         },
         "mode": "lines",
         "type": "scatter",
         "x": [
          0.4711236192445225,
          0.6622999935757142,
          0.6622999935757142,
          0.4947333889341713
         ],
         "xaxis": "x",
         "y": [
          -90,
          -90,
          -120,
          -120
         ],
         "yaxis": "y"
        },
        {
         "hoverinfo": "text",
         "marker": {
          "color": "rgb(255,65,54)"
         },
         "mode": "lines",
         "type": "scatter",
         "x": [
          0.5775631695631629,
          0.8019777771633139,
          0.8019777771633139,
          0.6622999935757142
         ],
         "xaxis": "x",
         "y": [
          -49.375,
          -49.375,
          -105,
          -105
         ],
         "yaxis": "y"
        },
        {
         "hoverinfo": "text",
         "marker": {
          "color": "rgb(255,65,54)"
         },
         "mode": "lines",
         "type": "scatter",
         "x": [
          0.8019777771633139,
          0.9412605629793805,
          0.9412605629793805,
          0
         ],
         "xaxis": "x",
         "y": [
          -77.1875,
          -77.1875,
          -145,
          -145
         ],
         "yaxis": "y"
        },
        {
         "hoverinfo": "text",
         "marker": {
          "color": "rgb(0,116,217)"
         },
         "mode": "lines",
         "type": "scatter",
         "x": [
          0.7691203069409073,
          1.210391921111337,
          1.210391921111337,
          0.9412605629793805
         ],
         "xaxis": "x",
         "y": [
          -12.5,
          -12.5,
          -111.09375,
          -111.09375
         ],
         "yaxis": "y"
        }
       ],
       "layout": {
        "autosize": false,
        "height": 425,
        "hoverlabel": {
         "bgcolor": "white",
         "font": {
          "family": "Rockwell",
          "size": 16
         }
        },
        "hovermode": "closest",
        "plot_bgcolor": "#ECEFF1",
        "showlegend": false,
        "template": {
         "data": {
          "bar": [
           {
            "error_x": {
             "color": "#2a3f5f"
            },
            "error_y": {
             "color": "#2a3f5f"
            },
            "marker": {
             "line": {
              "color": "white",
              "width": 0.5
             },
             "pattern": {
              "fillmode": "overlay",
              "size": 10,
              "solidity": 0.2
             }
            },
            "type": "bar"
           }
          ],
          "barpolar": [
           {
            "marker": {
             "line": {
              "color": "white",
              "width": 0.5
             },
             "pattern": {
              "fillmode": "overlay",
              "size": 10,
              "solidity": 0.2
             }
            },
            "type": "barpolar"
           }
          ],
          "carpet": [
           {
            "aaxis": {
             "endlinecolor": "#2a3f5f",
             "gridcolor": "#C8D4E3",
             "linecolor": "#C8D4E3",
             "minorgridcolor": "#C8D4E3",
             "startlinecolor": "#2a3f5f"
            },
            "baxis": {
             "endlinecolor": "#2a3f5f",
             "gridcolor": "#C8D4E3",
             "linecolor": "#C8D4E3",
             "minorgridcolor": "#C8D4E3",
             "startlinecolor": "#2a3f5f"
            },
            "type": "carpet"
           }
          ],
          "choropleth": [
           {
            "colorbar": {
             "outlinewidth": 0,
             "ticks": ""
            },
            "type": "choropleth"
           }
          ],
          "contour": [
           {
            "colorbar": {
             "outlinewidth": 0,
             "ticks": ""
            },
            "colorscale": [
             [
              0,
              "#0d0887"
             ],
             [
              0.1111111111111111,
              "#46039f"
             ],
             [
              0.2222222222222222,
              "#7201a8"
             ],
             [
              0.3333333333333333,
              "#9c179e"
             ],
             [
              0.4444444444444444,
              "#bd3786"
             ],
             [
              0.5555555555555556,
              "#d8576b"
             ],
             [
              0.6666666666666666,
              "#ed7953"
             ],
             [
              0.7777777777777778,
              "#fb9f3a"
             ],
             [
              0.8888888888888888,
              "#fdca26"
             ],
             [
              1,
              "#f0f921"
             ]
            ],
            "type": "contour"
           }
          ],
          "contourcarpet": [
           {
            "colorbar": {
             "outlinewidth": 0,
             "ticks": ""
            },
            "type": "contourcarpet"
           }
          ],
          "heatmap": [
           {
            "colorbar": {
             "outlinewidth": 0,
             "ticks": ""
            },
            "colorscale": [
             [
              0,
              "#0d0887"
             ],
             [
              0.1111111111111111,
              "#46039f"
             ],
             [
              0.2222222222222222,
              "#7201a8"
             ],
             [
              0.3333333333333333,
              "#9c179e"
             ],
             [
              0.4444444444444444,
              "#bd3786"
             ],
             [
              0.5555555555555556,
              "#d8576b"
             ],
             [
              0.6666666666666666,
              "#ed7953"
             ],
             [
              0.7777777777777778,
              "#fb9f3a"
             ],
             [
              0.8888888888888888,
              "#fdca26"
             ],
             [
              1,
              "#f0f921"
             ]
            ],
            "type": "heatmap"
           }
          ],
          "heatmapgl": [
           {
            "colorbar": {
             "outlinewidth": 0,
             "ticks": ""
            },
            "colorscale": [
             [
              0,
              "#0d0887"
             ],
             [
              0.1111111111111111,
              "#46039f"
             ],
             [
              0.2222222222222222,
              "#7201a8"
             ],
             [
              0.3333333333333333,
              "#9c179e"
             ],
             [
              0.4444444444444444,
              "#bd3786"
             ],
             [
              0.5555555555555556,
              "#d8576b"
             ],
             [
              0.6666666666666666,
              "#ed7953"
             ],
             [
              0.7777777777777778,
              "#fb9f3a"
             ],
             [
              0.8888888888888888,
              "#fdca26"
             ],
             [
              1,
              "#f0f921"
             ]
            ],
            "type": "heatmapgl"
           }
          ],
          "histogram": [
           {
            "marker": {
             "pattern": {
              "fillmode": "overlay",
              "size": 10,
              "solidity": 0.2
             }
            },
            "type": "histogram"
           }
          ],
          "histogram2d": [
           {
            "colorbar": {
             "outlinewidth": 0,
             "ticks": ""
            },
            "colorscale": [
             [
              0,
              "#0d0887"
             ],
             [
              0.1111111111111111,
              "#46039f"
             ],
             [
              0.2222222222222222,
              "#7201a8"
             ],
             [
              0.3333333333333333,
              "#9c179e"
             ],
             [
              0.4444444444444444,
              "#bd3786"
             ],
             [
              0.5555555555555556,
              "#d8576b"
             ],
             [
              0.6666666666666666,
              "#ed7953"
             ],
             [
              0.7777777777777778,
              "#fb9f3a"
             ],
             [
              0.8888888888888888,
              "#fdca26"
             ],
             [
              1,
              "#f0f921"
             ]
            ],
            "type": "histogram2d"
           }
          ],
          "histogram2dcontour": [
           {
            "colorbar": {
             "outlinewidth": 0,
             "ticks": ""
            },
            "colorscale": [
             [
              0,
              "#0d0887"
             ],
             [
              0.1111111111111111,
              "#46039f"
             ],
             [
              0.2222222222222222,
              "#7201a8"
             ],
             [
              0.3333333333333333,
              "#9c179e"
             ],
             [
              0.4444444444444444,
              "#bd3786"
             ],
             [
              0.5555555555555556,
              "#d8576b"
             ],
             [
              0.6666666666666666,
              "#ed7953"
             ],
             [
              0.7777777777777778,
              "#fb9f3a"
             ],
             [
              0.8888888888888888,
              "#fdca26"
             ],
             [
              1,
              "#f0f921"
             ]
            ],
            "type": "histogram2dcontour"
           }
          ],
          "mesh3d": [
           {
            "colorbar": {
             "outlinewidth": 0,
             "ticks": ""
            },
            "type": "mesh3d"
           }
          ],
          "parcoords": [
           {
            "line": {
             "colorbar": {
              "outlinewidth": 0,
              "ticks": ""
             }
            },
            "type": "parcoords"
           }
          ],
          "pie": [
           {
            "automargin": true,
            "type": "pie"
           }
          ],
          "scatter": [
           {
            "fillpattern": {
             "fillmode": "overlay",
             "size": 10,
             "solidity": 0.2
            },
            "type": "scatter"
           }
          ],
          "scatter3d": [
           {
            "line": {
             "colorbar": {
              "outlinewidth": 0,
              "ticks": ""
             }
            },
            "marker": {
             "colorbar": {
              "outlinewidth": 0,
              "ticks": ""
             }
            },
            "type": "scatter3d"
           }
          ],
          "scattercarpet": [
           {
            "marker": {
             "colorbar": {
              "outlinewidth": 0,
              "ticks": ""
             }
            },
            "type": "scattercarpet"
           }
          ],
          "scattergeo": [
           {
            "marker": {
             "colorbar": {
              "outlinewidth": 0,
              "ticks": ""
             }
            },
            "type": "scattergeo"
           }
          ],
          "scattergl": [
           {
            "marker": {
             "colorbar": {
              "outlinewidth": 0,
              "ticks": ""
             }
            },
            "type": "scattergl"
           }
          ],
          "scattermapbox": [
           {
            "marker": {
             "colorbar": {
              "outlinewidth": 0,
              "ticks": ""
             }
            },
            "type": "scattermapbox"
           }
          ],
          "scatterpolar": [
           {
            "marker": {
             "colorbar": {
              "outlinewidth": 0,
              "ticks": ""
             }
            },
            "type": "scatterpolar"
           }
          ],
          "scatterpolargl": [
           {
            "marker": {
             "colorbar": {
              "outlinewidth": 0,
              "ticks": ""
             }
            },
            "type": "scatterpolargl"
           }
          ],
          "scatterternary": [
           {
            "marker": {
             "colorbar": {
              "outlinewidth": 0,
              "ticks": ""
             }
            },
            "type": "scatterternary"
           }
          ],
          "surface": [
           {
            "colorbar": {
             "outlinewidth": 0,
             "ticks": ""
            },
            "colorscale": [
             [
              0,
              "#0d0887"
             ],
             [
              0.1111111111111111,
              "#46039f"
             ],
             [
              0.2222222222222222,
              "#7201a8"
             ],
             [
              0.3333333333333333,
              "#9c179e"
             ],
             [
              0.4444444444444444,
              "#bd3786"
             ],
             [
              0.5555555555555556,
              "#d8576b"
             ],
             [
              0.6666666666666666,
              "#ed7953"
             ],
             [
              0.7777777777777778,
              "#fb9f3a"
             ],
             [
              0.8888888888888888,
              "#fdca26"
             ],
             [
              1,
              "#f0f921"
             ]
            ],
            "type": "surface"
           }
          ],
          "table": [
           {
            "cells": {
             "fill": {
              "color": "#EBF0F8"
             },
             "line": {
              "color": "white"
             }
            },
            "header": {
             "fill": {
              "color": "#C8D4E3"
             },
             "line": {
              "color": "white"
             }
            },
            "type": "table"
           }
          ]
         },
         "layout": {
          "annotationdefaults": {
           "arrowcolor": "#2a3f5f",
           "arrowhead": 0,
           "arrowwidth": 1
          },
          "autotypenumbers": "strict",
          "coloraxis": {
           "colorbar": {
            "outlinewidth": 0,
            "ticks": ""
           }
          },
          "colorscale": {
           "diverging": [
            [
             0,
             "#8e0152"
            ],
            [
             0.1,
             "#c51b7d"
            ],
            [
             0.2,
             "#de77ae"
            ],
            [
             0.3,
             "#f1b6da"
            ],
            [
             0.4,
             "#fde0ef"
            ],
            [
             0.5,
             "#f7f7f7"
            ],
            [
             0.6,
             "#e6f5d0"
            ],
            [
             0.7,
             "#b8e186"
            ],
            [
             0.8,
             "#7fbc41"
            ],
            [
             0.9,
             "#4d9221"
            ],
            [
             1,
             "#276419"
            ]
           ],
           "sequential": [
            [
             0,
             "#0d0887"
            ],
            [
             0.1111111111111111,
             "#46039f"
            ],
            [
             0.2222222222222222,
             "#7201a8"
            ],
            [
             0.3333333333333333,
             "#9c179e"
            ],
            [
             0.4444444444444444,
             "#bd3786"
            ],
            [
             0.5555555555555556,
             "#d8576b"
            ],
            [
             0.6666666666666666,
             "#ed7953"
            ],
            [
             0.7777777777777778,
             "#fb9f3a"
            ],
            [
             0.8888888888888888,
             "#fdca26"
            ],
            [
             1,
             "#f0f921"
            ]
           ],
           "sequentialminus": [
            [
             0,
             "#0d0887"
            ],
            [
             0.1111111111111111,
             "#46039f"
            ],
            [
             0.2222222222222222,
             "#7201a8"
            ],
            [
             0.3333333333333333,
             "#9c179e"
            ],
            [
             0.4444444444444444,
             "#bd3786"
            ],
            [
             0.5555555555555556,
             "#d8576b"
            ],
            [
             0.6666666666666666,
             "#ed7953"
            ],
            [
             0.7777777777777778,
             "#fb9f3a"
            ],
            [
             0.8888888888888888,
             "#fdca26"
            ],
            [
             1,
             "#f0f921"
            ]
           ]
          },
          "colorway": [
           "#636efa",
           "#EF553B",
           "#00cc96",
           "#ab63fa",
           "#FFA15A",
           "#19d3f3",
           "#FF6692",
           "#B6E880",
           "#FF97FF",
           "#FECB52"
          ],
          "font": {
           "color": "#2a3f5f"
          },
          "geo": {
           "bgcolor": "white",
           "lakecolor": "white",
           "landcolor": "white",
           "showlakes": true,
           "showland": true,
           "subunitcolor": "#C8D4E3"
          },
          "hoverlabel": {
           "align": "left"
          },
          "hovermode": "closest",
          "mapbox": {
           "style": "light"
          },
          "paper_bgcolor": "white",
          "plot_bgcolor": "white",
          "polar": {
           "angularaxis": {
            "gridcolor": "#EBF0F8",
            "linecolor": "#EBF0F8",
            "ticks": ""
           },
           "bgcolor": "white",
           "radialaxis": {
            "gridcolor": "#EBF0F8",
            "linecolor": "#EBF0F8",
            "ticks": ""
           }
          },
          "scene": {
           "xaxis": {
            "backgroundcolor": "white",
            "gridcolor": "#DFE8F3",
            "gridwidth": 2,
            "linecolor": "#EBF0F8",
            "showbackground": true,
            "ticks": "",
            "zerolinecolor": "#EBF0F8"
           },
           "yaxis": {
            "backgroundcolor": "white",
            "gridcolor": "#DFE8F3",
            "gridwidth": 2,
            "linecolor": "#EBF0F8",
            "showbackground": true,
            "ticks": "",
            "zerolinecolor": "#EBF0F8"
           },
           "zaxis": {
            "backgroundcolor": "white",
            "gridcolor": "#DFE8F3",
            "gridwidth": 2,
            "linecolor": "#EBF0F8",
            "showbackground": true,
            "ticks": "",
            "zerolinecolor": "#EBF0F8"
           }
          },
          "shapedefaults": {
           "line": {
            "color": "#2a3f5f"
           }
          },
          "ternary": {
           "aaxis": {
            "gridcolor": "#DFE8F3",
            "linecolor": "#A2B1C6",
            "ticks": ""
           },
           "baxis": {
            "gridcolor": "#DFE8F3",
            "linecolor": "#A2B1C6",
            "ticks": ""
           },
           "bgcolor": "white",
           "caxis": {
            "gridcolor": "#DFE8F3",
            "linecolor": "#A2B1C6",
            "ticks": ""
           }
          },
          "title": {
           "x": 0.05
          },
          "xaxis": {
           "automargin": true,
           "gridcolor": "#EBF0F8",
           "linecolor": "#EBF0F8",
           "ticks": "",
           "title": {
            "standoff": 15
           },
           "zerolinecolor": "#EBF0F8",
           "zerolinewidth": 2
          },
          "yaxis": {
           "automargin": true,
           "gridcolor": "#EBF0F8",
           "linecolor": "#EBF0F8",
           "ticks": "",
           "title": {
            "standoff": 15
           },
           "zerolinecolor": "#EBF0F8",
           "zerolinewidth": 2
          }
         }
        },
        "title": {
         "font": {
          "color": "Black",
          "size": 22
         },
         "text": "<b>Hierarchical Clustering</b>",
         "x": 0.5,
         "xanchor": "center",
         "yanchor": "top"
        },
        "width": 1000,
        "xaxis": {
         "mirror": "allticks",
         "rangemode": "tozero",
         "showgrid": false,
         "showline": true,
         "showticklabels": true,
         "ticks": "outside",
         "type": "linear",
         "zeroline": false
        },
        "yaxis": {
         "mirror": "allticks",
         "range": [
          -150,
          0
         ],
         "rangemode": "tozero",
         "showgrid": false,
         "showline": true,
         "showticklabels": true,
         "tickmode": "array",
         "ticks": "outside",
         "ticktext": [
          "14_engenharia_engenheiro_",
          "9_sistemas_engenharia_ciência",
          "12_sistemas_engenharia_prin...",
          "13_sistema_análise_muitas",
          "3_cada_maior_formação",
          "8_tipos_através_processo",
          "2_sistema_podem_outras",
          "5_água_através_estudo",
          "10_áreas_controle_outras",
          "7_produção_área_outras",
          "1_engenharia_engenheiro_con...",
          "0_ver_engenharia_ciência",
          "6_área_ainda_tecnologia",
          "4_estruturas_tipos_sobre",
          "11_desenvolvimento_água_sendo"
         ],
         "tickvals": [
          -5,
          -15,
          -25,
          -35,
          -45,
          -55,
          -65,
          -75,
          -85,
          -95,
          -105,
          -115,
          -125,
          -135,
          -145
         ],
         "type": "linear",
         "zeroline": false
        }
       }
      },
      "text/html": [
       "<div>                        <script type=\"text/javascript\">window.PlotlyConfig = {MathJaxConfig: 'local'};</script>\n",
       "        <script charset=\"utf-8\" src=\"https://cdn.plot.ly/plotly-2.35.2.min.js\"></script>                <div id=\"36d1527a-4ad5-4ad4-ac58-7952b9b7de5a\" class=\"plotly-graph-div\" style=\"height:425px; width:1000px;\"></div>            <script type=\"text/javascript\">                                    window.PLOTLYENV=window.PLOTLYENV || {};                                    if (document.getElementById(\"36d1527a-4ad5-4ad4-ac58-7952b9b7de5a\")) {                    Plotly.newPlot(                        \"36d1527a-4ad5-4ad4-ac58-7952b9b7de5a\",                        [{\"hoverinfo\":\"text\",\"marker\":{\"color\":\"rgb(61,153,112)\"},\"mode\":\"lines\",\"x\":[0.0,0.19816202359923285,0.19816202359923285,0.0],\"xaxis\":\"x\",\"y\":[-15.0,-15.0,-25.0,-25.0],\"yaxis\":\"y\",\"type\":\"scatter\"},{\"hoverinfo\":\"text\",\"marker\":{\"color\":\"rgb(61,153,112)\"},\"mode\":\"lines\",\"x\":[0.0,0.7691203069409073,0.7691203069409073,0.19816202359923285],\"xaxis\":\"x\",\"y\":[-5.0,-5.0,-20.0,-20.0],\"yaxis\":\"y\",\"type\":\"scatter\"},{\"hoverinfo\":\"text\",\"marker\":{\"color\":\"rgb(255,65,54)\"},\"mode\":\"lines\",\"x\":[0.0,0.33942652036469767,0.33942652036469767,0.0],\"xaxis\":\"x\",\"y\":[-55.0,-55.0,-65.0,-65.0],\"yaxis\":\"y\",\"type\":\"scatter\"},{\"hoverinfo\":\"text\",\"marker\":{\"color\":\"rgb(255,65,54)\"},\"mode\":\"lines\",\"x\":[0.0,0.4573792141471843,0.4573792141471843,0.33942652036469767],\"xaxis\":\"x\",\"y\":[-45.0,-45.0,-60.0,-60.0],\"yaxis\":\"y\",\"type\":\"scatter\"},{\"hoverinfo\":\"text\",\"marker\":{\"color\":\"rgb(255,65,54)\"},\"mode\":\"lines\",\"x\":[0.4573792141471843,0.5366642289247474,0.5366642289247474,0.0],\"xaxis\":\"x\",\"y\":[-52.5,-52.5,-75.0,-75.0],\"yaxis\":\"y\",\"type\":\"scatter\"},{\"hoverinfo\":\"text\",\"marker\":{\"color\":\"rgb(255,65,54)\"},\"mode\":\"lines\",\"x\":[0.0,0.5775631695631629,0.5775631695631629,0.5366642289247474],\"xaxis\":\"x\",\"y\":[-35.0,-35.0,-63.75,-63.75],\"yaxis\":\"y\",\"type\":\"scatter\"},{\"hoverinfo\":\"text\",\"marker\":{\"color\":\"rgb(255,65,54)\"},\"mode\":\"lines\",\"x\":[0.0,0.4711236192445225,0.4711236192445225,0.0],\"xaxis\":\"x\",\"y\":[-85.0,-85.0,-95.0,-95.0],\"yaxis\":\"y\",\"type\":\"scatter\"},{\"hoverinfo\":\"text\",\"marker\":{\"color\":\"rgb(255,65,54)\"},\"mode\":\"lines\",\"x\":[0.0,0.2713950648638781,0.2713950648638781,0.0],\"xaxis\":\"x\",\"y\":[-105.0,-105.0,-115.0,-115.0],\"yaxis\":\"y\",\"type\":\"scatter\"},{\"hoverinfo\":\"text\",\"marker\":{\"color\":\"rgb(255,65,54)\"},\"mode\":\"lines\",\"x\":[0.0,0.38978759741490066,0.38978759741490066,0.0],\"xaxis\":\"x\",\"y\":[-125.0,-125.0,-135.0,-135.0],\"yaxis\":\"y\",\"type\":\"scatter\"},{\"hoverinfo\":\"text\",\"marker\":{\"color\":\"rgb(255,65,54)\"},\"mode\":\"lines\",\"x\":[0.2713950648638781,0.4947333889341713,0.4947333889341713,0.38978759741490066],\"xaxis\":\"x\",\"y\":[-110.0,-110.0,-130.0,-130.0],\"yaxis\":\"y\",\"type\":\"scatter\"},{\"hoverinfo\":\"text\",\"marker\":{\"color\":\"rgb(255,65,54)\"},\"mode\":\"lines\",\"x\":[0.4711236192445225,0.6622999935757142,0.6622999935757142,0.4947333889341713],\"xaxis\":\"x\",\"y\":[-90.0,-90.0,-120.0,-120.0],\"yaxis\":\"y\",\"type\":\"scatter\"},{\"hoverinfo\":\"text\",\"marker\":{\"color\":\"rgb(255,65,54)\"},\"mode\":\"lines\",\"x\":[0.5775631695631629,0.8019777771633139,0.8019777771633139,0.6622999935757142],\"xaxis\":\"x\",\"y\":[-49.375,-49.375,-105.0,-105.0],\"yaxis\":\"y\",\"type\":\"scatter\"},{\"hoverinfo\":\"text\",\"marker\":{\"color\":\"rgb(255,65,54)\"},\"mode\":\"lines\",\"x\":[0.8019777771633139,0.9412605629793805,0.9412605629793805,0.0],\"xaxis\":\"x\",\"y\":[-77.1875,-77.1875,-145.0,-145.0],\"yaxis\":\"y\",\"type\":\"scatter\"},{\"hoverinfo\":\"text\",\"marker\":{\"color\":\"rgb(0,116,217)\"},\"mode\":\"lines\",\"x\":[0.7691203069409073,1.210391921111337,1.210391921111337,0.9412605629793805],\"xaxis\":\"x\",\"y\":[-12.5,-12.5,-111.09375,-111.09375],\"yaxis\":\"y\",\"type\":\"scatter\"}],                        {\"autosize\":false,\"height\":425,\"hovermode\":\"closest\",\"showlegend\":false,\"width\":1000,\"xaxis\":{\"mirror\":\"allticks\",\"rangemode\":\"tozero\",\"showgrid\":false,\"showline\":true,\"showticklabels\":true,\"ticks\":\"outside\",\"type\":\"linear\",\"zeroline\":false},\"yaxis\":{\"mirror\":\"allticks\",\"rangemode\":\"tozero\",\"showgrid\":false,\"showline\":true,\"showticklabels\":true,\"tickmode\":\"array\",\"ticks\":\"outside\",\"ticktext\":[\"14_engenharia_engenheiro_\",\"9_sistemas_engenharia_ci\\u00eancia\",\"12_sistemas_engenharia_prin...\",\"13_sistema_an\\u00e1lise_muitas\",\"3_cada_maior_forma\\u00e7\\u00e3o\",\"8_tipos_atrav\\u00e9s_processo\",\"2_sistema_podem_outras\",\"5_\\u00e1gua_atrav\\u00e9s_estudo\",\"10_\\u00e1reas_controle_outras\",\"7_produ\\u00e7\\u00e3o_\\u00e1rea_outras\",\"1_engenharia_engenheiro_con...\",\"0_ver_engenharia_ci\\u00eancia\",\"6_\\u00e1rea_ainda_tecnologia\",\"4_estruturas_tipos_sobre\",\"11_desenvolvimento_\\u00e1gua_sendo\"],\"tickvals\":[-5.0,-15.0,-25.0,-35.0,-45.0,-55.0,-65.0,-75.0,-85.0,-95.0,-105.0,-115.0,-125.0,-135.0,-145.0],\"type\":\"linear\",\"zeroline\":false,\"range\":[-150.0,0.0]},\"template\":{\"data\":{\"barpolar\":[{\"marker\":{\"line\":{\"color\":\"white\",\"width\":0.5},\"pattern\":{\"fillmode\":\"overlay\",\"size\":10,\"solidity\":0.2}},\"type\":\"barpolar\"}],\"bar\":[{\"error_x\":{\"color\":\"#2a3f5f\"},\"error_y\":{\"color\":\"#2a3f5f\"},\"marker\":{\"line\":{\"color\":\"white\",\"width\":0.5},\"pattern\":{\"fillmode\":\"overlay\",\"size\":10,\"solidity\":0.2}},\"type\":\"bar\"}],\"carpet\":[{\"aaxis\":{\"endlinecolor\":\"#2a3f5f\",\"gridcolor\":\"#C8D4E3\",\"linecolor\":\"#C8D4E3\",\"minorgridcolor\":\"#C8D4E3\",\"startlinecolor\":\"#2a3f5f\"},\"baxis\":{\"endlinecolor\":\"#2a3f5f\",\"gridcolor\":\"#C8D4E3\",\"linecolor\":\"#C8D4E3\",\"minorgridcolor\":\"#C8D4E3\",\"startlinecolor\":\"#2a3f5f\"},\"type\":\"carpet\"}],\"choropleth\":[{\"colorbar\":{\"outlinewidth\":0,\"ticks\":\"\"},\"type\":\"choropleth\"}],\"contourcarpet\":[{\"colorbar\":{\"outlinewidth\":0,\"ticks\":\"\"},\"type\":\"contourcarpet\"}],\"contour\":[{\"colorbar\":{\"outlinewidth\":0,\"ticks\":\"\"},\"colorscale\":[[0.0,\"#0d0887\"],[0.1111111111111111,\"#46039f\"],[0.2222222222222222,\"#7201a8\"],[0.3333333333333333,\"#9c179e\"],[0.4444444444444444,\"#bd3786\"],[0.5555555555555556,\"#d8576b\"],[0.6666666666666666,\"#ed7953\"],[0.7777777777777778,\"#fb9f3a\"],[0.8888888888888888,\"#fdca26\"],[1.0,\"#f0f921\"]],\"type\":\"contour\"}],\"heatmapgl\":[{\"colorbar\":{\"outlinewidth\":0,\"ticks\":\"\"},\"colorscale\":[[0.0,\"#0d0887\"],[0.1111111111111111,\"#46039f\"],[0.2222222222222222,\"#7201a8\"],[0.3333333333333333,\"#9c179e\"],[0.4444444444444444,\"#bd3786\"],[0.5555555555555556,\"#d8576b\"],[0.6666666666666666,\"#ed7953\"],[0.7777777777777778,\"#fb9f3a\"],[0.8888888888888888,\"#fdca26\"],[1.0,\"#f0f921\"]],\"type\":\"heatmapgl\"}],\"heatmap\":[{\"colorbar\":{\"outlinewidth\":0,\"ticks\":\"\"},\"colorscale\":[[0.0,\"#0d0887\"],[0.1111111111111111,\"#46039f\"],[0.2222222222222222,\"#7201a8\"],[0.3333333333333333,\"#9c179e\"],[0.4444444444444444,\"#bd3786\"],[0.5555555555555556,\"#d8576b\"],[0.6666666666666666,\"#ed7953\"],[0.7777777777777778,\"#fb9f3a\"],[0.8888888888888888,\"#fdca26\"],[1.0,\"#f0f921\"]],\"type\":\"heatmap\"}],\"histogram2dcontour\":[{\"colorbar\":{\"outlinewidth\":0,\"ticks\":\"\"},\"colorscale\":[[0.0,\"#0d0887\"],[0.1111111111111111,\"#46039f\"],[0.2222222222222222,\"#7201a8\"],[0.3333333333333333,\"#9c179e\"],[0.4444444444444444,\"#bd3786\"],[0.5555555555555556,\"#d8576b\"],[0.6666666666666666,\"#ed7953\"],[0.7777777777777778,\"#fb9f3a\"],[0.8888888888888888,\"#fdca26\"],[1.0,\"#f0f921\"]],\"type\":\"histogram2dcontour\"}],\"histogram2d\":[{\"colorbar\":{\"outlinewidth\":0,\"ticks\":\"\"},\"colorscale\":[[0.0,\"#0d0887\"],[0.1111111111111111,\"#46039f\"],[0.2222222222222222,\"#7201a8\"],[0.3333333333333333,\"#9c179e\"],[0.4444444444444444,\"#bd3786\"],[0.5555555555555556,\"#d8576b\"],[0.6666666666666666,\"#ed7953\"],[0.7777777777777778,\"#fb9f3a\"],[0.8888888888888888,\"#fdca26\"],[1.0,\"#f0f921\"]],\"type\":\"histogram2d\"}],\"histogram\":[{\"marker\":{\"pattern\":{\"fillmode\":\"overlay\",\"size\":10,\"solidity\":0.2}},\"type\":\"histogram\"}],\"mesh3d\":[{\"colorbar\":{\"outlinewidth\":0,\"ticks\":\"\"},\"type\":\"mesh3d\"}],\"parcoords\":[{\"line\":{\"colorbar\":{\"outlinewidth\":0,\"ticks\":\"\"}},\"type\":\"parcoords\"}],\"pie\":[{\"automargin\":true,\"type\":\"pie\"}],\"scatter3d\":[{\"line\":{\"colorbar\":{\"outlinewidth\":0,\"ticks\":\"\"}},\"marker\":{\"colorbar\":{\"outlinewidth\":0,\"ticks\":\"\"}},\"type\":\"scatter3d\"}],\"scattercarpet\":[{\"marker\":{\"colorbar\":{\"outlinewidth\":0,\"ticks\":\"\"}},\"type\":\"scattercarpet\"}],\"scattergeo\":[{\"marker\":{\"colorbar\":{\"outlinewidth\":0,\"ticks\":\"\"}},\"type\":\"scattergeo\"}],\"scattergl\":[{\"marker\":{\"colorbar\":{\"outlinewidth\":0,\"ticks\":\"\"}},\"type\":\"scattergl\"}],\"scattermapbox\":[{\"marker\":{\"colorbar\":{\"outlinewidth\":0,\"ticks\":\"\"}},\"type\":\"scattermapbox\"}],\"scatterpolargl\":[{\"marker\":{\"colorbar\":{\"outlinewidth\":0,\"ticks\":\"\"}},\"type\":\"scatterpolargl\"}],\"scatterpolar\":[{\"marker\":{\"colorbar\":{\"outlinewidth\":0,\"ticks\":\"\"}},\"type\":\"scatterpolar\"}],\"scatter\":[{\"fillpattern\":{\"fillmode\":\"overlay\",\"size\":10,\"solidity\":0.2},\"type\":\"scatter\"}],\"scatterternary\":[{\"marker\":{\"colorbar\":{\"outlinewidth\":0,\"ticks\":\"\"}},\"type\":\"scatterternary\"}],\"surface\":[{\"colorbar\":{\"outlinewidth\":0,\"ticks\":\"\"},\"colorscale\":[[0.0,\"#0d0887\"],[0.1111111111111111,\"#46039f\"],[0.2222222222222222,\"#7201a8\"],[0.3333333333333333,\"#9c179e\"],[0.4444444444444444,\"#bd3786\"],[0.5555555555555556,\"#d8576b\"],[0.6666666666666666,\"#ed7953\"],[0.7777777777777778,\"#fb9f3a\"],[0.8888888888888888,\"#fdca26\"],[1.0,\"#f0f921\"]],\"type\":\"surface\"}],\"table\":[{\"cells\":{\"fill\":{\"color\":\"#EBF0F8\"},\"line\":{\"color\":\"white\"}},\"header\":{\"fill\":{\"color\":\"#C8D4E3\"},\"line\":{\"color\":\"white\"}},\"type\":\"table\"}]},\"layout\":{\"annotationdefaults\":{\"arrowcolor\":\"#2a3f5f\",\"arrowhead\":0,\"arrowwidth\":1},\"autotypenumbers\":\"strict\",\"coloraxis\":{\"colorbar\":{\"outlinewidth\":0,\"ticks\":\"\"}},\"colorscale\":{\"diverging\":[[0,\"#8e0152\"],[0.1,\"#c51b7d\"],[0.2,\"#de77ae\"],[0.3,\"#f1b6da\"],[0.4,\"#fde0ef\"],[0.5,\"#f7f7f7\"],[0.6,\"#e6f5d0\"],[0.7,\"#b8e186\"],[0.8,\"#7fbc41\"],[0.9,\"#4d9221\"],[1,\"#276419\"]],\"sequential\":[[0.0,\"#0d0887\"],[0.1111111111111111,\"#46039f\"],[0.2222222222222222,\"#7201a8\"],[0.3333333333333333,\"#9c179e\"],[0.4444444444444444,\"#bd3786\"],[0.5555555555555556,\"#d8576b\"],[0.6666666666666666,\"#ed7953\"],[0.7777777777777778,\"#fb9f3a\"],[0.8888888888888888,\"#fdca26\"],[1.0,\"#f0f921\"]],\"sequentialminus\":[[0.0,\"#0d0887\"],[0.1111111111111111,\"#46039f\"],[0.2222222222222222,\"#7201a8\"],[0.3333333333333333,\"#9c179e\"],[0.4444444444444444,\"#bd3786\"],[0.5555555555555556,\"#d8576b\"],[0.6666666666666666,\"#ed7953\"],[0.7777777777777778,\"#fb9f3a\"],[0.8888888888888888,\"#fdca26\"],[1.0,\"#f0f921\"]]},\"colorway\":[\"#636efa\",\"#EF553B\",\"#00cc96\",\"#ab63fa\",\"#FFA15A\",\"#19d3f3\",\"#FF6692\",\"#B6E880\",\"#FF97FF\",\"#FECB52\"],\"font\":{\"color\":\"#2a3f5f\"},\"geo\":{\"bgcolor\":\"white\",\"lakecolor\":\"white\",\"landcolor\":\"white\",\"showlakes\":true,\"showland\":true,\"subunitcolor\":\"#C8D4E3\"},\"hoverlabel\":{\"align\":\"left\"},\"hovermode\":\"closest\",\"mapbox\":{\"style\":\"light\"},\"paper_bgcolor\":\"white\",\"plot_bgcolor\":\"white\",\"polar\":{\"angularaxis\":{\"gridcolor\":\"#EBF0F8\",\"linecolor\":\"#EBF0F8\",\"ticks\":\"\"},\"bgcolor\":\"white\",\"radialaxis\":{\"gridcolor\":\"#EBF0F8\",\"linecolor\":\"#EBF0F8\",\"ticks\":\"\"}},\"scene\":{\"xaxis\":{\"backgroundcolor\":\"white\",\"gridcolor\":\"#DFE8F3\",\"gridwidth\":2,\"linecolor\":\"#EBF0F8\",\"showbackground\":true,\"ticks\":\"\",\"zerolinecolor\":\"#EBF0F8\"},\"yaxis\":{\"backgroundcolor\":\"white\",\"gridcolor\":\"#DFE8F3\",\"gridwidth\":2,\"linecolor\":\"#EBF0F8\",\"showbackground\":true,\"ticks\":\"\",\"zerolinecolor\":\"#EBF0F8\"},\"zaxis\":{\"backgroundcolor\":\"white\",\"gridcolor\":\"#DFE8F3\",\"gridwidth\":2,\"linecolor\":\"#EBF0F8\",\"showbackground\":true,\"ticks\":\"\",\"zerolinecolor\":\"#EBF0F8\"}},\"shapedefaults\":{\"line\":{\"color\":\"#2a3f5f\"}},\"ternary\":{\"aaxis\":{\"gridcolor\":\"#DFE8F3\",\"linecolor\":\"#A2B1C6\",\"ticks\":\"\"},\"baxis\":{\"gridcolor\":\"#DFE8F3\",\"linecolor\":\"#A2B1C6\",\"ticks\":\"\"},\"bgcolor\":\"white\",\"caxis\":{\"gridcolor\":\"#DFE8F3\",\"linecolor\":\"#A2B1C6\",\"ticks\":\"\"}},\"title\":{\"x\":0.05},\"xaxis\":{\"automargin\":true,\"gridcolor\":\"#EBF0F8\",\"linecolor\":\"#EBF0F8\",\"ticks\":\"\",\"title\":{\"standoff\":15},\"zerolinecolor\":\"#EBF0F8\",\"zerolinewidth\":2},\"yaxis\":{\"automargin\":true,\"gridcolor\":\"#EBF0F8\",\"linecolor\":\"#EBF0F8\",\"ticks\":\"\",\"title\":{\"standoff\":15},\"zerolinecolor\":\"#EBF0F8\",\"zerolinewidth\":2}}},\"title\":{\"font\":{\"size\":22,\"color\":\"Black\"},\"text\":\"\\u003cb\\u003eHierarchical Clustering\\u003c\\u002fb\\u003e\",\"x\":0.5,\"xanchor\":\"center\",\"yanchor\":\"top\"},\"hoverlabel\":{\"font\":{\"size\":16,\"family\":\"Rockwell\"},\"bgcolor\":\"white\"},\"plot_bgcolor\":\"#ECEFF1\"},                        {\"responsive\": true}                    )                };                            </script>        </div>"
      ],
      "text/plain": [
       "Figure({\n",
       "    'data': [{'hoverinfo': 'text',\n",
       "              'marker': {'color': 'rgb(61,153,112)'},\n",
       "              'mode': 'lines',\n",
       "              'type': 'scatter',\n",
       "              'x': array([0.        , 0.19816202, 0.19816202, 0.        ]),\n",
       "              'xaxis': 'x',\n",
       "              'y': array([-15., -15., -25., -25.]),\n",
       "              'yaxis': 'y'},\n",
       "             {'hoverinfo': 'text',\n",
       "              'marker': {'color': 'rgb(61,153,112)'},\n",
       "              'mode': 'lines',\n",
       "              'type': 'scatter',\n",
       "              'x': array([0.        , 0.76912031, 0.76912031, 0.19816202]),\n",
       "              'xaxis': 'x',\n",
       "              'y': array([ -5.,  -5., -20., -20.]),\n",
       "              'yaxis': 'y'},\n",
       "             {'hoverinfo': 'text',\n",
       "              'marker': {'color': 'rgb(255,65,54)'},\n",
       "              'mode': 'lines',\n",
       "              'type': 'scatter',\n",
       "              'x': array([0.        , 0.33942652, 0.33942652, 0.        ]),\n",
       "              'xaxis': 'x',\n",
       "              'y': array([-55., -55., -65., -65.]),\n",
       "              'yaxis': 'y'},\n",
       "             {'hoverinfo': 'text',\n",
       "              'marker': {'color': 'rgb(255,65,54)'},\n",
       "              'mode': 'lines',\n",
       "              'type': 'scatter',\n",
       "              'x': array([0.        , 0.45737921, 0.45737921, 0.33942652]),\n",
       "              'xaxis': 'x',\n",
       "              'y': array([-45., -45., -60., -60.]),\n",
       "              'yaxis': 'y'},\n",
       "             {'hoverinfo': 'text',\n",
       "              'marker': {'color': 'rgb(255,65,54)'},\n",
       "              'mode': 'lines',\n",
       "              'type': 'scatter',\n",
       "              'x': array([0.45737921, 0.53666423, 0.53666423, 0.        ]),\n",
       "              'xaxis': 'x',\n",
       "              'y': array([-52.5, -52.5, -75. , -75. ]),\n",
       "              'yaxis': 'y'},\n",
       "             {'hoverinfo': 'text',\n",
       "              'marker': {'color': 'rgb(255,65,54)'},\n",
       "              'mode': 'lines',\n",
       "              'type': 'scatter',\n",
       "              'x': array([0.        , 0.57756317, 0.57756317, 0.53666423]),\n",
       "              'xaxis': 'x',\n",
       "              'y': array([-35.  , -35.  , -63.75, -63.75]),\n",
       "              'yaxis': 'y'},\n",
       "             {'hoverinfo': 'text',\n",
       "              'marker': {'color': 'rgb(255,65,54)'},\n",
       "              'mode': 'lines',\n",
       "              'type': 'scatter',\n",
       "              'x': array([0.        , 0.47112362, 0.47112362, 0.        ]),\n",
       "              'xaxis': 'x',\n",
       "              'y': array([-85., -85., -95., -95.]),\n",
       "              'yaxis': 'y'},\n",
       "             {'hoverinfo': 'text',\n",
       "              'marker': {'color': 'rgb(255,65,54)'},\n",
       "              'mode': 'lines',\n",
       "              'type': 'scatter',\n",
       "              'x': array([0.        , 0.27139506, 0.27139506, 0.        ]),\n",
       "              'xaxis': 'x',\n",
       "              'y': array([-105., -105., -115., -115.]),\n",
       "              'yaxis': 'y'},\n",
       "             {'hoverinfo': 'text',\n",
       "              'marker': {'color': 'rgb(255,65,54)'},\n",
       "              'mode': 'lines',\n",
       "              'type': 'scatter',\n",
       "              'x': array([0.       , 0.3897876, 0.3897876, 0.       ]),\n",
       "              'xaxis': 'x',\n",
       "              'y': array([-125., -125., -135., -135.]),\n",
       "              'yaxis': 'y'},\n",
       "             {'hoverinfo': 'text',\n",
       "              'marker': {'color': 'rgb(255,65,54)'},\n",
       "              'mode': 'lines',\n",
       "              'type': 'scatter',\n",
       "              'x': array([0.27139506, 0.49473339, 0.49473339, 0.3897876 ]),\n",
       "              'xaxis': 'x',\n",
       "              'y': array([-110., -110., -130., -130.]),\n",
       "              'yaxis': 'y'},\n",
       "             {'hoverinfo': 'text',\n",
       "              'marker': {'color': 'rgb(255,65,54)'},\n",
       "              'mode': 'lines',\n",
       "              'type': 'scatter',\n",
       "              'x': array([0.47112362, 0.66229999, 0.66229999, 0.49473339]),\n",
       "              'xaxis': 'x',\n",
       "              'y': array([ -90.,  -90., -120., -120.]),\n",
       "              'yaxis': 'y'},\n",
       "             {'hoverinfo': 'text',\n",
       "              'marker': {'color': 'rgb(255,65,54)'},\n",
       "              'mode': 'lines',\n",
       "              'type': 'scatter',\n",
       "              'x': array([0.57756317, 0.80197778, 0.80197778, 0.66229999]),\n",
       "              'xaxis': 'x',\n",
       "              'y': array([ -49.375,  -49.375, -105.   , -105.   ]),\n",
       "              'yaxis': 'y'},\n",
       "             {'hoverinfo': 'text',\n",
       "              'marker': {'color': 'rgb(255,65,54)'},\n",
       "              'mode': 'lines',\n",
       "              'type': 'scatter',\n",
       "              'x': array([0.80197778, 0.94126056, 0.94126056, 0.        ]),\n",
       "              'xaxis': 'x',\n",
       "              'y': array([ -77.1875,  -77.1875, -145.    , -145.    ]),\n",
       "              'yaxis': 'y'},\n",
       "             {'hoverinfo': 'text',\n",
       "              'marker': {'color': 'rgb(0,116,217)'},\n",
       "              'mode': 'lines',\n",
       "              'type': 'scatter',\n",
       "              'x': array([0.76912031, 1.21039192, 1.21039192, 0.94126056]),\n",
       "              'xaxis': 'x',\n",
       "              'y': array([ -12.5    ,  -12.5    , -111.09375, -111.09375]),\n",
       "              'yaxis': 'y'}],\n",
       "    'layout': {'autosize': False,\n",
       "               'height': 425,\n",
       "               'hoverlabel': {'bgcolor': 'white', 'font': {'family': 'Rockwell', 'size': 16}},\n",
       "               'hovermode': 'closest',\n",
       "               'plot_bgcolor': '#ECEFF1',\n",
       "               'showlegend': False,\n",
       "               'template': '...',\n",
       "               'title': {'font': {'color': 'Black', 'size': 22},\n",
       "                         'text': '<b>Hierarchical Clustering</b>',\n",
       "                         'x': 0.5,\n",
       "                         'xanchor': 'center',\n",
       "                         'yanchor': 'top'},\n",
       "               'width': 1000,\n",
       "               'xaxis': {'mirror': 'allticks',\n",
       "                         'rangemode': 'tozero',\n",
       "                         'showgrid': False,\n",
       "                         'showline': True,\n",
       "                         'showticklabels': True,\n",
       "                         'ticks': 'outside',\n",
       "                         'type': 'linear',\n",
       "                         'zeroline': False},\n",
       "               'yaxis': {'mirror': 'allticks',\n",
       "                         'range': [-150.0, 0.0],\n",
       "                         'rangemode': 'tozero',\n",
       "                         'showgrid': False,\n",
       "                         'showline': True,\n",
       "                         'showticklabels': True,\n",
       "                         'tickmode': 'array',\n",
       "                         'ticks': 'outside',\n",
       "                         'ticktext': [14_engenharia_engenheiro_,\n",
       "                                      9_sistemas_engenharia_ciência,\n",
       "                                      12_sistemas_engenharia_prin...,\n",
       "                                      13_sistema_análise_muitas,\n",
       "                                      3_cada_maior_formação,\n",
       "                                      8_tipos_através_processo,\n",
       "                                      2_sistema_podem_outras,\n",
       "                                      5_água_através_estudo,\n",
       "                                      10_áreas_controle_outras,\n",
       "                                      7_produção_área_outras,\n",
       "                                      1_engenharia_engenheiro_con...,\n",
       "                                      0_ver_engenharia_ciência,\n",
       "                                      6_área_ainda_tecnologia,\n",
       "                                      4_estruturas_tipos_sobre,\n",
       "                                      11_desenvolvimento_água_sendo],\n",
       "                         'tickvals': [-5.0, -15.0, -25.0, -35.0, -45.0, -55.0,\n",
       "                                      -65.0, -75.0, -85.0, -95.0, -105.0, -115.0,\n",
       "                                      -125.0, -135.0, -145.0],\n",
       "                         'type': 'linear',\n",
       "                         'zeroline': False}}\n",
       "})"
      ]
     },
     "execution_count": 28,
     "metadata": {},
     "output_type": "execute_result"
    }
   ],
   "source": [
    "model.visualize_hierarchy(top_n_topics=15)"
   ]
  },
  {
   "cell_type": "code",
   "execution_count": 29,
   "metadata": {},
   "outputs": [
    {
     "ename": "ValueError",
     "evalue": "Mime type rendering requires nbformat>=4.2.0 but it is not installed",
     "output_type": "error",
     "traceback": [
      "\u001b[1;31m---------------------------------------------------------------------------\u001b[0m",
      "\u001b[1;31mValueError\u001b[0m                                Traceback (most recent call last)",
      "File \u001b[1;32mc:\\Users\\estag\\workspace\\Formacao-Processamento-de-Linguagem-Natural-e-LLM\\.venv\\Lib\\site-packages\\IPython\\core\\formatters.py:925\u001b[0m, in \u001b[0;36mIPythonDisplayFormatter.__call__\u001b[1;34m(self, obj)\u001b[0m\n\u001b[0;32m    923\u001b[0m method \u001b[38;5;241m=\u001b[39m get_real_method(obj, \u001b[38;5;28mself\u001b[39m\u001b[38;5;241m.\u001b[39mprint_method)\n\u001b[0;32m    924\u001b[0m \u001b[38;5;28;01mif\u001b[39;00m method \u001b[38;5;129;01mis\u001b[39;00m \u001b[38;5;129;01mnot\u001b[39;00m \u001b[38;5;28;01mNone\u001b[39;00m:\n\u001b[1;32m--> 925\u001b[0m     \u001b[43mmethod\u001b[49m\u001b[43m(\u001b[49m\u001b[43m)\u001b[49m\n\u001b[0;32m    926\u001b[0m     \u001b[38;5;28;01mreturn\u001b[39;00m \u001b[38;5;28;01mTrue\u001b[39;00m\n",
      "File \u001b[1;32mc:\\Users\\estag\\workspace\\Formacao-Processamento-de-Linguagem-Natural-e-LLM\\.venv\\Lib\\site-packages\\plotly\\basedatatypes.py:832\u001b[0m, in \u001b[0;36mBaseFigure._ipython_display_\u001b[1;34m(self)\u001b[0m\n\u001b[0;32m    829\u001b[0m \u001b[38;5;28;01mimport\u001b[39;00m \u001b[38;5;21;01mplotly\u001b[39;00m\u001b[38;5;21;01m.\u001b[39;00m\u001b[38;5;21;01mio\u001b[39;00m \u001b[38;5;28;01mas\u001b[39;00m \u001b[38;5;21;01mpio\u001b[39;00m\n\u001b[0;32m    831\u001b[0m \u001b[38;5;28;01mif\u001b[39;00m pio\u001b[38;5;241m.\u001b[39mrenderers\u001b[38;5;241m.\u001b[39mrender_on_display \u001b[38;5;129;01mand\u001b[39;00m pio\u001b[38;5;241m.\u001b[39mrenderers\u001b[38;5;241m.\u001b[39mdefault:\n\u001b[1;32m--> 832\u001b[0m     \u001b[43mpio\u001b[49m\u001b[38;5;241;43m.\u001b[39;49m\u001b[43mshow\u001b[49m\u001b[43m(\u001b[49m\u001b[38;5;28;43mself\u001b[39;49m\u001b[43m)\u001b[49m\n\u001b[0;32m    833\u001b[0m \u001b[38;5;28;01melse\u001b[39;00m:\n\u001b[0;32m    834\u001b[0m     \u001b[38;5;28mprint\u001b[39m(\u001b[38;5;28mrepr\u001b[39m(\u001b[38;5;28mself\u001b[39m))\n",
      "File \u001b[1;32mc:\\Users\\estag\\workspace\\Formacao-Processamento-de-Linguagem-Natural-e-LLM\\.venv\\Lib\\site-packages\\plotly\\io\\_renderers.py:394\u001b[0m, in \u001b[0;36mshow\u001b[1;34m(fig, renderer, validate, **kwargs)\u001b[0m\n\u001b[0;32m    389\u001b[0m         \u001b[38;5;28;01mraise\u001b[39;00m \u001b[38;5;167;01mValueError\u001b[39;00m(\n\u001b[0;32m    390\u001b[0m             \u001b[38;5;124m\"\u001b[39m\u001b[38;5;124mMime type rendering requires ipython but it is not installed\u001b[39m\u001b[38;5;124m\"\u001b[39m\n\u001b[0;32m    391\u001b[0m         )\n\u001b[0;32m    393\u001b[0m     \u001b[38;5;28;01mif\u001b[39;00m \u001b[38;5;129;01mnot\u001b[39;00m nbformat \u001b[38;5;129;01mor\u001b[39;00m Version(nbformat\u001b[38;5;241m.\u001b[39m__version__) \u001b[38;5;241m<\u001b[39m Version(\u001b[38;5;124m\"\u001b[39m\u001b[38;5;124m4.2.0\u001b[39m\u001b[38;5;124m\"\u001b[39m):\n\u001b[1;32m--> 394\u001b[0m         \u001b[38;5;28;01mraise\u001b[39;00m \u001b[38;5;167;01mValueError\u001b[39;00m(\n\u001b[0;32m    395\u001b[0m             \u001b[38;5;124m\"\u001b[39m\u001b[38;5;124mMime type rendering requires nbformat>=4.2.0 but it is not installed\u001b[39m\u001b[38;5;124m\"\u001b[39m\n\u001b[0;32m    396\u001b[0m         )\n\u001b[0;32m    398\u001b[0m     ipython_display\u001b[38;5;241m.\u001b[39mdisplay(bundle, raw\u001b[38;5;241m=\u001b[39m\u001b[38;5;28;01mTrue\u001b[39;00m)\n\u001b[0;32m    400\u001b[0m \u001b[38;5;66;03m# external renderers\u001b[39;00m\n",
      "\u001b[1;31mValueError\u001b[0m: Mime type rendering requires nbformat>=4.2.0 but it is not installed"
     ]
    },
    {
     "data": {
      "application/vnd.plotly.v1+json": {
       "config": {
        "plotlyServerURL": "https://plot.ly"
       },
       "data": [
        {
         "coloraxis": "coloraxis",
         "hovertemplate": "x: %{x}<br>y: %{y}<br>Similarity Score: %{z}<extra></extra>",
         "name": "0",
         "type": "heatmap",
         "x": [
          "0_ver_engenharia_ciência",
          "1_engenharia_engenheiro_con...",
          "2_sistema_podem_outras",
          "4_estruturas_tipos_sobre",
          "6_área_ainda_tecnologia",
          "3_cada_maior_formação",
          "5_água_através_estudo",
          "18_água_ver_utilizados",
          "7_produção_área_outras",
          "8_tipos_através_processo",
          "9_sistemas_engenharia_ciência",
          "13_sistema_análise_muitas",
          "10_áreas_controle_outras",
          "11_desenvolvimento_água_sendo",
          "12_sistemas_engenharia_prin...",
          "14_engenharia_engenheiro_",
          "15_pois_maior_uso",
          "16_tecnologia_ver_através",
          "17_artigo_pode_"
         ],
         "xaxis": "x",
         "y": [
          "0_ver_engenharia_ciência",
          "1_engenharia_engenheiro_con...",
          "2_sistema_podem_outras",
          "4_estruturas_tipos_sobre",
          "6_área_ainda_tecnologia",
          "3_cada_maior_formação",
          "5_água_através_estudo",
          "18_água_ver_utilizados",
          "7_produção_área_outras",
          "8_tipos_através_processo",
          "9_sistemas_engenharia_ciência",
          "13_sistema_análise_muitas",
          "10_áreas_controle_outras",
          "11_desenvolvimento_água_sendo",
          "12_sistemas_engenharia_prin...",
          "14_engenharia_engenheiro_",
          "15_pois_maior_uso",
          "16_tecnologia_ver_através",
          "17_artigo_pode_"
         ],
         "yaxis": "y",
         "z": [
          [
           1,
           0.5735836977414733,
           0.6100659693672783,
           0.5626552923653407,
           0.47699000495250105,
           0.3833619258093133,
           0.5038468735680074,
           0.5783758637185632,
           0.603153591441004,
           0.527715360612514,
           0.3742805634325964,
           0.3911247198664996,
           0.6036798452605638,
           0.3295078016572363,
           0.5587252729234764,
           0.5759575140408829,
           0.3101807320909655,
           0.38803667863646896,
           0.34181141227444234
          ],
          [
           0.5735836977414733,
           1,
           0.5479714083015494,
           0.6347620500505315,
           0.6855639233035246,
           0.4898648939631194,
           0.700250234109998,
           0.6761326424831415,
           0.5717541650479181,
           0.413573490341846,
           0.5944578851854886,
           0.6403770773415719,
           0.5355112769670877,
           0.3988845032570423,
           0.6366271703608306,
           0.38976283844321785,
           0.3444627494315772,
           0.3884851946665648,
           0.5137364584984636
          ],
          [
           0.6100659693672783,
           0.5479714083015494,
           1.0000000000000004,
           0.7855969719477335,
           0.614235594710775,
           0.551310501806626,
           0.4347290693871182,
           0.45738452065678076,
           0.5796679577355328,
           0.7188766093609038,
           0.42173580076731004,
           0.5316481729255184,
           0.5913080792329315,
           0.20636304193472138,
           0.364289650840947,
           0.435957605674859,
           0.38897700096884175,
           0.34378346740995064,
           0.37377295869133753
          ],
          [
           0.5626552923653407,
           0.6347620500505315,
           0.7855969719477335,
           0.9999999999999998,
           0.7266149702013802,
           0.6822904288228123,
           0.4813639981528267,
           0.5218464244964073,
           0.5198970552893765,
           0.640725582555046,
           0.4647061890927914,
           0.5306729548892254,
           0.6342697957560647,
           0.3388394507499329,
           0.3860406105601239,
           0.4074428817295683,
           0.5369012659376495,
           0.32454317873257116,
           0.48530176251430823
          ],
          [
           0.47699000495250105,
           0.6855639233035246,
           0.614235594710775,
           0.7266149702013802,
           1.0000000000000002,
           0.53860250020919,
           0.3970095632891108,
           0.46608215385277457,
           0.5726697301749434,
           0.4995319598065098,
           0.6528639836258864,
           0.6144264992595834,
           0.6825355528714843,
           0.2611264979107471,
           0.4375341749647901,
           0.3702662416273644,
           0.5618615439357554,
           0.3515070178815327,
           0.5366720675973521
          ],
          [
           0.3833619258093133,
           0.4898648939631194,
           0.551310501806626,
           0.6822904288228123,
           0.53860250020919,
           1.0000000000000016,
           0.3551884004507917,
           0.3964431791542558,
           0.2902522547332174,
           0.4657309302917825,
           0.39104153044672624,
           0.514106047831365,
           0.4330022840249416,
           0.3951266669612744,
           0.5057796552296112,
           0.29155684402906645,
           0.4910410356991892,
           0.2986031474010442,
           0.43439858423435884
          ],
          [
           0.5038468735680074,
           0.700250234109998,
           0.4347290693871182,
           0.4813639981528267,
           0.3970095632891108,
           0.3551884004507917,
           1.0000000000000009,
           0.5692378643718301,
           0.3991371579258317,
           0.30725683870582265,
           0.33409779912309007,
           0.48011875210455623,
           0.36863532777721525,
           0.2210120577583014,
           0.506602277427043,
           0.327413428496364,
           0.23960971753132077,
           0.28814848140384797,
           0.32833075905189607
          ],
          [
           0.5783758637185632,
           0.6761326424831415,
           0.45738452065678076,
           0.5218464244964073,
           0.46608215385277457,
           0.3964431791542558,
           0.5692378643718301,
           1.0000000000000013,
           0.49590628525335445,
           0.4501968542753147,
           0.30646154324505137,
           0.38692636659682483,
           0.3625133517128481,
           0.3873831729966954,
           0.5594468039932372,
           0.4072676984849494,
           0.2975105663705347,
           0.16874571419167128,
           0.39425791922510683
          ],
          [
           0.603153591441004,
           0.5717541650479181,
           0.5796679577355328,
           0.5198970552893765,
           0.5726697301749434,
           0.2902522547332174,
           0.3991371579258317,
           0.49590628525335445,
           1.0000000000000009,
           0.4869810541165832,
           0.3369852068847549,
           0.42902581901729536,
           0.39154639021768267,
           0.151461486965495,
           0.3545291972372549,
           0.34769308914906166,
           0.3518249778256156,
           0.3449216723190935,
           0.26008230444882385
          ],
          [
           0.527715360612514,
           0.413573490341846,
           0.7188766093609038,
           0.640725582555046,
           0.4995319598065098,
           0.4657309302917825,
           0.30725683870582265,
           0.4501968542753147,
           0.4869810541165832,
           1.0000000000000013,
           0.20127047558410727,
           0.38504011149986783,
           0.46393094174636174,
           0.25422521829436057,
           0.3321606063617443,
           0.33039629929783415,
           0.3654716858119572,
           0.21179214872668248,
           0.30565921667983437
          ],
          [
           0.3742805634325964,
           0.5944578851854886,
           0.42173580076731004,
           0.4647061890927914,
           0.6528639836258864,
           0.39104153044672624,
           0.33409779912309007,
           0.30646154324505137,
           0.3369852068847549,
           0.20127047558410727,
           1.000000000000001,
           0.6092878313006622,
           0.5114302360773101,
           0.12008699979717238,
           0.5701930242082915,
           0.4027604402286797,
           0.34511425344896535,
           0.3352345789818305,
           0.25289316253664434
          ],
          [
           0.3911247198664996,
           0.6403770773415719,
           0.5316481729255184,
           0.5306729548892254,
           0.6144264992595834,
           0.514106047831365,
           0.48011875210455623,
           0.38692636659682483,
           0.42902581901729536,
           0.38504011149986783,
           0.6092878313006622,
           1.0000000000000013,
           0.37175707969353305,
           0.17289531698706015,
           0.3932345706360387,
           0.45598187894844555,
           0.4535730031955281,
           0.39530962162212724,
           0.43134829746122005
          ],
          [
           0.6036798452605638,
           0.5355112769670877,
           0.5913080792329315,
           0.6342697957560647,
           0.6825355528714843,
           0.4330022840249416,
           0.36863532777721525,
           0.3625133517128481,
           0.39154639021768267,
           0.46393094174636174,
           0.5114302360773101,
           0.37175707969353305,
           1.0000000000000013,
           0.09494949701268772,
           0.49081594830353564,
           0.34714967606168656,
           0.3729644251153305,
           0.382283371627549,
           0.2735015320486224
          ],
          [
           0.3295078016572363,
           0.3988845032570423,
           0.20636304193472138,
           0.3388394507499329,
           0.2611264979107471,
           0.3951266669612744,
           0.2210120577583014,
           0.3873831729966954,
           0.151461486965495,
           0.25422521829436057,
           0.12008699979717238,
           0.17289531698706015,
           0.09494949701268772,
           1.000000000000002,
           0.31495779377528393,
           0.2655829627999,
           0.1260760121238246,
           -0.01351820084902709,
           0.6089871856234357
          ],
          [
           0.5587252729234764,
           0.6366271703608306,
           0.364289650840947,
           0.3860406105601239,
           0.4375341749647901,
           0.5057796552296112,
           0.506602277427043,
           0.5594468039932372,
           0.3545291972372549,
           0.3321606063617443,
           0.5701930242082915,
           0.3932345706360387,
           0.49081594830353564,
           0.31495779377528393,
           1.0000000000000007,
           0.3489073978624017,
           0.24298228235129712,
           0.25762890309307646,
           0.2566750231830357
          ],
          [
           0.5759575140408829,
           0.38976283844321785,
           0.435957605674859,
           0.4074428817295683,
           0.3702662416273644,
           0.29155684402906645,
           0.327413428496364,
           0.4072676984849494,
           0.34769308914906166,
           0.33039629929783415,
           0.4027604402286797,
           0.45598187894844555,
           0.34714967606168656,
           0.2655829627999,
           0.3489073978624017,
           1.000000000000001,
           0.2956175813150085,
           0.29025788539724784,
           0.3534860384171479
          ],
          [
           0.3101807320909655,
           0.3444627494315772,
           0.38897700096884175,
           0.5369012659376495,
           0.5618615439357554,
           0.4910410356991892,
           0.23960971753132077,
           0.2975105663705347,
           0.3518249778256156,
           0.3654716858119572,
           0.34511425344896535,
           0.4535730031955281,
           0.3729644251153305,
           0.1260760121238246,
           0.24298228235129712,
           0.2956175813150085,
           1.0000000000000009,
           0.24866352492952382,
           0.2132331799597804
          ],
          [
           0.38803667863646896,
           0.3884851946665648,
           0.34378346740995064,
           0.32454317873257116,
           0.3515070178815327,
           0.2986031474010442,
           0.28814848140384797,
           0.16874571419167128,
           0.3449216723190935,
           0.21179214872668248,
           0.3352345789818305,
           0.39530962162212724,
           0.382283371627549,
           -0.01351820084902709,
           0.25762890309307646,
           0.29025788539724784,
           0.24866352492952382,
           1.0000000000000013,
           0.1398181135050608
          ],
          [
           0.34181141227444234,
           0.5137364584984636,
           0.37377295869133753,
           0.48530176251430823,
           0.5366720675973521,
           0.43439858423435884,
           0.32833075905189607,
           0.39425791922510683,
           0.26008230444882385,
           0.30565921667983437,
           0.25289316253664434,
           0.43134829746122005,
           0.2735015320486224,
           0.6089871856234357,
           0.2566750231830357,
           0.3534860384171479,
           0.2132331799597804,
           0.1398181135050608,
           1.0000000000000002
          ]
         ]
        }
       ],
       "layout": {
        "coloraxis": {
         "colorbar": {
          "title": {
           "text": "Similarity Score"
          }
         },
         "colorscale": [
          [
           0,
           "rgb(247,252,240)"
          ],
          [
           0.125,
           "rgb(224,243,219)"
          ],
          [
           0.25,
           "rgb(204,235,197)"
          ],
          [
           0.375,
           "rgb(168,221,181)"
          ],
          [
           0.5,
           "rgb(123,204,196)"
          ],
          [
           0.625,
           "rgb(78,179,211)"
          ],
          [
           0.75,
           "rgb(43,140,190)"
          ],
          [
           0.875,
           "rgb(8,104,172)"
          ],
          [
           1,
           "rgb(8,64,129)"
          ]
         ]
        },
        "height": 800,
        "hoverlabel": {
         "bgcolor": "white",
         "font": {
          "family": "Rockwell",
          "size": 16
         }
        },
        "legend": {
         "title": {
          "text": "Trend"
         }
        },
        "margin": {
         "t": 60
        },
        "showlegend": true,
        "template": {
         "data": {
          "bar": [
           {
            "error_x": {
             "color": "#2a3f5f"
            },
            "error_y": {
             "color": "#2a3f5f"
            },
            "marker": {
             "line": {
              "color": "#E5ECF6",
              "width": 0.5
             },
             "pattern": {
              "fillmode": "overlay",
              "size": 10,
              "solidity": 0.2
             }
            },
            "type": "bar"
           }
          ],
          "barpolar": [
           {
            "marker": {
             "line": {
              "color": "#E5ECF6",
              "width": 0.5
             },
             "pattern": {
              "fillmode": "overlay",
              "size": 10,
              "solidity": 0.2
             }
            },
            "type": "barpolar"
           }
          ],
          "carpet": [
           {
            "aaxis": {
             "endlinecolor": "#2a3f5f",
             "gridcolor": "white",
             "linecolor": "white",
             "minorgridcolor": "white",
             "startlinecolor": "#2a3f5f"
            },
            "baxis": {
             "endlinecolor": "#2a3f5f",
             "gridcolor": "white",
             "linecolor": "white",
             "minorgridcolor": "white",
             "startlinecolor": "#2a3f5f"
            },
            "type": "carpet"
           }
          ],
          "choropleth": [
           {
            "colorbar": {
             "outlinewidth": 0,
             "ticks": ""
            },
            "type": "choropleth"
           }
          ],
          "contour": [
           {
            "colorbar": {
             "outlinewidth": 0,
             "ticks": ""
            },
            "colorscale": [
             [
              0,
              "#0d0887"
             ],
             [
              0.1111111111111111,
              "#46039f"
             ],
             [
              0.2222222222222222,
              "#7201a8"
             ],
             [
              0.3333333333333333,
              "#9c179e"
             ],
             [
              0.4444444444444444,
              "#bd3786"
             ],
             [
              0.5555555555555556,
              "#d8576b"
             ],
             [
              0.6666666666666666,
              "#ed7953"
             ],
             [
              0.7777777777777778,
              "#fb9f3a"
             ],
             [
              0.8888888888888888,
              "#fdca26"
             ],
             [
              1,
              "#f0f921"
             ]
            ],
            "type": "contour"
           }
          ],
          "contourcarpet": [
           {
            "colorbar": {
             "outlinewidth": 0,
             "ticks": ""
            },
            "type": "contourcarpet"
           }
          ],
          "heatmap": [
           {
            "colorbar": {
             "outlinewidth": 0,
             "ticks": ""
            },
            "colorscale": [
             [
              0,
              "#0d0887"
             ],
             [
              0.1111111111111111,
              "#46039f"
             ],
             [
              0.2222222222222222,
              "#7201a8"
             ],
             [
              0.3333333333333333,
              "#9c179e"
             ],
             [
              0.4444444444444444,
              "#bd3786"
             ],
             [
              0.5555555555555556,
              "#d8576b"
             ],
             [
              0.6666666666666666,
              "#ed7953"
             ],
             [
              0.7777777777777778,
              "#fb9f3a"
             ],
             [
              0.8888888888888888,
              "#fdca26"
             ],
             [
              1,
              "#f0f921"
             ]
            ],
            "type": "heatmap"
           }
          ],
          "heatmapgl": [
           {
            "colorbar": {
             "outlinewidth": 0,
             "ticks": ""
            },
            "colorscale": [
             [
              0,
              "#0d0887"
             ],
             [
              0.1111111111111111,
              "#46039f"
             ],
             [
              0.2222222222222222,
              "#7201a8"
             ],
             [
              0.3333333333333333,
              "#9c179e"
             ],
             [
              0.4444444444444444,
              "#bd3786"
             ],
             [
              0.5555555555555556,
              "#d8576b"
             ],
             [
              0.6666666666666666,
              "#ed7953"
             ],
             [
              0.7777777777777778,
              "#fb9f3a"
             ],
             [
              0.8888888888888888,
              "#fdca26"
             ],
             [
              1,
              "#f0f921"
             ]
            ],
            "type": "heatmapgl"
           }
          ],
          "histogram": [
           {
            "marker": {
             "pattern": {
              "fillmode": "overlay",
              "size": 10,
              "solidity": 0.2
             }
            },
            "type": "histogram"
           }
          ],
          "histogram2d": [
           {
            "colorbar": {
             "outlinewidth": 0,
             "ticks": ""
            },
            "colorscale": [
             [
              0,
              "#0d0887"
             ],
             [
              0.1111111111111111,
              "#46039f"
             ],
             [
              0.2222222222222222,
              "#7201a8"
             ],
             [
              0.3333333333333333,
              "#9c179e"
             ],
             [
              0.4444444444444444,
              "#bd3786"
             ],
             [
              0.5555555555555556,
              "#d8576b"
             ],
             [
              0.6666666666666666,
              "#ed7953"
             ],
             [
              0.7777777777777778,
              "#fb9f3a"
             ],
             [
              0.8888888888888888,
              "#fdca26"
             ],
             [
              1,
              "#f0f921"
             ]
            ],
            "type": "histogram2d"
           }
          ],
          "histogram2dcontour": [
           {
            "colorbar": {
             "outlinewidth": 0,
             "ticks": ""
            },
            "colorscale": [
             [
              0,
              "#0d0887"
             ],
             [
              0.1111111111111111,
              "#46039f"
             ],
             [
              0.2222222222222222,
              "#7201a8"
             ],
             [
              0.3333333333333333,
              "#9c179e"
             ],
             [
              0.4444444444444444,
              "#bd3786"
             ],
             [
              0.5555555555555556,
              "#d8576b"
             ],
             [
              0.6666666666666666,
              "#ed7953"
             ],
             [
              0.7777777777777778,
              "#fb9f3a"
             ],
             [
              0.8888888888888888,
              "#fdca26"
             ],
             [
              1,
              "#f0f921"
             ]
            ],
            "type": "histogram2dcontour"
           }
          ],
          "mesh3d": [
           {
            "colorbar": {
             "outlinewidth": 0,
             "ticks": ""
            },
            "type": "mesh3d"
           }
          ],
          "parcoords": [
           {
            "line": {
             "colorbar": {
              "outlinewidth": 0,
              "ticks": ""
             }
            },
            "type": "parcoords"
           }
          ],
          "pie": [
           {
            "automargin": true,
            "type": "pie"
           }
          ],
          "scatter": [
           {
            "fillpattern": {
             "fillmode": "overlay",
             "size": 10,
             "solidity": 0.2
            },
            "type": "scatter"
           }
          ],
          "scatter3d": [
           {
            "line": {
             "colorbar": {
              "outlinewidth": 0,
              "ticks": ""
             }
            },
            "marker": {
             "colorbar": {
              "outlinewidth": 0,
              "ticks": ""
             }
            },
            "type": "scatter3d"
           }
          ],
          "scattercarpet": [
           {
            "marker": {
             "colorbar": {
              "outlinewidth": 0,
              "ticks": ""
             }
            },
            "type": "scattercarpet"
           }
          ],
          "scattergeo": [
           {
            "marker": {
             "colorbar": {
              "outlinewidth": 0,
              "ticks": ""
             }
            },
            "type": "scattergeo"
           }
          ],
          "scattergl": [
           {
            "marker": {
             "colorbar": {
              "outlinewidth": 0,
              "ticks": ""
             }
            },
            "type": "scattergl"
           }
          ],
          "scattermapbox": [
           {
            "marker": {
             "colorbar": {
              "outlinewidth": 0,
              "ticks": ""
             }
            },
            "type": "scattermapbox"
           }
          ],
          "scatterpolar": [
           {
            "marker": {
             "colorbar": {
              "outlinewidth": 0,
              "ticks": ""
             }
            },
            "type": "scatterpolar"
           }
          ],
          "scatterpolargl": [
           {
            "marker": {
             "colorbar": {
              "outlinewidth": 0,
              "ticks": ""
             }
            },
            "type": "scatterpolargl"
           }
          ],
          "scatterternary": [
           {
            "marker": {
             "colorbar": {
              "outlinewidth": 0,
              "ticks": ""
             }
            },
            "type": "scatterternary"
           }
          ],
          "surface": [
           {
            "colorbar": {
             "outlinewidth": 0,
             "ticks": ""
            },
            "colorscale": [
             [
              0,
              "#0d0887"
             ],
             [
              0.1111111111111111,
              "#46039f"
             ],
             [
              0.2222222222222222,
              "#7201a8"
             ],
             [
              0.3333333333333333,
              "#9c179e"
             ],
             [
              0.4444444444444444,
              "#bd3786"
             ],
             [
              0.5555555555555556,
              "#d8576b"
             ],
             [
              0.6666666666666666,
              "#ed7953"
             ],
             [
              0.7777777777777778,
              "#fb9f3a"
             ],
             [
              0.8888888888888888,
              "#fdca26"
             ],
             [
              1,
              "#f0f921"
             ]
            ],
            "type": "surface"
           }
          ],
          "table": [
           {
            "cells": {
             "fill": {
              "color": "#EBF0F8"
             },
             "line": {
              "color": "white"
             }
            },
            "header": {
             "fill": {
              "color": "#C8D4E3"
             },
             "line": {
              "color": "white"
             }
            },
            "type": "table"
           }
          ]
         },
         "layout": {
          "annotationdefaults": {
           "arrowcolor": "#2a3f5f",
           "arrowhead": 0,
           "arrowwidth": 1
          },
          "autotypenumbers": "strict",
          "coloraxis": {
           "colorbar": {
            "outlinewidth": 0,
            "ticks": ""
           }
          },
          "colorscale": {
           "diverging": [
            [
             0,
             "#8e0152"
            ],
            [
             0.1,
             "#c51b7d"
            ],
            [
             0.2,
             "#de77ae"
            ],
            [
             0.3,
             "#f1b6da"
            ],
            [
             0.4,
             "#fde0ef"
            ],
            [
             0.5,
             "#f7f7f7"
            ],
            [
             0.6,
             "#e6f5d0"
            ],
            [
             0.7,
             "#b8e186"
            ],
            [
             0.8,
             "#7fbc41"
            ],
            [
             0.9,
             "#4d9221"
            ],
            [
             1,
             "#276419"
            ]
           ],
           "sequential": [
            [
             0,
             "#0d0887"
            ],
            [
             0.1111111111111111,
             "#46039f"
            ],
            [
             0.2222222222222222,
             "#7201a8"
            ],
            [
             0.3333333333333333,
             "#9c179e"
            ],
            [
             0.4444444444444444,
             "#bd3786"
            ],
            [
             0.5555555555555556,
             "#d8576b"
            ],
            [
             0.6666666666666666,
             "#ed7953"
            ],
            [
             0.7777777777777778,
             "#fb9f3a"
            ],
            [
             0.8888888888888888,
             "#fdca26"
            ],
            [
             1,
             "#f0f921"
            ]
           ],
           "sequentialminus": [
            [
             0,
             "#0d0887"
            ],
            [
             0.1111111111111111,
             "#46039f"
            ],
            [
             0.2222222222222222,
             "#7201a8"
            ],
            [
             0.3333333333333333,
             "#9c179e"
            ],
            [
             0.4444444444444444,
             "#bd3786"
            ],
            [
             0.5555555555555556,
             "#d8576b"
            ],
            [
             0.6666666666666666,
             "#ed7953"
            ],
            [
             0.7777777777777778,
             "#fb9f3a"
            ],
            [
             0.8888888888888888,
             "#fdca26"
            ],
            [
             1,
             "#f0f921"
            ]
           ]
          },
          "colorway": [
           "#636efa",
           "#EF553B",
           "#00cc96",
           "#ab63fa",
           "#FFA15A",
           "#19d3f3",
           "#FF6692",
           "#B6E880",
           "#FF97FF",
           "#FECB52"
          ],
          "font": {
           "color": "#2a3f5f"
          },
          "geo": {
           "bgcolor": "white",
           "lakecolor": "white",
           "landcolor": "#E5ECF6",
           "showlakes": true,
           "showland": true,
           "subunitcolor": "white"
          },
          "hoverlabel": {
           "align": "left"
          },
          "hovermode": "closest",
          "mapbox": {
           "style": "light"
          },
          "paper_bgcolor": "white",
          "plot_bgcolor": "#E5ECF6",
          "polar": {
           "angularaxis": {
            "gridcolor": "white",
            "linecolor": "white",
            "ticks": ""
           },
           "bgcolor": "#E5ECF6",
           "radialaxis": {
            "gridcolor": "white",
            "linecolor": "white",
            "ticks": ""
           }
          },
          "scene": {
           "xaxis": {
            "backgroundcolor": "#E5ECF6",
            "gridcolor": "white",
            "gridwidth": 2,
            "linecolor": "white",
            "showbackground": true,
            "ticks": "",
            "zerolinecolor": "white"
           },
           "yaxis": {
            "backgroundcolor": "#E5ECF6",
            "gridcolor": "white",
            "gridwidth": 2,
            "linecolor": "white",
            "showbackground": true,
            "ticks": "",
            "zerolinecolor": "white"
           },
           "zaxis": {
            "backgroundcolor": "#E5ECF6",
            "gridcolor": "white",
            "gridwidth": 2,
            "linecolor": "white",
            "showbackground": true,
            "ticks": "",
            "zerolinecolor": "white"
           }
          },
          "shapedefaults": {
           "line": {
            "color": "#2a3f5f"
           }
          },
          "ternary": {
           "aaxis": {
            "gridcolor": "white",
            "linecolor": "white",
            "ticks": ""
           },
           "baxis": {
            "gridcolor": "white",
            "linecolor": "white",
            "ticks": ""
           },
           "bgcolor": "#E5ECF6",
           "caxis": {
            "gridcolor": "white",
            "linecolor": "white",
            "ticks": ""
           }
          },
          "title": {
           "x": 0.05
          },
          "xaxis": {
           "automargin": true,
           "gridcolor": "white",
           "linecolor": "white",
           "ticks": "",
           "title": {
            "standoff": 15
           },
           "zerolinecolor": "white",
           "zerolinewidth": 2
          },
          "yaxis": {
           "automargin": true,
           "gridcolor": "white",
           "linecolor": "white",
           "ticks": "",
           "title": {
            "standoff": 15
           },
           "zerolinecolor": "white",
           "zerolinewidth": 2
          }
         }
        },
        "title": {
         "font": {
          "color": "Black",
          "size": 22
         },
         "text": "<b>Similarity Matrix</b>",
         "x": 0.55,
         "xanchor": "center",
         "y": 0.95,
         "yanchor": "top"
        },
        "width": 800,
        "xaxis": {
         "anchor": "y",
         "constrain": "domain",
         "domain": [
          0,
          1
         ],
         "scaleanchor": "y"
        },
        "yaxis": {
         "anchor": "x",
         "autorange": "reversed",
         "constrain": "domain",
         "domain": [
          0,
          1
         ]
        }
       }
      },
      "text/html": [
       "<div>                        <script type=\"text/javascript\">window.PlotlyConfig = {MathJaxConfig: 'local'};</script>\n",
       "        <script charset=\"utf-8\" src=\"https://cdn.plot.ly/plotly-2.35.2.min.js\"></script>                <div id=\"be72d939-5ce3-4819-aa3c-9fa462255d80\" class=\"plotly-graph-div\" style=\"height:800px; width:800px;\"></div>            <script type=\"text/javascript\">                                    window.PLOTLYENV=window.PLOTLYENV || {};                                    if (document.getElementById(\"be72d939-5ce3-4819-aa3c-9fa462255d80\")) {                    Plotly.newPlot(                        \"be72d939-5ce3-4819-aa3c-9fa462255d80\",                        [{\"coloraxis\":\"coloraxis\",\"name\":\"0\",\"x\":[\"0_ver_engenharia_ci\\u00eancia\",\"1_engenharia_engenheiro_con...\",\"2_sistema_podem_outras\",\"4_estruturas_tipos_sobre\",\"6_\\u00e1rea_ainda_tecnologia\",\"3_cada_maior_forma\\u00e7\\u00e3o\",\"5_\\u00e1gua_atrav\\u00e9s_estudo\",\"18_\\u00e1gua_ver_utilizados\",\"7_produ\\u00e7\\u00e3o_\\u00e1rea_outras\",\"8_tipos_atrav\\u00e9s_processo\",\"9_sistemas_engenharia_ci\\u00eancia\",\"13_sistema_an\\u00e1lise_muitas\",\"10_\\u00e1reas_controle_outras\",\"11_desenvolvimento_\\u00e1gua_sendo\",\"12_sistemas_engenharia_prin...\",\"14_engenharia_engenheiro_\",\"15_pois_maior_uso\",\"16_tecnologia_ver_atrav\\u00e9s\",\"17_artigo_pode_\"],\"y\":[\"0_ver_engenharia_ci\\u00eancia\",\"1_engenharia_engenheiro_con...\",\"2_sistema_podem_outras\",\"4_estruturas_tipos_sobre\",\"6_\\u00e1rea_ainda_tecnologia\",\"3_cada_maior_forma\\u00e7\\u00e3o\",\"5_\\u00e1gua_atrav\\u00e9s_estudo\",\"18_\\u00e1gua_ver_utilizados\",\"7_produ\\u00e7\\u00e3o_\\u00e1rea_outras\",\"8_tipos_atrav\\u00e9s_processo\",\"9_sistemas_engenharia_ci\\u00eancia\",\"13_sistema_an\\u00e1lise_muitas\",\"10_\\u00e1reas_controle_outras\",\"11_desenvolvimento_\\u00e1gua_sendo\",\"12_sistemas_engenharia_prin...\",\"14_engenharia_engenheiro_\",\"15_pois_maior_uso\",\"16_tecnologia_ver_atrav\\u00e9s\",\"17_artigo_pode_\"],\"z\":[[1.0,0.5735836977414733,0.6100659693672783,0.5626552923653407,0.47699000495250105,0.3833619258093133,0.5038468735680074,0.5783758637185632,0.603153591441004,0.527715360612514,0.3742805634325964,0.3911247198664996,0.6036798452605638,0.3295078016572363,0.5587252729234764,0.5759575140408829,0.3101807320909655,0.38803667863646896,0.34181141227444234],[0.5735836977414733,1.0,0.5479714083015494,0.6347620500505315,0.6855639233035246,0.4898648939631194,0.700250234109998,0.6761326424831415,0.5717541650479181,0.413573490341846,0.5944578851854886,0.6403770773415719,0.5355112769670877,0.3988845032570423,0.6366271703608306,0.38976283844321785,0.3444627494315772,0.3884851946665648,0.5137364584984636],[0.6100659693672783,0.5479714083015494,1.0000000000000004,0.7855969719477335,0.614235594710775,0.551310501806626,0.4347290693871182,0.45738452065678076,0.5796679577355328,0.7188766093609038,0.42173580076731004,0.5316481729255184,0.5913080792329315,0.20636304193472138,0.364289650840947,0.435957605674859,0.38897700096884175,0.34378346740995064,0.37377295869133753],[0.5626552923653407,0.6347620500505315,0.7855969719477335,0.9999999999999998,0.7266149702013802,0.6822904288228123,0.4813639981528267,0.5218464244964073,0.5198970552893765,0.640725582555046,0.4647061890927914,0.5306729548892254,0.6342697957560647,0.3388394507499329,0.3860406105601239,0.4074428817295683,0.5369012659376495,0.32454317873257116,0.48530176251430823],[0.47699000495250105,0.6855639233035246,0.614235594710775,0.7266149702013802,1.0000000000000002,0.53860250020919,0.3970095632891108,0.46608215385277457,0.5726697301749434,0.4995319598065098,0.6528639836258864,0.6144264992595834,0.6825355528714843,0.2611264979107471,0.4375341749647901,0.3702662416273644,0.5618615439357554,0.3515070178815327,0.5366720675973521],[0.3833619258093133,0.4898648939631194,0.551310501806626,0.6822904288228123,0.53860250020919,1.0000000000000016,0.3551884004507917,0.3964431791542558,0.2902522547332174,0.4657309302917825,0.39104153044672624,0.514106047831365,0.4330022840249416,0.3951266669612744,0.5057796552296112,0.29155684402906645,0.4910410356991892,0.2986031474010442,0.43439858423435884],[0.5038468735680074,0.700250234109998,0.4347290693871182,0.4813639981528267,0.3970095632891108,0.3551884004507917,1.0000000000000009,0.5692378643718301,0.3991371579258317,0.30725683870582265,0.33409779912309007,0.48011875210455623,0.36863532777721525,0.2210120577583014,0.506602277427043,0.327413428496364,0.23960971753132077,0.28814848140384797,0.32833075905189607],[0.5783758637185632,0.6761326424831415,0.45738452065678076,0.5218464244964073,0.46608215385277457,0.3964431791542558,0.5692378643718301,1.0000000000000013,0.49590628525335445,0.4501968542753147,0.30646154324505137,0.38692636659682483,0.3625133517128481,0.3873831729966954,0.5594468039932372,0.4072676984849494,0.2975105663705347,0.16874571419167128,0.39425791922510683],[0.603153591441004,0.5717541650479181,0.5796679577355328,0.5198970552893765,0.5726697301749434,0.2902522547332174,0.3991371579258317,0.49590628525335445,1.0000000000000009,0.4869810541165832,0.3369852068847549,0.42902581901729536,0.39154639021768267,0.151461486965495,0.3545291972372549,0.34769308914906166,0.3518249778256156,0.3449216723190935,0.26008230444882385],[0.527715360612514,0.413573490341846,0.7188766093609038,0.640725582555046,0.4995319598065098,0.4657309302917825,0.30725683870582265,0.4501968542753147,0.4869810541165832,1.0000000000000013,0.20127047558410727,0.38504011149986783,0.46393094174636174,0.25422521829436057,0.3321606063617443,0.33039629929783415,0.3654716858119572,0.21179214872668248,0.30565921667983437],[0.3742805634325964,0.5944578851854886,0.42173580076731004,0.4647061890927914,0.6528639836258864,0.39104153044672624,0.33409779912309007,0.30646154324505137,0.3369852068847549,0.20127047558410727,1.000000000000001,0.6092878313006622,0.5114302360773101,0.12008699979717238,0.5701930242082915,0.4027604402286797,0.34511425344896535,0.3352345789818305,0.25289316253664434],[0.3911247198664996,0.6403770773415719,0.5316481729255184,0.5306729548892254,0.6144264992595834,0.514106047831365,0.48011875210455623,0.38692636659682483,0.42902581901729536,0.38504011149986783,0.6092878313006622,1.0000000000000013,0.37175707969353305,0.17289531698706015,0.3932345706360387,0.45598187894844555,0.4535730031955281,0.39530962162212724,0.43134829746122005],[0.6036798452605638,0.5355112769670877,0.5913080792329315,0.6342697957560647,0.6825355528714843,0.4330022840249416,0.36863532777721525,0.3625133517128481,0.39154639021768267,0.46393094174636174,0.5114302360773101,0.37175707969353305,1.0000000000000013,0.09494949701268772,0.49081594830353564,0.34714967606168656,0.3729644251153305,0.382283371627549,0.2735015320486224],[0.3295078016572363,0.3988845032570423,0.20636304193472138,0.3388394507499329,0.2611264979107471,0.3951266669612744,0.2210120577583014,0.3873831729966954,0.151461486965495,0.25422521829436057,0.12008699979717238,0.17289531698706015,0.09494949701268772,1.000000000000002,0.31495779377528393,0.2655829627999,0.1260760121238246,-0.01351820084902709,0.6089871856234357],[0.5587252729234764,0.6366271703608306,0.364289650840947,0.3860406105601239,0.4375341749647901,0.5057796552296112,0.506602277427043,0.5594468039932372,0.3545291972372549,0.3321606063617443,0.5701930242082915,0.3932345706360387,0.49081594830353564,0.31495779377528393,1.0000000000000007,0.3489073978624017,0.24298228235129712,0.25762890309307646,0.2566750231830357],[0.5759575140408829,0.38976283844321785,0.435957605674859,0.4074428817295683,0.3702662416273644,0.29155684402906645,0.327413428496364,0.4072676984849494,0.34769308914906166,0.33039629929783415,0.4027604402286797,0.45598187894844555,0.34714967606168656,0.2655829627999,0.3489073978624017,1.000000000000001,0.2956175813150085,0.29025788539724784,0.3534860384171479],[0.3101807320909655,0.3444627494315772,0.38897700096884175,0.5369012659376495,0.5618615439357554,0.4910410356991892,0.23960971753132077,0.2975105663705347,0.3518249778256156,0.3654716858119572,0.34511425344896535,0.4535730031955281,0.3729644251153305,0.1260760121238246,0.24298228235129712,0.2956175813150085,1.0000000000000009,0.24866352492952382,0.2132331799597804],[0.38803667863646896,0.3884851946665648,0.34378346740995064,0.32454317873257116,0.3515070178815327,0.2986031474010442,0.28814848140384797,0.16874571419167128,0.3449216723190935,0.21179214872668248,0.3352345789818305,0.39530962162212724,0.382283371627549,-0.01351820084902709,0.25762890309307646,0.29025788539724784,0.24866352492952382,1.0000000000000013,0.1398181135050608],[0.34181141227444234,0.5137364584984636,0.37377295869133753,0.48530176251430823,0.5366720675973521,0.43439858423435884,0.32833075905189607,0.39425791922510683,0.26008230444882385,0.30565921667983437,0.25289316253664434,0.43134829746122005,0.2735015320486224,0.6089871856234357,0.2566750231830357,0.3534860384171479,0.2132331799597804,0.1398181135050608,1.0000000000000002]],\"type\":\"heatmap\",\"xaxis\":\"x\",\"yaxis\":\"y\",\"hovertemplate\":\"x: %{x}\\u003cbr\\u003ey: %{y}\\u003cbr\\u003eSimilarity Score: %{z}\\u003cextra\\u003e\\u003c\\u002fextra\\u003e\"}],                        {\"template\":{\"data\":{\"histogram2dcontour\":[{\"type\":\"histogram2dcontour\",\"colorbar\":{\"outlinewidth\":0,\"ticks\":\"\"},\"colorscale\":[[0.0,\"#0d0887\"],[0.1111111111111111,\"#46039f\"],[0.2222222222222222,\"#7201a8\"],[0.3333333333333333,\"#9c179e\"],[0.4444444444444444,\"#bd3786\"],[0.5555555555555556,\"#d8576b\"],[0.6666666666666666,\"#ed7953\"],[0.7777777777777778,\"#fb9f3a\"],[0.8888888888888888,\"#fdca26\"],[1.0,\"#f0f921\"]]}],\"choropleth\":[{\"type\":\"choropleth\",\"colorbar\":{\"outlinewidth\":0,\"ticks\":\"\"}}],\"histogram2d\":[{\"type\":\"histogram2d\",\"colorbar\":{\"outlinewidth\":0,\"ticks\":\"\"},\"colorscale\":[[0.0,\"#0d0887\"],[0.1111111111111111,\"#46039f\"],[0.2222222222222222,\"#7201a8\"],[0.3333333333333333,\"#9c179e\"],[0.4444444444444444,\"#bd3786\"],[0.5555555555555556,\"#d8576b\"],[0.6666666666666666,\"#ed7953\"],[0.7777777777777778,\"#fb9f3a\"],[0.8888888888888888,\"#fdca26\"],[1.0,\"#f0f921\"]]}],\"heatmap\":[{\"type\":\"heatmap\",\"colorbar\":{\"outlinewidth\":0,\"ticks\":\"\"},\"colorscale\":[[0.0,\"#0d0887\"],[0.1111111111111111,\"#46039f\"],[0.2222222222222222,\"#7201a8\"],[0.3333333333333333,\"#9c179e\"],[0.4444444444444444,\"#bd3786\"],[0.5555555555555556,\"#d8576b\"],[0.6666666666666666,\"#ed7953\"],[0.7777777777777778,\"#fb9f3a\"],[0.8888888888888888,\"#fdca26\"],[1.0,\"#f0f921\"]]}],\"heatmapgl\":[{\"type\":\"heatmapgl\",\"colorbar\":{\"outlinewidth\":0,\"ticks\":\"\"},\"colorscale\":[[0.0,\"#0d0887\"],[0.1111111111111111,\"#46039f\"],[0.2222222222222222,\"#7201a8\"],[0.3333333333333333,\"#9c179e\"],[0.4444444444444444,\"#bd3786\"],[0.5555555555555556,\"#d8576b\"],[0.6666666666666666,\"#ed7953\"],[0.7777777777777778,\"#fb9f3a\"],[0.8888888888888888,\"#fdca26\"],[1.0,\"#f0f921\"]]}],\"contourcarpet\":[{\"type\":\"contourcarpet\",\"colorbar\":{\"outlinewidth\":0,\"ticks\":\"\"}}],\"contour\":[{\"type\":\"contour\",\"colorbar\":{\"outlinewidth\":0,\"ticks\":\"\"},\"colorscale\":[[0.0,\"#0d0887\"],[0.1111111111111111,\"#46039f\"],[0.2222222222222222,\"#7201a8\"],[0.3333333333333333,\"#9c179e\"],[0.4444444444444444,\"#bd3786\"],[0.5555555555555556,\"#d8576b\"],[0.6666666666666666,\"#ed7953\"],[0.7777777777777778,\"#fb9f3a\"],[0.8888888888888888,\"#fdca26\"],[1.0,\"#f0f921\"]]}],\"surface\":[{\"type\":\"surface\",\"colorbar\":{\"outlinewidth\":0,\"ticks\":\"\"},\"colorscale\":[[0.0,\"#0d0887\"],[0.1111111111111111,\"#46039f\"],[0.2222222222222222,\"#7201a8\"],[0.3333333333333333,\"#9c179e\"],[0.4444444444444444,\"#bd3786\"],[0.5555555555555556,\"#d8576b\"],[0.6666666666666666,\"#ed7953\"],[0.7777777777777778,\"#fb9f3a\"],[0.8888888888888888,\"#fdca26\"],[1.0,\"#f0f921\"]]}],\"mesh3d\":[{\"type\":\"mesh3d\",\"colorbar\":{\"outlinewidth\":0,\"ticks\":\"\"}}],\"scatter\":[{\"fillpattern\":{\"fillmode\":\"overlay\",\"size\":10,\"solidity\":0.2},\"type\":\"scatter\"}],\"parcoords\":[{\"type\":\"parcoords\",\"line\":{\"colorbar\":{\"outlinewidth\":0,\"ticks\":\"\"}}}],\"scatterpolargl\":[{\"type\":\"scatterpolargl\",\"marker\":{\"colorbar\":{\"outlinewidth\":0,\"ticks\":\"\"}}}],\"bar\":[{\"error_x\":{\"color\":\"#2a3f5f\"},\"error_y\":{\"color\":\"#2a3f5f\"},\"marker\":{\"line\":{\"color\":\"#E5ECF6\",\"width\":0.5},\"pattern\":{\"fillmode\":\"overlay\",\"size\":10,\"solidity\":0.2}},\"type\":\"bar\"}],\"scattergeo\":[{\"type\":\"scattergeo\",\"marker\":{\"colorbar\":{\"outlinewidth\":0,\"ticks\":\"\"}}}],\"scatterpolar\":[{\"type\":\"scatterpolar\",\"marker\":{\"colorbar\":{\"outlinewidth\":0,\"ticks\":\"\"}}}],\"histogram\":[{\"marker\":{\"pattern\":{\"fillmode\":\"overlay\",\"size\":10,\"solidity\":0.2}},\"type\":\"histogram\"}],\"scattergl\":[{\"type\":\"scattergl\",\"marker\":{\"colorbar\":{\"outlinewidth\":0,\"ticks\":\"\"}}}],\"scatter3d\":[{\"type\":\"scatter3d\",\"line\":{\"colorbar\":{\"outlinewidth\":0,\"ticks\":\"\"}},\"marker\":{\"colorbar\":{\"outlinewidth\":0,\"ticks\":\"\"}}}],\"scattermapbox\":[{\"type\":\"scattermapbox\",\"marker\":{\"colorbar\":{\"outlinewidth\":0,\"ticks\":\"\"}}}],\"scatterternary\":[{\"type\":\"scatterternary\",\"marker\":{\"colorbar\":{\"outlinewidth\":0,\"ticks\":\"\"}}}],\"scattercarpet\":[{\"type\":\"scattercarpet\",\"marker\":{\"colorbar\":{\"outlinewidth\":0,\"ticks\":\"\"}}}],\"carpet\":[{\"aaxis\":{\"endlinecolor\":\"#2a3f5f\",\"gridcolor\":\"white\",\"linecolor\":\"white\",\"minorgridcolor\":\"white\",\"startlinecolor\":\"#2a3f5f\"},\"baxis\":{\"endlinecolor\":\"#2a3f5f\",\"gridcolor\":\"white\",\"linecolor\":\"white\",\"minorgridcolor\":\"white\",\"startlinecolor\":\"#2a3f5f\"},\"type\":\"carpet\"}],\"table\":[{\"cells\":{\"fill\":{\"color\":\"#EBF0F8\"},\"line\":{\"color\":\"white\"}},\"header\":{\"fill\":{\"color\":\"#C8D4E3\"},\"line\":{\"color\":\"white\"}},\"type\":\"table\"}],\"barpolar\":[{\"marker\":{\"line\":{\"color\":\"#E5ECF6\",\"width\":0.5},\"pattern\":{\"fillmode\":\"overlay\",\"size\":10,\"solidity\":0.2}},\"type\":\"barpolar\"}],\"pie\":[{\"automargin\":true,\"type\":\"pie\"}]},\"layout\":{\"autotypenumbers\":\"strict\",\"colorway\":[\"#636efa\",\"#EF553B\",\"#00cc96\",\"#ab63fa\",\"#FFA15A\",\"#19d3f3\",\"#FF6692\",\"#B6E880\",\"#FF97FF\",\"#FECB52\"],\"font\":{\"color\":\"#2a3f5f\"},\"hovermode\":\"closest\",\"hoverlabel\":{\"align\":\"left\"},\"paper_bgcolor\":\"white\",\"plot_bgcolor\":\"#E5ECF6\",\"polar\":{\"bgcolor\":\"#E5ECF6\",\"angularaxis\":{\"gridcolor\":\"white\",\"linecolor\":\"white\",\"ticks\":\"\"},\"radialaxis\":{\"gridcolor\":\"white\",\"linecolor\":\"white\",\"ticks\":\"\"}},\"ternary\":{\"bgcolor\":\"#E5ECF6\",\"aaxis\":{\"gridcolor\":\"white\",\"linecolor\":\"white\",\"ticks\":\"\"},\"baxis\":{\"gridcolor\":\"white\",\"linecolor\":\"white\",\"ticks\":\"\"},\"caxis\":{\"gridcolor\":\"white\",\"linecolor\":\"white\",\"ticks\":\"\"}},\"coloraxis\":{\"colorbar\":{\"outlinewidth\":0,\"ticks\":\"\"}},\"colorscale\":{\"sequential\":[[0.0,\"#0d0887\"],[0.1111111111111111,\"#46039f\"],[0.2222222222222222,\"#7201a8\"],[0.3333333333333333,\"#9c179e\"],[0.4444444444444444,\"#bd3786\"],[0.5555555555555556,\"#d8576b\"],[0.6666666666666666,\"#ed7953\"],[0.7777777777777778,\"#fb9f3a\"],[0.8888888888888888,\"#fdca26\"],[1.0,\"#f0f921\"]],\"sequentialminus\":[[0.0,\"#0d0887\"],[0.1111111111111111,\"#46039f\"],[0.2222222222222222,\"#7201a8\"],[0.3333333333333333,\"#9c179e\"],[0.4444444444444444,\"#bd3786\"],[0.5555555555555556,\"#d8576b\"],[0.6666666666666666,\"#ed7953\"],[0.7777777777777778,\"#fb9f3a\"],[0.8888888888888888,\"#fdca26\"],[1.0,\"#f0f921\"]],\"diverging\":[[0,\"#8e0152\"],[0.1,\"#c51b7d\"],[0.2,\"#de77ae\"],[0.3,\"#f1b6da\"],[0.4,\"#fde0ef\"],[0.5,\"#f7f7f7\"],[0.6,\"#e6f5d0\"],[0.7,\"#b8e186\"],[0.8,\"#7fbc41\"],[0.9,\"#4d9221\"],[1,\"#276419\"]]},\"xaxis\":{\"gridcolor\":\"white\",\"linecolor\":\"white\",\"ticks\":\"\",\"title\":{\"standoff\":15},\"zerolinecolor\":\"white\",\"automargin\":true,\"zerolinewidth\":2},\"yaxis\":{\"gridcolor\":\"white\",\"linecolor\":\"white\",\"ticks\":\"\",\"title\":{\"standoff\":15},\"zerolinecolor\":\"white\",\"automargin\":true,\"zerolinewidth\":2},\"scene\":{\"xaxis\":{\"backgroundcolor\":\"#E5ECF6\",\"gridcolor\":\"white\",\"linecolor\":\"white\",\"showbackground\":true,\"ticks\":\"\",\"zerolinecolor\":\"white\",\"gridwidth\":2},\"yaxis\":{\"backgroundcolor\":\"#E5ECF6\",\"gridcolor\":\"white\",\"linecolor\":\"white\",\"showbackground\":true,\"ticks\":\"\",\"zerolinecolor\":\"white\",\"gridwidth\":2},\"zaxis\":{\"backgroundcolor\":\"#E5ECF6\",\"gridcolor\":\"white\",\"linecolor\":\"white\",\"showbackground\":true,\"ticks\":\"\",\"zerolinecolor\":\"white\",\"gridwidth\":2}},\"shapedefaults\":{\"line\":{\"color\":\"#2a3f5f\"}},\"annotationdefaults\":{\"arrowcolor\":\"#2a3f5f\",\"arrowhead\":0,\"arrowwidth\":1},\"geo\":{\"bgcolor\":\"white\",\"landcolor\":\"#E5ECF6\",\"subunitcolor\":\"white\",\"showland\":true,\"showlakes\":true,\"lakecolor\":\"white\"},\"title\":{\"x\":0.05},\"mapbox\":{\"style\":\"light\"}}},\"xaxis\":{\"anchor\":\"y\",\"domain\":[0.0,1.0],\"scaleanchor\":\"y\",\"constrain\":\"domain\"},\"yaxis\":{\"anchor\":\"x\",\"domain\":[0.0,1.0],\"autorange\":\"reversed\",\"constrain\":\"domain\"},\"coloraxis\":{\"colorbar\":{\"title\":{\"text\":\"Similarity Score\"}},\"colorscale\":[[0.0,\"rgb(247,252,240)\"],[0.125,\"rgb(224,243,219)\"],[0.25,\"rgb(204,235,197)\"],[0.375,\"rgb(168,221,181)\"],[0.5,\"rgb(123,204,196)\"],[0.625,\"rgb(78,179,211)\"],[0.75,\"rgb(43,140,190)\"],[0.875,\"rgb(8,104,172)\"],[1.0,\"rgb(8,64,129)\"]]},\"margin\":{\"t\":60},\"title\":{\"font\":{\"size\":22,\"color\":\"Black\"},\"text\":\"\\u003cb\\u003eSimilarity Matrix\\u003c\\u002fb\\u003e\",\"y\":0.95,\"x\":0.55,\"xanchor\":\"center\",\"yanchor\":\"top\"},\"hoverlabel\":{\"font\":{\"size\":16,\"family\":\"Rockwell\"},\"bgcolor\":\"white\"},\"width\":800,\"height\":800,\"showlegend\":true,\"legend\":{\"title\":{\"text\":\"Trend\"}}},                        {\"responsive\": true}                    )                };                            </script>        </div>"
      ],
      "text/plain": [
       "Figure({\n",
       "    'data': [{'coloraxis': 'coloraxis',\n",
       "              'hovertemplate': 'x: %{x}<br>y: %{y}<br>Similarity Score: %{z}<extra></extra>',\n",
       "              'name': '0',\n",
       "              'type': 'heatmap',\n",
       "              'x': [0_ver_engenharia_ciência, 1_engenharia_engenheiro_con...,\n",
       "                    2_sistema_podem_outras, 4_estruturas_tipos_sobre,\n",
       "                    6_área_ainda_tecnologia, 3_cada_maior_formação,\n",
       "                    5_água_através_estudo, 18_água_ver_utilizados,\n",
       "                    7_produção_área_outras, 8_tipos_através_processo,\n",
       "                    9_sistemas_engenharia_ciência, 13_sistema_análise_muitas,\n",
       "                    10_áreas_controle_outras, 11_desenvolvimento_água_sendo,\n",
       "                    12_sistemas_engenharia_prin..., 14_engenharia_engenheiro_,\n",
       "                    15_pois_maior_uso, 16_tecnologia_ver_através, 17_artigo_pode_],\n",
       "              'xaxis': 'x',\n",
       "              'y': [0_ver_engenharia_ciência, 1_engenharia_engenheiro_con...,\n",
       "                    2_sistema_podem_outras, 4_estruturas_tipos_sobre,\n",
       "                    6_área_ainda_tecnologia, 3_cada_maior_formação,\n",
       "                    5_água_através_estudo, 18_água_ver_utilizados,\n",
       "                    7_produção_área_outras, 8_tipos_através_processo,\n",
       "                    9_sistemas_engenharia_ciência, 13_sistema_análise_muitas,\n",
       "                    10_áreas_controle_outras, 11_desenvolvimento_água_sendo,\n",
       "                    12_sistemas_engenharia_prin..., 14_engenharia_engenheiro_,\n",
       "                    15_pois_maior_uso, 16_tecnologia_ver_através, 17_artigo_pode_],\n",
       "              'yaxis': 'y',\n",
       "              'z': array([[1.        , 0.5735837 , 0.61006597, ..., 0.31018073, 0.38803668,\n",
       "                           0.34181141],\n",
       "                          [0.5735837 , 1.        , 0.54797141, ..., 0.34446275, 0.38848519,\n",
       "                           0.51373646],\n",
       "                          [0.61006597, 0.54797141, 1.        , ..., 0.388977  , 0.34378347,\n",
       "                           0.37377296],\n",
       "                          ...,\n",
       "                          [0.31018073, 0.34446275, 0.388977  , ..., 1.        , 0.24866352,\n",
       "                           0.21323318],\n",
       "                          [0.38803668, 0.38848519, 0.34378347, ..., 0.24866352, 1.        ,\n",
       "                           0.13981811],\n",
       "                          [0.34181141, 0.51373646, 0.37377296, ..., 0.21323318, 0.13981811,\n",
       "                           1.        ]])}],\n",
       "    'layout': {'coloraxis': {'colorbar': {'title': {'text': 'Similarity Score'}},\n",
       "                             'colorscale': [[0.0, 'rgb(247,252,240)'], [0.125,\n",
       "                                            'rgb(224,243,219)'], [0.25,\n",
       "                                            'rgb(204,235,197)'], [0.375,\n",
       "                                            'rgb(168,221,181)'], [0.5,\n",
       "                                            'rgb(123,204,196)'], [0.625,\n",
       "                                            'rgb(78,179,211)'], [0.75,\n",
       "                                            'rgb(43,140,190)'], [0.875,\n",
       "                                            'rgb(8,104,172)'], [1.0,\n",
       "                                            'rgb(8,64,129)']]},\n",
       "               'height': 800,\n",
       "               'hoverlabel': {'bgcolor': 'white', 'font': {'family': 'Rockwell', 'size': 16}},\n",
       "               'legend': {'title': {'text': 'Trend'}},\n",
       "               'margin': {'t': 60},\n",
       "               'showlegend': True,\n",
       "               'template': '...',\n",
       "               'title': {'font': {'color': 'Black', 'size': 22},\n",
       "                         'text': '<b>Similarity Matrix</b>',\n",
       "                         'x': 0.55,\n",
       "                         'xanchor': 'center',\n",
       "                         'y': 0.95,\n",
       "                         'yanchor': 'top'},\n",
       "               'width': 800,\n",
       "               'xaxis': {'anchor': 'y', 'constrain': 'domain', 'domain': [0.0, 1.0], 'scaleanchor': 'y'},\n",
       "               'yaxis': {'anchor': 'x', 'autorange': 'reversed', 'constrain': 'domain', 'domain': [0.0, 1.0]}}\n",
       "})"
      ]
     },
     "execution_count": 29,
     "metadata": {},
     "output_type": "execute_result"
    }
   ],
   "source": [
    "model.visualize_heatmap(n_clusters=15)"
   ]
  },
  {
   "cell_type": "code",
   "execution_count": null,
   "metadata": {},
   "outputs": [],
   "source": []
  },
  {
   "cell_type": "code",
   "execution_count": null,
   "metadata": {},
   "outputs": [],
   "source": []
  }
 ],
 "metadata": {
  "kernelspec": {
   "display_name": ".venv",
   "language": "python",
   "name": "python3"
  },
  "language_info": {
   "codemirror_mode": {
    "name": "ipython",
    "version": 3
   },
   "file_extension": ".py",
   "mimetype": "text/x-python",
   "name": "python",
   "nbconvert_exporter": "python",
   "pygments_lexer": "ipython3",
   "version": "3.12.3"
  }
 },
 "nbformat": 4,
 "nbformat_minor": 2
}
