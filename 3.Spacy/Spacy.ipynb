{
 "cells": [
  {
   "cell_type": "code",
   "execution_count": 3,
   "metadata": {},
   "outputs": [],
   "source": [
    "#python -m pip install spacy"
   ]
  },
  {
   "cell_type": "code",
   "execution_count": 4,
   "metadata": {},
   "outputs": [],
   "source": [
    "#python -m spacy download 'pt_core_news_lg'"
   ]
  },
  {
   "cell_type": "code",
   "execution_count": 5,
   "metadata": {},
   "outputs": [],
   "source": [
    "import spacy"
   ]
  },
  {
   "cell_type": "code",
   "execution_count": 6,
   "metadata": {},
   "outputs": [],
   "source": [
    "nlp = spacy.load('pt_core_news_lg')"
   ]
  },
  {
   "cell_type": "code",
   "execution_count": 7,
   "metadata": {},
   "outputs": [
    {
     "name": "stdout",
     "output_type": "stream",
     "text": [
      "<class 'spacy.lang.pt.Portuguese'>\n"
     ]
    }
   ],
   "source": [
    "print(type(nlp))"
   ]
  },
  {
   "cell_type": "code",
   "execution_count": 8,
   "metadata": {},
   "outputs": [
    {
     "name": "stdout",
     "output_type": "stream",
     "text": [
      "['tok2vec', 'morphologizer', 'parser', 'lemmatizer', 'attribute_ruler', 'ner']\n"
     ]
    }
   ],
   "source": [
    "print(nlp.pipe_names)"
   ]
  },
  {
   "cell_type": "code",
   "execution_count": 22,
   "metadata": {},
   "outputs": [],
   "source": [
    "documento = nlp(\"As ações do Magazine Luiza S.A., Franca, Brasil, acumularam baixa de 70% ao ano. Assim já devolveram todos os ganhos do período da pandemia\")\n",
    "# documento = nlp(\"Alegações extraordinárias requerem evidências extraordinárias. Carl Sagan: 'https://carlsagan.com'\")"
   ]
  },
  {
   "cell_type": "code",
   "execution_count": 23,
   "metadata": {},
   "outputs": [
    {
     "data": {
      "text/plain": [
       "383"
      ]
     },
     "execution_count": 23,
     "metadata": {},
     "output_type": "execute_result"
    }
   ],
   "source": [
    "len(documento.vocab)"
   ]
  },
  {
   "cell_type": "code",
   "execution_count": 24,
   "metadata": {},
   "outputs": [
    {
     "name": "stdout",
     "output_type": "stream",
     "text": [
      "<class 'spacy.tokens.doc.Doc'>\n"
     ]
    }
   ],
   "source": [
    "print(type(documento))"
   ]
  },
  {
   "cell_type": "code",
   "execution_count": 25,
   "metadata": {},
   "outputs": [
    {
     "name": "stdout",
     "output_type": "stream",
     "text": [
      "As\n",
      "ações\n",
      "do\n",
      "Magazine\n",
      "Luiza\n",
      "S.A.\n",
      ",\n",
      "Franca\n",
      ",\n",
      "Brasil\n",
      ",\n",
      "acumularam\n",
      "baixa\n",
      "de\n",
      "70\n",
      "%\n",
      "ao\n",
      "ano\n",
      ".\n",
      "Assim\n",
      "já\n",
      "devolveram\n",
      "todos\n",
      "os\n",
      "ganhos\n",
      "do\n",
      "período\n",
      "da\n",
      "pandemia\n"
     ]
    }
   ],
   "source": [
    "for token in documento:\n",
    "    print(token.text)"
   ]
  },
  {
   "cell_type": "code",
   "execution_count": 26,
   "metadata": {},
   "outputs": [
    {
     "name": "stdout",
     "output_type": "stream",
     "text": [
      "Magazine\n"
     ]
    }
   ],
   "source": [
    "print(documento[3])"
   ]
  },
  {
   "cell_type": "code",
   "execution_count": 28,
   "metadata": {},
   "outputs": [
    {
     "name": "stdout",
     "output_type": "stream",
     "text": [
      "Magazine Luiza\n"
     ]
    }
   ],
   "source": [
    "print(documento[3:5])"
   ]
  },
  {
   "cell_type": "code",
   "execution_count": 29,
   "metadata": {},
   "outputs": [
    {
     "name": "stdout",
     "output_type": "stream",
     "text": [
      "29\n"
     ]
    }
   ],
   "source": [
    "print(len(documento))"
   ]
  },
  {
   "cell_type": "code",
   "execution_count": 31,
   "metadata": {},
   "outputs": [
    {
     "name": "stdout",
     "output_type": "stream",
     "text": [
      "Tokens:  ['As', 'ações', 'do', 'Magazine', 'Luiza', 'S.A.', ',', 'Franca', ',', 'Brasil', ',', 'acumularam', 'baixa', 'de', '70', '%', 'ao', 'ano', '.', 'Assim', 'já', 'devolveram', 'todos', 'os', 'ganhos', 'do', 'período', 'da', 'pandemia']\n",
      "Stop word:  [True, False, True, False, False, False, False, False, False, False, False, False, False, True, False, False, True, False, False, True, True, False, True, True, False, True, False, True, False]\n",
      "Alfanumérico:  [True, True, True, True, True, False, False, True, False, True, False, True, True, True, False, False, True, True, False, True, True, True, True, True, True, True, True, True, True]\n",
      "Maiúsculo:  [False, False, False, False, False, True, False, False, False, False, False, False, False, False, False, False, False, False, False, False, False, False, False, False, False, False, False, False, False]\n",
      "Pontuação:  [False, False, False, False, False, False, True, False, True, False, True, False, False, False, False, True, False, False, True, False, False, False, False, False, False, False, False, False, False]\n",
      "Número:  [False, False, False, False, False, False, False, False, False, False, False, False, False, False, True, False, False, False, False, False, False, False, False, False, False, False, False, False, False]\n",
      "Sentença inicial:  [True, False, False, False, False, False, False, False, False, False, False, False, False, False, False, False, False, False, False, True, False, False, False, False, False, False, False, False, False]\n"
     ]
    }
   ],
   "source": [
    "print(\"Tokens: \", [token.text for token in documento])\n",
    "print(\"Stop word: \", [token.is_stop for token in documento])\n",
    "print(\"Alfanumérico: \", [token.is_alpha for token in documento])\n",
    "print(\"Maiúsculo: \", [token.is_upper for token in documento])\n",
    "print(\"Pontuação: \", [token.is_punct for token in documento])\n",
    "print(\"Número: \", [token.like_num for token in documento])\n",
    "print(\"Sentença inicial: \", [token.is_sent_start for token in documento])"
   ]
  },
  {
   "cell_type": "code",
   "execution_count": 32,
   "metadata": {},
   "outputs": [
    {
     "name": "stdout",
     "output_type": "stream",
     "text": [
      "Tokens:  ['As', 'ações', 'do', 'Magazine', 'Luiza', 'S.A.', ',', 'Franca', ',', 'Brasil', ',', 'acumularam', 'baixa', 'de', '70', '%', 'ao', 'ano', '.', 'Assim', 'já', 'devolveram', 'todos', 'os', 'ganhos', 'do', 'período', 'da', 'pandemia']\n",
      "Formato:  ['Xx', 'xxxx', 'xx', 'Xxxxx', 'Xxxxx', 'X.X.', ',', 'Xxxxx', ',', 'Xxxxx', ',', 'xxxx', 'xxxx', 'xx', 'dd', '%', 'xx', 'xxx', '.', 'Xxxxx', 'xx', 'xxxx', 'xxxx', 'xx', 'xxxx', 'xx', 'xxxx', 'xx', 'xxxx']\n"
     ]
    }
   ],
   "source": [
    "print(\"Tokens: \", [token.text for token in documento])\n",
    "print(\"Formato: \", [token.shape_ for token in documento])"
   ]
  },
  {
   "cell_type": "code",
   "execution_count": 34,
   "metadata": {},
   "outputs": [
    {
     "name": "stdout",
     "output_type": "stream",
     "text": [
      "Pontuação encontrada:  ,\n",
      "Pontuação encontrada:  ,\n",
      "Pontuação encontrada:  ,\n",
      "Número encontrado:  70\n",
      "Pontuação encontrada:  %\n",
      "Pontuação encontrada:  .\n"
     ]
    }
   ],
   "source": [
    "for token in documento:\n",
    "    if token.like_num:\n",
    "        print(\"Número encontrado: \", token.text)\n",
    "    if token.is_punct:\n",
    "        print(\"Pontuação encontrada: \", token.text)"
   ]
  },
  {
   "cell_type": "code",
   "execution_count": 35,
   "metadata": {},
   "outputs": [
    {
     "name": "stdout",
     "output_type": "stream",
     "text": [
      "As  -  DET  -  det  -  o  -  Xx\n",
      "ações  -  NOUN  -  nsubj  -  ação  -  xxxx\n",
      "do  -  ADP  -  case  -  de o  -  xx\n",
      "Magazine  -  PROPN  -  nmod  -  Magazine  -  Xxxxx\n",
      "Luiza  -  PROPN  -  appos  -  Luiza  -  Xxxxx\n",
      "S.A.  -  PROPN  -  flat:name  -  S.A.  -  X.X.\n",
      ",  -  PUNCT  -  punct  -  ,  -  ,\n",
      "Franca  -  PROPN  -  conj  -  Franca  -  Xxxxx\n",
      ",  -  PUNCT  -  punct  -  ,  -  ,\n",
      "Brasil  -  PROPN  -  conj  -  Brasil  -  Xxxxx\n",
      ",  -  PUNCT  -  punct  -  ,  -  ,\n",
      "acumularam  -  VERB  -  ROOT  -  acumular  -  xxxx\n",
      "baixa  -  NOUN  -  obj  -  baixa  -  xxxx\n",
      "de  -  ADP  -  case  -  de  -  xx\n",
      "70  -  NUM  -  nummod  -  70  -  dd\n",
      "%  -  SYM  -  nmod  -  %  -  %\n",
      "ao  -  ADP  -  case  -  a o  -  xx\n",
      "ano  -  NOUN  -  nmod  -  ano  -  xxx\n",
      ".  -  PUNCT  -  punct  -  .  -  .\n",
      "Assim  -  ADV  -  advmod  -  assim  -  Xxxxx\n",
      "já  -  ADV  -  advmod  -  já  -  xx\n",
      "devolveram  -  VERB  -  ROOT  -  devolver  -  xxxx\n",
      "todos  -  DET  -  det  -  todo  -  xxxx\n",
      "os  -  DET  -  det  -  o  -  xx\n",
      "ganhos  -  NOUN  -  obj  -  ganho  -  xxxx\n",
      "do  -  ADP  -  case  -  de o  -  xx\n",
      "período  -  NOUN  -  nmod  -  período  -  xxxx\n",
      "da  -  ADP  -  case  -  de o  -  xx\n",
      "pandemia  -  NOUN  -  nmod  -  pandemia  -  xxxx\n"
     ]
    }
   ],
   "source": [
    "for token in documento:\n",
    "    print(token.text, \" - \", token.pos_, \" - \", token.dep_, \" - \", token.lemma_, \" - \", token.shape_)"
   ]
  },
  {
   "cell_type": "code",
   "execution_count": 36,
   "metadata": {},
   "outputs": [
    {
     "name": "stdout",
     "output_type": "stream",
     "text": [
      "As  -  Definite=Def|Gender=Fem|Number=Plur|PronType=Art\n",
      "ações  -  Gender=Fem|Number=Plur\n",
      "do  -  Definite=Def|Gender=Masc|Number=Sing|PronType=Art\n",
      "Magazine  -  Gender=Fem|Number=Sing\n",
      "Luiza  -  Gender=Fem|Number=Sing\n",
      "S.A.  -  Number=Sing\n",
      ",  -  \n",
      "Franca  -  Gender=Fem|Number=Sing\n",
      ",  -  \n",
      "Brasil  -  Gender=Masc|Number=Sing\n",
      ",  -  \n",
      "acumularam  -  Mood=Ind|Number=Plur|Person=3|Tense=Past|VerbForm=Fin\n",
      "baixa  -  Gender=Fem|Number=Sing\n",
      "de  -  \n",
      "70  -  NumType=Card\n",
      "%  -  \n",
      "ao  -  Definite=Def|Gender=Masc|Number=Sing|PronType=Art\n",
      "ano  -  Gender=Masc|Number=Sing\n",
      ".  -  \n",
      "Assim  -  \n",
      "já  -  \n",
      "devolveram  -  Mood=Ind|Number=Plur|Person=3|Tense=Past|VerbForm=Fin\n",
      "todos  -  Gender=Masc|Number=Plur|PronType=Tot\n",
      "os  -  Definite=Def|Gender=Masc|Number=Plur|PronType=Art\n",
      "ganhos  -  Gender=Masc|Number=Plur\n",
      "do  -  Definite=Def|Gender=Masc|Number=Sing|PronType=Art\n",
      "período  -  Gender=Masc|Number=Sing\n",
      "da  -  Definite=Def|Gender=Fem|Number=Sing|PronType=Art\n",
      "pandemia  -  Gender=Fem|Number=Sing\n"
     ]
    }
   ],
   "source": [
    "for token in documento:\n",
    "    print(token.text, ' - ', token.morph)"
   ]
  },
  {
   "cell_type": "code",
   "execution_count": 37,
   "metadata": {},
   "outputs": [
    {
     "name": "stdout",
     "output_type": "stream",
     "text": [
      "As  -  DET\n",
      "ações  -  NOUN\n",
      "do  -  ADP\n",
      "Magazine  -  PROPN\n",
      "Luiza  -  PROPN\n",
      "S.A.  -  PROPN\n",
      ",  -  PUNCT\n",
      "Franca  -  PROPN\n",
      ",  -  PUNCT\n",
      "Brasil  -  PROPN\n",
      ",  -  PUNCT\n",
      "acumularam  -  VERB\n",
      "baixa  -  NOUN\n",
      "de  -  ADP\n",
      "70  -  NUM\n",
      "%  -  SYM\n",
      "ao  -  ADP\n",
      "ano  -  NOUN\n",
      ".  -  PUNCT\n",
      "Assim  -  ADV\n",
      "já  -  ADV\n",
      "devolveram  -  VERB\n",
      "todos  -  DET\n",
      "os  -  DET\n",
      "ganhos  -  NOUN\n",
      "do  -  ADP\n",
      "período  -  NOUN\n",
      "da  -  ADP\n",
      "pandemia  -  NOUN\n"
     ]
    }
   ],
   "source": [
    "for token in documento:\n",
    "    print(token.text, ' - ', token.tag_)"
   ]
  },
  {
   "cell_type": "code",
   "execution_count": 38,
   "metadata": {},
   "outputs": [
    {
     "name": "stdout",
     "output_type": "stream",
     "text": [
      "Magazine Luiza S.A.  -  ORG\n",
      "Franca  -  LOC\n",
      "Brasil  -  LOC\n"
     ]
    }
   ],
   "source": [
    "for ent in documento.ents:\n",
    "    print(ent.text, ' - ', ent.label_)"
   ]
  },
  {
   "cell_type": "code",
   "execution_count": null,
   "metadata": {},
   "outputs": [],
   "source": []
  }
 ],
 "metadata": {
  "language_info": {
   "name": "python"
  }
 },
 "nbformat": 4,
 "nbformat_minor": 2
}
