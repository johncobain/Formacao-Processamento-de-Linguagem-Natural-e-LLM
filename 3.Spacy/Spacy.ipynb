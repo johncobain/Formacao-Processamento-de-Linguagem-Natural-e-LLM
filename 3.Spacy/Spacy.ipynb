{
 "cells": [
  {
   "cell_type": "code",
   "execution_count": 2,
   "metadata": {},
   "outputs": [],
   "source": [
    "#python -m pip install spacy"
   ]
  },
  {
   "cell_type": "code",
   "execution_count": 3,
   "metadata": {},
   "outputs": [],
   "source": [
    "#python -m spacy download 'pt_core_news_lg'"
   ]
  },
  {
   "cell_type": "code",
   "execution_count": 4,
   "metadata": {},
   "outputs": [],
   "source": [
    "import spacy"
   ]
  },
  {
   "cell_type": "code",
   "execution_count": 5,
   "metadata": {},
   "outputs": [],
   "source": [
    "nlp = spacy.load('pt_core_news_lg')"
   ]
  },
  {
   "cell_type": "code",
   "execution_count": 6,
   "metadata": {},
   "outputs": [
    {
     "name": "stdout",
     "output_type": "stream",
     "text": [
      "<class 'spacy.lang.pt.Portuguese'>\n"
     ]
    }
   ],
   "source": [
    "print(type(nlp))"
   ]
  },
  {
   "cell_type": "code",
   "execution_count": 7,
   "metadata": {},
   "outputs": [
    {
     "name": "stdout",
     "output_type": "stream",
     "text": [
      "['tok2vec', 'morphologizer', 'parser', 'lemmatizer', 'attribute_ruler', 'ner']\n"
     ]
    }
   ],
   "source": [
    "print(nlp.pipe_names)"
   ]
  },
  {
   "cell_type": "code",
   "execution_count": 8,
   "metadata": {},
   "outputs": [],
   "source": [
    "documento = nlp(\"As ações do Magazine Luiza S.A., Franca, Brasil, acumularam baixa de 70% ao ano. Assim já devolveram todos os ganhos do período da pandemia\")\n",
    "# documento = nlp(\"Alegações extraordinárias requerem evidências extraordinárias. Carl Sagan: 'https://carlsagan.com'\")"
   ]
  },
  {
   "cell_type": "code",
   "execution_count": 9,
   "metadata": {},
   "outputs": [
    {
     "data": {
      "text/plain": [
       "375"
      ]
     },
     "execution_count": 9,
     "metadata": {},
     "output_type": "execute_result"
    }
   ],
   "source": [
    "len(documento.vocab)"
   ]
  },
  {
   "cell_type": "code",
   "execution_count": 10,
   "metadata": {},
   "outputs": [
    {
     "name": "stdout",
     "output_type": "stream",
     "text": [
      "<class 'spacy.tokens.doc.Doc'>\n"
     ]
    }
   ],
   "source": [
    "print(type(documento))"
   ]
  },
  {
   "cell_type": "code",
   "execution_count": 11,
   "metadata": {},
   "outputs": [
    {
     "name": "stdout",
     "output_type": "stream",
     "text": [
      "As\n",
      "ações\n",
      "do\n",
      "Magazine\n",
      "Luiza\n",
      "S.A.\n",
      ",\n",
      "Franca\n",
      ",\n",
      "Brasil\n",
      ",\n",
      "acumularam\n",
      "baixa\n",
      "de\n",
      "70\n",
      "%\n",
      "ao\n",
      "ano\n",
      ".\n",
      "Assim\n",
      "já\n",
      "devolveram\n",
      "todos\n",
      "os\n",
      "ganhos\n",
      "do\n",
      "período\n",
      "da\n",
      "pandemia\n"
     ]
    }
   ],
   "source": [
    "for token in documento:\n",
    "    print(token.text)"
   ]
  },
  {
   "cell_type": "code",
   "execution_count": 12,
   "metadata": {},
   "outputs": [
    {
     "name": "stdout",
     "output_type": "stream",
     "text": [
      "Magazine\n"
     ]
    }
   ],
   "source": [
    "print(documento[3])"
   ]
  },
  {
   "cell_type": "code",
   "execution_count": 13,
   "metadata": {},
   "outputs": [
    {
     "name": "stdout",
     "output_type": "stream",
     "text": [
      "Magazine Luiza\n"
     ]
    }
   ],
   "source": [
    "print(documento[3:5])"
   ]
  },
  {
   "cell_type": "code",
   "execution_count": 14,
   "metadata": {},
   "outputs": [
    {
     "name": "stdout",
     "output_type": "stream",
     "text": [
      "29\n"
     ]
    }
   ],
   "source": [
    "print(len(documento))"
   ]
  },
  {
   "cell_type": "code",
   "execution_count": 15,
   "metadata": {},
   "outputs": [
    {
     "name": "stdout",
     "output_type": "stream",
     "text": [
      "Tokens:  ['As', 'ações', 'do', 'Magazine', 'Luiza', 'S.A.', ',', 'Franca', ',', 'Brasil', ',', 'acumularam', 'baixa', 'de', '70', '%', 'ao', 'ano', '.', 'Assim', 'já', 'devolveram', 'todos', 'os', 'ganhos', 'do', 'período', 'da', 'pandemia']\n",
      "Stop word:  [True, False, True, False, False, False, False, False, False, False, False, False, False, True, False, False, True, False, False, True, True, False, True, True, False, True, False, True, False]\n",
      "Alfanumérico:  [True, True, True, True, True, False, False, True, False, True, False, True, True, True, False, False, True, True, False, True, True, True, True, True, True, True, True, True, True]\n",
      "Maiúsculo:  [False, False, False, False, False, True, False, False, False, False, False, False, False, False, False, False, False, False, False, False, False, False, False, False, False, False, False, False, False]\n",
      "Pontuação:  [False, False, False, False, False, False, True, False, True, False, True, False, False, False, False, True, False, False, True, False, False, False, False, False, False, False, False, False, False]\n",
      "Número:  [False, False, False, False, False, False, False, False, False, False, False, False, False, False, True, False, False, False, False, False, False, False, False, False, False, False, False, False, False]\n",
      "Sentença inicial:  [True, False, False, False, False, False, False, False, False, False, False, False, False, False, False, False, False, False, False, True, False, False, False, False, False, False, False, False, False]\n"
     ]
    }
   ],
   "source": [
    "print(\"Tokens: \", [token.text for token in documento])\n",
    "print(\"Stop word: \", [token.is_stop for token in documento])\n",
    "print(\"Alfanumérico: \", [token.is_alpha for token in documento])\n",
    "print(\"Maiúsculo: \", [token.is_upper for token in documento])\n",
    "print(\"Pontuação: \", [token.is_punct for token in documento])\n",
    "print(\"Número: \", [token.like_num for token in documento])\n",
    "print(\"Sentença inicial: \", [token.is_sent_start for token in documento])"
   ]
  },
  {
   "cell_type": "code",
   "execution_count": 16,
   "metadata": {},
   "outputs": [
    {
     "name": "stdout",
     "output_type": "stream",
     "text": [
      "Tokens:  ['As', 'ações', 'do', 'Magazine', 'Luiza', 'S.A.', ',', 'Franca', ',', 'Brasil', ',', 'acumularam', 'baixa', 'de', '70', '%', 'ao', 'ano', '.', 'Assim', 'já', 'devolveram', 'todos', 'os', 'ganhos', 'do', 'período', 'da', 'pandemia']\n",
      "Formato:  ['Xx', 'xxxx', 'xx', 'Xxxxx', 'Xxxxx', 'X.X.', ',', 'Xxxxx', ',', 'Xxxxx', ',', 'xxxx', 'xxxx', 'xx', 'dd', '%', 'xx', 'xxx', '.', 'Xxxxx', 'xx', 'xxxx', 'xxxx', 'xx', 'xxxx', 'xx', 'xxxx', 'xx', 'xxxx']\n"
     ]
    }
   ],
   "source": [
    "print(\"Tokens: \", [token.text for token in documento])\n",
    "print(\"Formato: \", [token.shape_ for token in documento])"
   ]
  },
  {
   "cell_type": "code",
   "execution_count": 17,
   "metadata": {},
   "outputs": [
    {
     "name": "stdout",
     "output_type": "stream",
     "text": [
      "Pontuação encontrada:  ,\n",
      "Pontuação encontrada:  ,\n",
      "Pontuação encontrada:  ,\n",
      "Número encontrado:  70\n",
      "Pontuação encontrada:  %\n",
      "Pontuação encontrada:  .\n"
     ]
    }
   ],
   "source": [
    "for token in documento:\n",
    "    if token.like_num:\n",
    "        print(\"Número encontrado: \", token.text)\n",
    "    if token.is_punct:\n",
    "        print(\"Pontuação encontrada: \", token.text)"
   ]
  },
  {
   "cell_type": "code",
   "execution_count": 18,
   "metadata": {},
   "outputs": [
    {
     "name": "stdout",
     "output_type": "stream",
     "text": [
      "As  -  DET  -  det  -  o  -  Xx\n",
      "ações  -  NOUN  -  nsubj  -  ação  -  xxxx\n",
      "do  -  ADP  -  case  -  de o  -  xx\n",
      "Magazine  -  PROPN  -  nmod  -  Magazine  -  Xxxxx\n",
      "Luiza  -  PROPN  -  appos  -  Luiza  -  Xxxxx\n",
      "S.A.  -  PROPN  -  flat:name  -  S.A.  -  X.X.\n",
      ",  -  PUNCT  -  punct  -  ,  -  ,\n",
      "Franca  -  PROPN  -  conj  -  Franca  -  Xxxxx\n",
      ",  -  PUNCT  -  punct  -  ,  -  ,\n",
      "Brasil  -  PROPN  -  conj  -  Brasil  -  Xxxxx\n",
      ",  -  PUNCT  -  punct  -  ,  -  ,\n",
      "acumularam  -  VERB  -  ROOT  -  acumular  -  xxxx\n",
      "baixa  -  NOUN  -  obj  -  baixa  -  xxxx\n",
      "de  -  ADP  -  case  -  de  -  xx\n",
      "70  -  NUM  -  nummod  -  70  -  dd\n",
      "%  -  SYM  -  nmod  -  %  -  %\n",
      "ao  -  ADP  -  case  -  a o  -  xx\n",
      "ano  -  NOUN  -  nmod  -  ano  -  xxx\n",
      ".  -  PUNCT  -  punct  -  .  -  .\n",
      "Assim  -  ADV  -  advmod  -  assim  -  Xxxxx\n",
      "já  -  ADV  -  advmod  -  já  -  xx\n",
      "devolveram  -  VERB  -  ROOT  -  devolver  -  xxxx\n",
      "todos  -  DET  -  det  -  todo  -  xxxx\n",
      "os  -  DET  -  det  -  o  -  xx\n",
      "ganhos  -  NOUN  -  obj  -  ganho  -  xxxx\n",
      "do  -  ADP  -  case  -  de o  -  xx\n",
      "período  -  NOUN  -  nmod  -  período  -  xxxx\n",
      "da  -  ADP  -  case  -  de o  -  xx\n",
      "pandemia  -  NOUN  -  nmod  -  pandemia  -  xxxx\n"
     ]
    }
   ],
   "source": [
    "for token in documento:\n",
    "    print(token.text, \" - \", token.pos_, \" - \", token.dep_, \" - \", token.lemma_, \" - \", token.shape_)"
   ]
  },
  {
   "cell_type": "code",
   "execution_count": 19,
   "metadata": {},
   "outputs": [
    {
     "name": "stdout",
     "output_type": "stream",
     "text": [
      "As  -  Definite=Def|Gender=Fem|Number=Plur|PronType=Art\n",
      "ações  -  Gender=Fem|Number=Plur\n",
      "do  -  Definite=Def|Gender=Masc|Number=Sing|PronType=Art\n",
      "Magazine  -  Gender=Fem|Number=Sing\n",
      "Luiza  -  Gender=Fem|Number=Sing\n",
      "S.A.  -  Number=Sing\n",
      ",  -  \n",
      "Franca  -  Gender=Fem|Number=Sing\n",
      ",  -  \n",
      "Brasil  -  Gender=Masc|Number=Sing\n",
      ",  -  \n",
      "acumularam  -  Mood=Ind|Number=Plur|Person=3|Tense=Past|VerbForm=Fin\n",
      "baixa  -  Gender=Fem|Number=Sing\n",
      "de  -  \n",
      "70  -  NumType=Card\n",
      "%  -  \n",
      "ao  -  Definite=Def|Gender=Masc|Number=Sing|PronType=Art\n",
      "ano  -  Gender=Masc|Number=Sing\n",
      ".  -  \n",
      "Assim  -  \n",
      "já  -  \n",
      "devolveram  -  Mood=Ind|Number=Plur|Person=3|Tense=Past|VerbForm=Fin\n",
      "todos  -  Gender=Masc|Number=Plur|PronType=Tot\n",
      "os  -  Definite=Def|Gender=Masc|Number=Plur|PronType=Art\n",
      "ganhos  -  Gender=Masc|Number=Plur\n",
      "do  -  Definite=Def|Gender=Masc|Number=Sing|PronType=Art\n",
      "período  -  Gender=Masc|Number=Sing\n",
      "da  -  Definite=Def|Gender=Fem|Number=Sing|PronType=Art\n",
      "pandemia  -  Gender=Fem|Number=Sing\n"
     ]
    }
   ],
   "source": [
    "for token in documento:\n",
    "    print(token.text, ' - ', token.morph)"
   ]
  },
  {
   "cell_type": "code",
   "execution_count": 20,
   "metadata": {},
   "outputs": [
    {
     "name": "stdout",
     "output_type": "stream",
     "text": [
      "As  -  DET\n",
      "ações  -  NOUN\n",
      "do  -  ADP\n",
      "Magazine  -  PROPN\n",
      "Luiza  -  PROPN\n",
      "S.A.  -  PROPN\n",
      ",  -  PUNCT\n",
      "Franca  -  PROPN\n",
      ",  -  PUNCT\n",
      "Brasil  -  PROPN\n",
      ",  -  PUNCT\n",
      "acumularam  -  VERB\n",
      "baixa  -  NOUN\n",
      "de  -  ADP\n",
      "70  -  NUM\n",
      "%  -  SYM\n",
      "ao  -  ADP\n",
      "ano  -  NOUN\n",
      ".  -  PUNCT\n",
      "Assim  -  ADV\n",
      "já  -  ADV\n",
      "devolveram  -  VERB\n",
      "todos  -  DET\n",
      "os  -  DET\n",
      "ganhos  -  NOUN\n",
      "do  -  ADP\n",
      "período  -  NOUN\n",
      "da  -  ADP\n",
      "pandemia  -  NOUN\n"
     ]
    }
   ],
   "source": [
    "for token in documento:\n",
    "    print(token.text, ' - ', token.tag_)"
   ]
  },
  {
   "cell_type": "code",
   "execution_count": 21,
   "metadata": {},
   "outputs": [
    {
     "name": "stdout",
     "output_type": "stream",
     "text": [
      "Magazine Luiza S.A.  -  ORG\n",
      "Franca  -  LOC\n",
      "Brasil  -  LOC\n"
     ]
    }
   ],
   "source": [
    "for ent in documento.ents:\n",
    "    print(ent.text, ' - ', ent.label_)"
   ]
  },
  {
   "cell_type": "code",
   "execution_count": 22,
   "metadata": {},
   "outputs": [
    {
     "name": "stdout",
     "output_type": "stream",
     "text": [
      "Stop word:  As\n",
      "Stop word:  do\n",
      "Stop word:  de\n",
      "Stop word:  ao\n",
      "Stop word:  Assim\n",
      "Stop word:  já\n",
      "Stop word:  todos\n",
      "Stop word:  os\n",
      "Stop word:  do\n",
      "Stop word:  da\n"
     ]
    }
   ],
   "source": [
    "for token in documento:\n",
    "  if token.is_stop:\n",
    "    print(\"Stop word: \", token.text)"
   ]
  },
  {
   "cell_type": "code",
   "execution_count": 23,
   "metadata": {},
   "outputs": [
    {
     "name": "stdout",
     "output_type": "stream",
     "text": [
      "tão\n",
      "bom\n",
      "porque\n",
      "como\n",
      "às\n",
      "suas\n",
      "teve\n",
      "apoio\n",
      "no\n",
      "fazeis\n",
      "tiveste\n",
      "vindo\n",
      "demais\n",
      "tua\n",
      "sistema\n",
      "terceira\n",
      "tente\n",
      "estivestes\n",
      "também\n",
      "disso\n",
      "faço\n",
      "meus\n",
      "desse\n",
      "podem\n",
      "último\n",
      "das\n",
      "vais\n",
      "local\n",
      "essas\n",
      "vinda\n",
      "apontar\n",
      "favor\n",
      "um\n",
      "temos\n",
      "for\n",
      "a\n",
      "usa\n",
      "nesta\n",
      "estás\n",
      "estivemos\n",
      "estes\n",
      "ambos\n",
      "fui\n",
      "minha\n",
      "tenho\n",
      "vossos\n",
      "área\n",
      "estão\n",
      "contudo\n",
      "foi\n",
      "quarto\n",
      "além\n",
      "pegar\n",
      "final\n",
      "sexto\n",
      "fazia\n",
      "pouca\n",
      "quero\n",
      "coisa\n",
      "nova\n",
      "desta\n",
      "tarde\n",
      "tentaram\n",
      "novos\n",
      "aquilo\n",
      "pôde\n",
      "ir\n",
      "onze\n",
      "adeus\n",
      "cada\n",
      "embora\n",
      "naquela\n",
      "tipo\n",
      "quer\n",
      "certeza\n",
      "era\n",
      "ora\n",
      "cá\n",
      "aquele\n",
      "ademais\n",
      "onde\n",
      "ontem\n",
      "outras\n",
      "ou\n",
      "bastante\n",
      "falta\n",
      "quatro\n",
      "quanto\n",
      "aí\n",
      "debaixo\n",
      "dessa\n",
      "as\n",
      "dezassete\n",
      "deverá\n",
      "ainda\n",
      "dezanove\n",
      "maiorias\n",
      "te\n",
      "mas\n",
      "nós\n",
      "segunda\n",
      "dez\n",
      "primeira\n",
      "vos\n",
      "certamente\n",
      "ambas\n",
      "tivestes\n",
      "questão\n",
      "cinco\n",
      "custa\n",
      "vêm\n",
      "seu\n",
      "cima\n",
      "apenas\n",
      "dão\n",
      "inicio\n",
      "daquele\n",
      "tiveram\n",
      "dezasseis\n",
      "irá\n",
      "esse\n",
      "número\n",
      "novo\n",
      "qualquer\n",
      "não\n",
      "grande\n",
      "daquela\n",
      "na\n",
      "lá\n",
      "tanta\n",
      "ela\n",
      "longe\n",
      "poderá\n",
      "conselho\n",
      "de\n",
      "perto\n",
      "estar\n",
      "têm\n",
      "dá\n",
      "conhecida\n",
      "catorze\n",
      "deste\n",
      "des\n",
      "nuns\n",
      "uns\n",
      "quem\n",
      "menos\n",
      "comprida\n",
      "aquela\n",
      "seis\n",
      "podia\n",
      "diz\n",
      "esteve\n",
      "qual\n",
      "dezoito\n",
      "maior\n",
      "usar\n",
      "quando\n",
      "vão\n",
      "sobre\n",
      "algo\n",
      "mais\n",
      "dizer\n",
      "todo\n",
      "tempo\n",
      "breve\n",
      "lado\n",
      "pelo\n",
      "estive\n",
      "está\n",
      "pelos\n",
      "nossos\n",
      "você\n",
      "ali\n",
      "terceiro\n",
      "pela\n",
      "talvez\n",
      "fazem\n",
      "antes\n",
      "esses\n",
      "tuas\n",
      "devem\n",
      "nossa\n",
      "somos\n",
      "números\n",
      "fará\n",
      "dentro\n",
      "duas\n",
      "todas\n",
      "nosso\n",
      "tens\n",
      "cuja\n",
      "ver\n",
      "pelas\n",
      "nessa\n",
      "aqueles\n",
      "fazer\n",
      "porquanto\n",
      "tanto\n",
      "assim\n",
      "sempre\n",
      "o\n",
      "tu\n",
      "é\n",
      "desde\n",
      "nem\n",
      "fazes\n",
      "zero\n",
      "obrigado\n",
      "dos\n",
      "vem\n",
      "estiveram\n",
      "primeiro\n",
      "enquanto\n",
      "aqui\n",
      "tentei\n",
      "outros\n",
      "sexta\n",
      "nas\n",
      "se\n",
      "exemplo\n",
      "seus\n",
      "toda\n",
      "umas\n",
      "próximo\n",
      "para\n",
      "pode\n",
      "três\n",
      "sou\n",
      "nada\n",
      "logo\n",
      "quinze\n",
      "sua\n",
      "direita\n",
      "sois\n",
      "minhas\n",
      "saber\n",
      "atrás\n",
      "aos\n",
      "ele\n",
      "partir\n",
      "portanto\n",
      "todos\n",
      "quieto\n",
      "muitos\n",
      "parece\n",
      "muito\n",
      "pois\n",
      "contra\n",
      "só\n",
      "posição\n",
      "conhecido\n",
      "foste\n",
      "são\n",
      "vossa\n",
      "vocês\n",
      "tem\n",
      "próprio\n",
      "menor\n",
      "máximo\n",
      "deve\n",
      "mil\n",
      "sétima\n",
      "geral\n",
      "põe\n",
      "momento\n",
      "és\n",
      "tive\n",
      "diante\n",
      "aquelas\n",
      "doze\n",
      "corrente\n",
      "dois\n",
      "eu\n",
      "somente\n",
      "sem\n",
      "vinte\n",
      "os\n",
      "dizem\n",
      "esta\n",
      "fostes\n",
      "parte\n",
      "nesse\n",
      "bem\n",
      "num\n",
      "estado\n",
      "meses\n",
      "estas\n",
      "fim\n",
      "à\n",
      "querem\n",
      "alguns\n",
      "pouco\n",
      "ligado\n",
      "fez\n",
      "obrigada\n",
      "treze\n",
      "dar\n",
      "sétimo\n",
      "nunca\n",
      "teu\n",
      "oito\n",
      "vós\n",
      "eles\n",
      "veja\n",
      "então\n",
      "através\n",
      "sim\n",
      "depois\n",
      "essa\n",
      "estava\n",
      "elas\n",
      "puderam\n",
      "vezes\n",
      "mesmo\n",
      "acerca\n",
      "estiveste\n",
      "oitava\n",
      "isso\n",
      "poder\n",
      "porquê\n",
      "agora\n",
      "entre\n",
      "lhe\n",
      "foram\n",
      "naquele\n",
      "tentar\n",
      "nossas\n",
      "meio\n",
      "sob\n",
      "nenhuma\n",
      "quarta\n",
      "possível\n",
      "tudo\n",
      "tendes\n",
      "isto\n",
      "faz\n",
      "maioria\n",
      "grandes\n",
      "da\n",
      "outra\n",
      "iniciar\n",
      "ponto\n",
      "após\n",
      "sete\n",
      "em\n",
      "algumas\n",
      "até\n",
      "vens\n",
      "quais\n",
      "quê\n",
      "ser\n",
      "me\n",
      "quinta\n",
      "ter\n",
      "novas\n",
      "por\n",
      "nove\n",
      "quinto\n",
      "vai\n",
      "seria\n",
      "vez\n",
      "porém\n",
      "vossas\n",
      "e\n",
      "boa\n",
      "inclusive\n",
      "já\n",
      "nível\n",
      "cujo\n",
      "nos\n",
      "grupo\n",
      "mês\n",
      "possivelmente\n",
      "neste\n",
      "cento\n",
      "pontos\n",
      "uma\n",
      "eventual\n",
      "baixo\n",
      "que\n",
      "lugar\n",
      "com\n",
      "numa\n",
      "fazemos\n",
      "tais\n",
      "vários\n",
      "relação\n",
      "estará\n",
      "sei\n",
      "sabe\n",
      "quieta\n",
      "valor\n",
      "meu\n",
      "apoia\n",
      "do\n",
      "forma\n",
      "este\n",
      "ao\n",
      "tivemos\n",
      "fora\n",
      "põem\n",
      "caminho\n",
      "tal\n",
      "fomos\n",
      "posso\n",
      "segundo\n",
      "oitavo\n",
      "cedo\n",
      "povo\n",
      "próxima\n",
      "comprido\n",
      "estou\n",
      "teus\n",
      "mal\n",
      "vosso\n"
     ]
    }
   ],
   "source": [
    "for words in nlp.Defaults.stop_words:\n",
    "  print(words)"
   ]
  },
  {
   "cell_type": "code",
   "execution_count": 24,
   "metadata": {},
   "outputs": [],
   "source": [
    "nlp.Defaults.stop_words.add(\"eita\")\n",
    "nlp.vocab['eita'].is_stop = True"
   ]
  },
  {
   "cell_type": "code",
   "execution_count": 25,
   "metadata": {},
   "outputs": [
    {
     "data": {
      "text/plain": [
       "True"
      ]
     },
     "execution_count": 25,
     "metadata": {},
     "output_type": "execute_result"
    }
   ],
   "source": [
    "nlp.vocab['eita'].is_stop"
   ]
  },
  {
   "cell_type": "code",
   "execution_count": 26,
   "metadata": {},
   "outputs": [
    {
     "name": "stdout",
     "output_type": "stream",
     "text": [
      "As ações do Magazine Luiza S.A., Franca, Brasil, acumularam baixa de 70% ao ano. Assim já devolveram todos os ganhos do período da pandemia\n",
      "['As', 'ações', 'Magazine', 'Luiza', 'S.A.', ',', 'Franca', ',', 'Brasil', ',', 'acumularam', 'baixa', '70', '%', 'ano', '.', 'Assim', 'devolveram', 'ganhos', 'período', 'pandemia']\n"
     ]
    }
   ],
   "source": [
    "token_lista = []\n",
    "for token in documento:\n",
    "  token_lista.append(token.text)\n",
    "\n",
    "stop_lista = []\n",
    "for words in nlp.Defaults.stop_words:\n",
    "  stop_lista.append(words)\n",
    "\n",
    "semstop = [word for word in token_lista if not word in stop_lista]\n",
    "\n",
    "print(documento.text)\n",
    "print(semstop)\n"
   ]
  },
  {
   "cell_type": "code",
   "execution_count": 27,
   "metadata": {},
   "outputs": [
    {
     "name": "stdout",
     "output_type": "stream",
     "text": [
      "Hash:  6013848609874238634\n",
      "Hash:  6013848609874238634\n",
      "String:  dados\n"
     ]
    }
   ],
   "source": [
    "print(\"Hash: \", nlp.vocab.strings[\"dados\"])\n",
    "print(\"Hash: \", documento.vocab.strings[\"dados\"])\n",
    "print(\"String: \", nlp.vocab.strings[6013848609874238634])"
   ]
  },
  {
   "cell_type": "code",
   "execution_count": 28,
   "metadata": {},
   "outputs": [
    {
     "name": "stdout",
     "output_type": "stream",
     "text": [
      "dados  -  6013848609874238634  -  True  -  True\n"
     ]
    }
   ],
   "source": [
    "lex = nlp.vocab[\"dados\"]\n",
    "print(lex.text, \" - \", lex.orth, \" - \", lex.is_alpha, \" - \", lex.is_lower)"
   ]
  },
  {
   "cell_type": "code",
   "execution_count": 29,
   "metadata": {},
   "outputs": [
    {
     "name": "stdout",
     "output_type": "stream",
     "text": [
      "[ 0.5255733  -1.0520301  -1.0489888   0.22808893 -2.7599888   0.91837215\n",
      " -1.6993556  -0.44524103 -2.209261   -1.2901455   0.9939946  -1.3996754\n",
      "  0.7378708  -1.6957022  -1.382649   -1.1241877   2.503239    1.3766589\n",
      " -0.63682556  2.7080245  -0.6679023   0.7990059  -1.3761922   1.6491444\n",
      " -0.6950322   0.69378555 -0.19840002  1.6926199  -0.3071023   0.71506053\n",
      "  0.03211441  0.27212894 -1.9055911  -1.5586021  -0.9775556   0.7999823\n",
      " -0.9553054   0.5265729  -0.87427455 -1.2073755  -2.117481    1.2241988\n",
      "  1.5149522  -0.79308677 -1.1521667   0.13741441 -1.7882053   0.50415283\n",
      "  1.3089666   0.06542712 -0.6260744  -1.5624356  -0.707184   -1.2425367\n",
      " -0.04237115 -0.5879791   1.7004043  -0.24798778  0.11633212 -0.55506223\n",
      "  2.0148706   0.01965364  0.92778563  2.3571968  -0.49526003  1.0151839\n",
      "  0.57112557  1.3510779  -0.3038622  -0.24523441 -0.42284998 -0.69732666\n",
      "  0.71998227  0.2875956   0.10309222 -0.6866155   2.128672    0.9791889\n",
      " -1.4044011  -0.4600078   0.10599887  0.84635675  1.2420444   0.40497887\n",
      "  0.24567226 -2.4633954   0.30174115 -1.2952554   0.5795323  -1.899822\n",
      " -0.74619776  2.998889    2.0798278  -0.9101444   0.27261782  0.3154811\n",
      "  3.1923532   1.315211   -3.1751957   0.03176559  1.1431444   1.6177245\n",
      " -1.0905743   0.6142689   1.0441045  -1.0070856  -0.6415578  -0.75415665\n",
      "  0.04653723 -0.7180089  -0.09737895  0.02209669 -0.43218002 -0.37869656\n",
      " -1.4787056  -0.8019056   2.2888644  -0.58004665 -0.35054     0.8161524\n",
      "  0.56656885 -3.1986172  -0.13080996 -0.87027764  0.19671117 -0.18788989\n",
      "  2.1433      0.5740978   0.79283893  1.1020746   0.06806201  0.14578162\n",
      " -0.48713335 -0.9247377   0.84602445  1.326062   -0.13929449 -2.2536204\n",
      "  0.8378011   1.8202833  -2.1101756   0.01467665 -0.1241987  -0.28894553\n",
      " -2.689321    0.35465997  1.3067889   0.78942555 -3.1275606  -0.70258003\n",
      "  1.1796956  -0.09419552 -0.39751524 -2.17274     0.00593225  0.11152443\n",
      " -0.40126875 -0.7324776  -1.110687   -1.6154889   1.9177108   0.59479684\n",
      " -0.9205568   1.6399556   2.1313922   0.8705971  -0.4869177  -2.5268655\n",
      " -0.20582779 -1.351448    1.0684322   1.0798033   0.7770678  -0.88195336\n",
      " -0.94633335 -1.6027511   2.097808   -0.44511667 -1.657932    1.3012689\n",
      "  1.4642056   0.07117888 -0.45494658  1.4971966   1.3140267  -0.48212782\n",
      "  1.0694442  -2.269592    1.3391188   1.5931556  -1.7781789  -1.465089\n",
      "  0.23485115 -2.34892     0.940096    0.5333122  -0.74473196 -1.2676699\n",
      " -0.40783006 -0.7384778  -2.09579     2.0488043  -1.182571    0.37707764\n",
      "  1.1301712   0.28928337  1.3739567  -1.0200423   1.2103223   0.04722336\n",
      "  1.3624822  -1.2681168   1.4688356   0.8132446  -1.719049    1.8276443\n",
      "  1.0804734  -0.31434     0.88836336 -0.67704093 -1.0336466  -0.9087268\n",
      "  0.09643783 -2.5777566  -0.08628993 -0.8835056  -0.5007     -2.010551\n",
      "  0.9359345  -1.839522   -0.45124334 -1.67075     0.1972278  -0.69528896\n",
      " -0.8587457  -0.25463215  0.23403136 -1.7613523   0.39325333  2.0033166\n",
      "  0.16394782 -0.5912411   0.4513964   0.38095444  0.9961722  -0.5356072\n",
      " -0.24399893  1.2084801   1.047721   -0.3533555  -0.68883884 -0.05879111\n",
      " -1.0547067  -0.9298345   0.1543278   0.22240782 -0.8161553   2.490319\n",
      " -1.5402923   0.59167856 -1.8444476   0.68242     2.5562222   0.99307674\n",
      "  0.02924996 -0.70853776 -1.0495977   0.13625993  2.1210868   1.4868933\n",
      "  3.163472   -0.43712902 -0.514627    2.9385633  -2.2680051   0.10609888\n",
      "  2.2179537   0.63511777  0.40360793 -1.1280782  -1.7189742  -0.46922117\n",
      "  2.9208887  -0.7004363  -0.36562064  1.1512333  -1.4175044  -0.44106555\n",
      " -0.48883343 -0.5042111   0.28768444  3.4773679  -1.2891389  -0.65457785\n",
      "  0.3968733  -1.9304742   2.1593056  -0.50640225 -1.4050981   1.26994   ]\n"
     ]
    }
   ],
   "source": [
    "#print(nlp(\"dados\").vector.shape)\n",
    "#print(nlp(\"dados\").vector)\n",
    "print(nlp(\"dados são uma nova forma de ver o mundo\").vector)"
   ]
  },
  {
   "cell_type": "code",
   "execution_count": 30,
   "metadata": {},
   "outputs": [
    {
     "name": "stdout",
     "output_type": "stream",
     "text": [
      "0.8941741168014388\n",
      "0.8941741168014388\n"
     ]
    }
   ],
   "source": [
    "documento1 = nlp(\"Ele viaja regularmente de carro\")\n",
    "documento2 = nlp(\"Ela regularmente de avião viaja\")\n",
    "print(documento1.similarity(documento2))\n",
    "print(documento2.similarity(documento1))"
   ]
  },
  {
   "cell_type": "code",
   "execution_count": 31,
   "metadata": {},
   "outputs": [
    {
     "name": "stdout",
     "output_type": "stream",
     "text": [
      "comprimento\n",
      "cumprimento\n",
      "0.5804340243339539\n"
     ]
    }
   ],
   "source": [
    "documento3 = nlp(\"Devemos dizer comprimento ou cumprimento?\")\n",
    "tokenA = documento3[2]\n",
    "print(tokenA)\n",
    "tokenB = documento3[4]\n",
    "print(tokenB)\n",
    "print(tokenA.similarity(tokenB))"
   ]
  },
  {
   "cell_type": "code",
   "execution_count": 32,
   "metadata": {},
   "outputs": [
    {
     "name": "stdout",
     "output_type": "stream",
     "text": [
      "Ele pede descrição\n",
      "Ele pede discrição\n",
      "0.9630053639411926\n"
     ]
    }
   ],
   "source": [
    "documento4 = nlp(\"Ele pede descrição. Ele pede discrição\")\n",
    "partA = documento4[0:3]\n",
    "print(partA)\n",
    "partB = documento4[4:7]\n",
    "print(partB)\n",
    "print(partA.similarity(partB))"
   ]
  },
  {
   "cell_type": "code",
   "execution_count": 33,
   "metadata": {},
   "outputs": [
    {
     "name": "stdout",
     "output_type": "stream",
     "text": [
      "(51) - 9964656570\n",
      "(11) 12344988\n"
     ]
    }
   ],
   "source": [
    "from spacy.matcher import Matcher\n",
    "\n",
    "documento5 = nlp(\"Você pode ligar para (51) - 9964656570 ou (11) 12344988 \")\n",
    "\n",
    "matcher = Matcher(nlp.vocab)\n",
    "padrao = [{\"ORTH\": \"(\"}, {\"SHAPE\": \"dd\"}, {\"ORTH\": \")\"}, {\"ORTH\": \"-\", \"OP\":\"?\"}, {\"IS_DIGIT\": True}]\n",
    "matcher.add(\"telefone\",[padrao])\n",
    "matches = matcher(documento5)\n",
    "for id, inicio, fim in matches:\n",
    "    print(documento5[inicio:fim])"
   ]
  },
  {
   "cell_type": "code",
   "execution_count": 35,
   "metadata": {},
   "outputs": [
    {
     "name": "stdout",
     "output_type": "stream",
     "text": [
      "micro organismos\n",
      "MICROORGANISMOS\n",
      "micro-organismos\n"
     ]
    }
   ],
   "source": [
    "documento6 = nlp(\"Estamos infectados com micro organismos. MICROORGANISMOS são perigosos. Não enxergamos micro-organismos\")\n",
    "matcher = Matcher(nlp.vocab)\n",
    "padrao1 = [{\"LOWER\": \"micro-organismos\"}]\n",
    "padrao2 = [{\"LOWER\": \"microorganismos\"}]\n",
    "padrao3 = [{\"LOWER\": \"micro\"}, {\"LOWER\": \"organismos\"}]\n",
    "matcher.add(\"padrao\", [padrao1,padrao2,padrao3])\n",
    "matches = matcher(documento6)\n",
    "for id, inicio, fim in matches:\n",
    "    print(documento6[inicio:fim])"
   ]
  },
  {
   "cell_type": "code",
   "execution_count": 50,
   "metadata": {},
   "outputs": [
    {
     "data": {
      "text/html": [
       "<span class=\"tex2jax_ignore\"><h2 style=\"margin: 0\">Exemplo</h2>\n",
       "\n",
       "<div class=\"entities\" style=\"line-height: 2.5; direction: ltr\">As ações do \n",
       "<mark class=\"entity\" style=\"background: #7aecec; padding: 0.45em 0.6em; margin: 0 0.25em; line-height: 1; border-radius: 0.35em;\">\n",
       "    Magazine Luiza S.A.\n",
       "    <span style=\"font-size: 0.8em; font-weight: bold; line-height: 1; border-radius: 0.35em; vertical-align: middle; margin-left: 0.5rem\">ORG</span>\n",
       "</mark>\n",
       ", \n",
       "<mark class=\"entity\" style=\"background: #ff9561; padding: 0.45em 0.6em; margin: 0 0.25em; line-height: 1; border-radius: 0.35em;\">\n",
       "    Franca\n",
       "    <span style=\"font-size: 0.8em; font-weight: bold; line-height: 1; border-radius: 0.35em; vertical-align: middle; margin-left: 0.5rem\">LOC</span>\n",
       "</mark>\n",
       ", \n",
       "<mark class=\"entity\" style=\"background: #ff9561; padding: 0.45em 0.6em; margin: 0 0.25em; line-height: 1; border-radius: 0.35em;\">\n",
       "    Brasil\n",
       "    <span style=\"font-size: 0.8em; font-weight: bold; line-height: 1; border-radius: 0.35em; vertical-align: middle; margin-left: 0.5rem\">LOC</span>\n",
       "</mark>\n",
       ", acumularam baixa de 70% ao ano. Assim já devolveram todos os ganhos do período da pandemia</div></span>"
      ],
      "text/plain": [
       "<IPython.core.display.HTML object>"
      ]
     },
     "metadata": {},
     "output_type": "display_data"
    }
   ],
   "source": [
    "from spacy import displacy\n",
    "displacy.render(documento, style=\"ent\", jupyter=True)"
   ]
  },
  {
   "cell_type": "code",
   "execution_count": 49,
   "metadata": {},
   "outputs": [
    {
     "data": {
      "text/html": [
       "<span class=\"tex2jax_ignore\"><svg xmlns=\"http://www.w3.org/2000/svg\" xmlns:xlink=\"http://www.w3.org/1999/xlink\" xml:lang=\"pt\" id=\"db609f01165a46eca7e9abfc9da98615-0\" class=\"displacy\" width=\"1970\" height=\"337.0\" direction=\"ltr\" style=\"max-width: none; height: 337.0px; color: #fff; background: #000; font-family: Arial; direction: ltr\">\n",
       "<text class=\"displacy-token\" fill=\"currentColor\" text-anchor=\"middle\" y=\"247.0\">\n",
       "    <tspan class=\"displacy-word\" fill=\"currentColor\" x=\"50\">As</tspan>\n",
       "    <tspan class=\"displacy-tag\" dy=\"2em\" fill=\"currentColor\" x=\"50\">DET</tspan>\n",
       "</text>\n",
       "\n",
       "<text class=\"displacy-token\" fill=\"currentColor\" text-anchor=\"middle\" y=\"247.0\">\n",
       "    <tspan class=\"displacy-word\" fill=\"currentColor\" x=\"130\">ações</tspan>\n",
       "    <tspan class=\"displacy-tag\" dy=\"2em\" fill=\"currentColor\" x=\"130\">NOUN</tspan>\n",
       "</text>\n",
       "\n",
       "<text class=\"displacy-token\" fill=\"currentColor\" text-anchor=\"middle\" y=\"247.0\">\n",
       "    <tspan class=\"displacy-word\" fill=\"currentColor\" x=\"210\">do</tspan>\n",
       "    <tspan class=\"displacy-tag\" dy=\"2em\" fill=\"currentColor\" x=\"210\">ADP</tspan>\n",
       "</text>\n",
       "\n",
       "<text class=\"displacy-token\" fill=\"currentColor\" text-anchor=\"middle\" y=\"247.0\">\n",
       "    <tspan class=\"displacy-word\" fill=\"currentColor\" x=\"290\">Magazine</tspan>\n",
       "    <tspan class=\"displacy-tag\" dy=\"2em\" fill=\"currentColor\" x=\"290\">PROPN</tspan>\n",
       "</text>\n",
       "\n",
       "<text class=\"displacy-token\" fill=\"currentColor\" text-anchor=\"middle\" y=\"247.0\">\n",
       "    <tspan class=\"displacy-word\" fill=\"currentColor\" x=\"370\">Luiza</tspan>\n",
       "    <tspan class=\"displacy-tag\" dy=\"2em\" fill=\"currentColor\" x=\"370\">PROPN</tspan>\n",
       "</text>\n",
       "\n",
       "<text class=\"displacy-token\" fill=\"currentColor\" text-anchor=\"middle\" y=\"247.0\">\n",
       "    <tspan class=\"displacy-word\" fill=\"currentColor\" x=\"450\">S.A.,</tspan>\n",
       "    <tspan class=\"displacy-tag\" dy=\"2em\" fill=\"currentColor\" x=\"450\">PROPN</tspan>\n",
       "</text>\n",
       "\n",
       "<text class=\"displacy-token\" fill=\"currentColor\" text-anchor=\"middle\" y=\"247.0\">\n",
       "    <tspan class=\"displacy-word\" fill=\"currentColor\" x=\"530\">Franca,</tspan>\n",
       "    <tspan class=\"displacy-tag\" dy=\"2em\" fill=\"currentColor\" x=\"530\">PROPN</tspan>\n",
       "</text>\n",
       "\n",
       "<text class=\"displacy-token\" fill=\"currentColor\" text-anchor=\"middle\" y=\"247.0\">\n",
       "    <tspan class=\"displacy-word\" fill=\"currentColor\" x=\"610\">Brasil,</tspan>\n",
       "    <tspan class=\"displacy-tag\" dy=\"2em\" fill=\"currentColor\" x=\"610\">PROPN</tspan>\n",
       "</text>\n",
       "\n",
       "<text class=\"displacy-token\" fill=\"currentColor\" text-anchor=\"middle\" y=\"247.0\">\n",
       "    <tspan class=\"displacy-word\" fill=\"currentColor\" x=\"690\">acumularam</tspan>\n",
       "    <tspan class=\"displacy-tag\" dy=\"2em\" fill=\"currentColor\" x=\"690\">VERB</tspan>\n",
       "</text>\n",
       "\n",
       "<text class=\"displacy-token\" fill=\"currentColor\" text-anchor=\"middle\" y=\"247.0\">\n",
       "    <tspan class=\"displacy-word\" fill=\"currentColor\" x=\"770\">baixa</tspan>\n",
       "    <tspan class=\"displacy-tag\" dy=\"2em\" fill=\"currentColor\" x=\"770\">NOUN</tspan>\n",
       "</text>\n",
       "\n",
       "<text class=\"displacy-token\" fill=\"currentColor\" text-anchor=\"middle\" y=\"247.0\">\n",
       "    <tspan class=\"displacy-word\" fill=\"currentColor\" x=\"850\">de</tspan>\n",
       "    <tspan class=\"displacy-tag\" dy=\"2em\" fill=\"currentColor\" x=\"850\">ADP</tspan>\n",
       "</text>\n",
       "\n",
       "<text class=\"displacy-token\" fill=\"currentColor\" text-anchor=\"middle\" y=\"247.0\">\n",
       "    <tspan class=\"displacy-word\" fill=\"currentColor\" x=\"930\">70%</tspan>\n",
       "    <tspan class=\"displacy-tag\" dy=\"2em\" fill=\"currentColor\" x=\"930\">SYM</tspan>\n",
       "</text>\n",
       "\n",
       "<text class=\"displacy-token\" fill=\"currentColor\" text-anchor=\"middle\" y=\"247.0\">\n",
       "    <tspan class=\"displacy-word\" fill=\"currentColor\" x=\"1010\">ao</tspan>\n",
       "    <tspan class=\"displacy-tag\" dy=\"2em\" fill=\"currentColor\" x=\"1010\">ADP</tspan>\n",
       "</text>\n",
       "\n",
       "<text class=\"displacy-token\" fill=\"currentColor\" text-anchor=\"middle\" y=\"247.0\">\n",
       "    <tspan class=\"displacy-word\" fill=\"currentColor\" x=\"1090\">ano.</tspan>\n",
       "    <tspan class=\"displacy-tag\" dy=\"2em\" fill=\"currentColor\" x=\"1090\">NOUN</tspan>\n",
       "</text>\n",
       "\n",
       "<text class=\"displacy-token\" fill=\"currentColor\" text-anchor=\"middle\" y=\"247.0\">\n",
       "    <tspan class=\"displacy-word\" fill=\"currentColor\" x=\"1170\">Assim</tspan>\n",
       "    <tspan class=\"displacy-tag\" dy=\"2em\" fill=\"currentColor\" x=\"1170\">ADV</tspan>\n",
       "</text>\n",
       "\n",
       "<text class=\"displacy-token\" fill=\"currentColor\" text-anchor=\"middle\" y=\"247.0\">\n",
       "    <tspan class=\"displacy-word\" fill=\"currentColor\" x=\"1250\">já</tspan>\n",
       "    <tspan class=\"displacy-tag\" dy=\"2em\" fill=\"currentColor\" x=\"1250\">ADV</tspan>\n",
       "</text>\n",
       "\n",
       "<text class=\"displacy-token\" fill=\"currentColor\" text-anchor=\"middle\" y=\"247.0\">\n",
       "    <tspan class=\"displacy-word\" fill=\"currentColor\" x=\"1330\">devolveram</tspan>\n",
       "    <tspan class=\"displacy-tag\" dy=\"2em\" fill=\"currentColor\" x=\"1330\">VERB</tspan>\n",
       "</text>\n",
       "\n",
       "<text class=\"displacy-token\" fill=\"currentColor\" text-anchor=\"middle\" y=\"247.0\">\n",
       "    <tspan class=\"displacy-word\" fill=\"currentColor\" x=\"1410\">todos</tspan>\n",
       "    <tspan class=\"displacy-tag\" dy=\"2em\" fill=\"currentColor\" x=\"1410\">DET</tspan>\n",
       "</text>\n",
       "\n",
       "<text class=\"displacy-token\" fill=\"currentColor\" text-anchor=\"middle\" y=\"247.0\">\n",
       "    <tspan class=\"displacy-word\" fill=\"currentColor\" x=\"1490\">os</tspan>\n",
       "    <tspan class=\"displacy-tag\" dy=\"2em\" fill=\"currentColor\" x=\"1490\">DET</tspan>\n",
       "</text>\n",
       "\n",
       "<text class=\"displacy-token\" fill=\"currentColor\" text-anchor=\"middle\" y=\"247.0\">\n",
       "    <tspan class=\"displacy-word\" fill=\"currentColor\" x=\"1570\">ganhos</tspan>\n",
       "    <tspan class=\"displacy-tag\" dy=\"2em\" fill=\"currentColor\" x=\"1570\">NOUN</tspan>\n",
       "</text>\n",
       "\n",
       "<text class=\"displacy-token\" fill=\"currentColor\" text-anchor=\"middle\" y=\"247.0\">\n",
       "    <tspan class=\"displacy-word\" fill=\"currentColor\" x=\"1650\">do</tspan>\n",
       "    <tspan class=\"displacy-tag\" dy=\"2em\" fill=\"currentColor\" x=\"1650\">ADP</tspan>\n",
       "</text>\n",
       "\n",
       "<text class=\"displacy-token\" fill=\"currentColor\" text-anchor=\"middle\" y=\"247.0\">\n",
       "    <tspan class=\"displacy-word\" fill=\"currentColor\" x=\"1730\">período</tspan>\n",
       "    <tspan class=\"displacy-tag\" dy=\"2em\" fill=\"currentColor\" x=\"1730\">NOUN</tspan>\n",
       "</text>\n",
       "\n",
       "<text class=\"displacy-token\" fill=\"currentColor\" text-anchor=\"middle\" y=\"247.0\">\n",
       "    <tspan class=\"displacy-word\" fill=\"currentColor\" x=\"1810\">da</tspan>\n",
       "    <tspan class=\"displacy-tag\" dy=\"2em\" fill=\"currentColor\" x=\"1810\">ADP</tspan>\n",
       "</text>\n",
       "\n",
       "<text class=\"displacy-token\" fill=\"currentColor\" text-anchor=\"middle\" y=\"247.0\">\n",
       "    <tspan class=\"displacy-word\" fill=\"currentColor\" x=\"1890\">pandemia</tspan>\n",
       "    <tspan class=\"displacy-tag\" dy=\"2em\" fill=\"currentColor\" x=\"1890\">NOUN</tspan>\n",
       "</text>\n",
       "\n",
       "<g class=\"displacy-arrow\">\n",
       "    <path class=\"displacy-arc\" id=\"arrow-db609f01165a46eca7e9abfc9da98615-0-0\" stroke-width=\"2px\" d=\"M62,202.0 62,188.66666666666666 118.0,188.66666666666666 118.0,202.0\" fill=\"none\" stroke=\"currentColor\"/>\n",
       "    <text dy=\"1.25em\" style=\"font-size: 0.8em; letter-spacing: 1px\">\n",
       "        <textPath xlink:href=\"#arrow-db609f01165a46eca7e9abfc9da98615-0-0\" class=\"displacy-label\" startOffset=\"50%\" side=\"left\" fill=\"currentColor\" text-anchor=\"middle\">det</textPath>\n",
       "    </text>\n",
       "    <path class=\"displacy-arrowhead\" d=\"M62,204.0 L58,196.0 66,196.0\" fill=\"currentColor\"/>\n",
       "</g>\n",
       "\n",
       "<g class=\"displacy-arrow\">\n",
       "    <path class=\"displacy-arc\" id=\"arrow-db609f01165a46eca7e9abfc9da98615-0-1\" stroke-width=\"2px\" d=\"M142,202.0 142,135.33333333333331 690.0,135.33333333333331 690.0,202.0\" fill=\"none\" stroke=\"currentColor\"/>\n",
       "    <text dy=\"1.25em\" style=\"font-size: 0.8em; letter-spacing: 1px\">\n",
       "        <textPath xlink:href=\"#arrow-db609f01165a46eca7e9abfc9da98615-0-1\" class=\"displacy-label\" startOffset=\"50%\" side=\"left\" fill=\"currentColor\" text-anchor=\"middle\">nsubj</textPath>\n",
       "    </text>\n",
       "    <path class=\"displacy-arrowhead\" d=\"M142,204.0 L138,196.0 146,196.0\" fill=\"currentColor\"/>\n",
       "</g>\n",
       "\n",
       "<g class=\"displacy-arrow\">\n",
       "    <path class=\"displacy-arc\" id=\"arrow-db609f01165a46eca7e9abfc9da98615-0-2\" stroke-width=\"2px\" d=\"M222,202.0 222,188.66666666666666 278.0,188.66666666666666 278.0,202.0\" fill=\"none\" stroke=\"currentColor\"/>\n",
       "    <text dy=\"1.25em\" style=\"font-size: 0.8em; letter-spacing: 1px\">\n",
       "        <textPath xlink:href=\"#arrow-db609f01165a46eca7e9abfc9da98615-0-2\" class=\"displacy-label\" startOffset=\"50%\" side=\"left\" fill=\"currentColor\" text-anchor=\"middle\">case</textPath>\n",
       "    </text>\n",
       "    <path class=\"displacy-arrowhead\" d=\"M222,204.0 L218,196.0 226,196.0\" fill=\"currentColor\"/>\n",
       "</g>\n",
       "\n",
       "<g class=\"displacy-arrow\">\n",
       "    <path class=\"displacy-arc\" id=\"arrow-db609f01165a46eca7e9abfc9da98615-0-3\" stroke-width=\"2px\" d=\"M142,202.0 142,175.33333333333334 281.0,175.33333333333334 281.0,202.0\" fill=\"none\" stroke=\"currentColor\"/>\n",
       "    <text dy=\"1.25em\" style=\"font-size: 0.8em; letter-spacing: 1px\">\n",
       "        <textPath xlink:href=\"#arrow-db609f01165a46eca7e9abfc9da98615-0-3\" class=\"displacy-label\" startOffset=\"50%\" side=\"left\" fill=\"currentColor\" text-anchor=\"middle\">nmod</textPath>\n",
       "    </text>\n",
       "    <path class=\"displacy-arrowhead\" d=\"M281.0,204.0 L285.0,196.0 277.0,196.0\" fill=\"currentColor\"/>\n",
       "</g>\n",
       "\n",
       "<g class=\"displacy-arrow\">\n",
       "    <path class=\"displacy-arc\" id=\"arrow-db609f01165a46eca7e9abfc9da98615-0-4\" stroke-width=\"2px\" d=\"M302,202.0 302,188.66666666666666 358.0,188.66666666666666 358.0,202.0\" fill=\"none\" stroke=\"currentColor\"/>\n",
       "    <text dy=\"1.25em\" style=\"font-size: 0.8em; letter-spacing: 1px\">\n",
       "        <textPath xlink:href=\"#arrow-db609f01165a46eca7e9abfc9da98615-0-4\" class=\"displacy-label\" startOffset=\"50%\" side=\"left\" fill=\"currentColor\" text-anchor=\"middle\">appos</textPath>\n",
       "    </text>\n",
       "    <path class=\"displacy-arrowhead\" d=\"M358.0,204.0 L362.0,196.0 354.0,196.0\" fill=\"currentColor\"/>\n",
       "</g>\n",
       "\n",
       "<g class=\"displacy-arrow\">\n",
       "    <path class=\"displacy-arc\" id=\"arrow-db609f01165a46eca7e9abfc9da98615-0-5\" stroke-width=\"2px\" d=\"M302,202.0 302,175.33333333333334 441.0,175.33333333333334 441.0,202.0\" fill=\"none\" stroke=\"currentColor\"/>\n",
       "    <text dy=\"1.25em\" style=\"font-size: 0.8em; letter-spacing: 1px\">\n",
       "        <textPath xlink:href=\"#arrow-db609f01165a46eca7e9abfc9da98615-0-5\" class=\"displacy-label\" startOffset=\"50%\" side=\"left\" fill=\"currentColor\" text-anchor=\"middle\">flat:name</textPath>\n",
       "    </text>\n",
       "    <path class=\"displacy-arrowhead\" d=\"M441.0,204.0 L445.0,196.0 437.0,196.0\" fill=\"currentColor\"/>\n",
       "</g>\n",
       "\n",
       "<g class=\"displacy-arrow\">\n",
       "    <path class=\"displacy-arc\" id=\"arrow-db609f01165a46eca7e9abfc9da98615-0-6\" stroke-width=\"2px\" d=\"M302,202.0 302,162.0 524.0,162.0 524.0,202.0\" fill=\"none\" stroke=\"currentColor\"/>\n",
       "    <text dy=\"1.25em\" style=\"font-size: 0.8em; letter-spacing: 1px\">\n",
       "        <textPath xlink:href=\"#arrow-db609f01165a46eca7e9abfc9da98615-0-6\" class=\"displacy-label\" startOffset=\"50%\" side=\"left\" fill=\"currentColor\" text-anchor=\"middle\">conj</textPath>\n",
       "    </text>\n",
       "    <path class=\"displacy-arrowhead\" d=\"M524.0,204.0 L528.0,196.0 520.0,196.0\" fill=\"currentColor\"/>\n",
       "</g>\n",
       "\n",
       "<g class=\"displacy-arrow\">\n",
       "    <path class=\"displacy-arc\" id=\"arrow-db609f01165a46eca7e9abfc9da98615-0-7\" stroke-width=\"2px\" d=\"M302,202.0 302,148.66666666666666 607.0,148.66666666666666 607.0,202.0\" fill=\"none\" stroke=\"currentColor\"/>\n",
       "    <text dy=\"1.25em\" style=\"font-size: 0.8em; letter-spacing: 1px\">\n",
       "        <textPath xlink:href=\"#arrow-db609f01165a46eca7e9abfc9da98615-0-7\" class=\"displacy-label\" startOffset=\"50%\" side=\"left\" fill=\"currentColor\" text-anchor=\"middle\">conj</textPath>\n",
       "    </text>\n",
       "    <path class=\"displacy-arrowhead\" d=\"M607.0,204.0 L611.0,196.0 603.0,196.0\" fill=\"currentColor\"/>\n",
       "</g>\n",
       "\n",
       "<g class=\"displacy-arrow\">\n",
       "    <path class=\"displacy-arc\" id=\"arrow-db609f01165a46eca7e9abfc9da98615-0-8\" stroke-width=\"2px\" d=\"M702,202.0 702,188.66666666666666 758.0,188.66666666666666 758.0,202.0\" fill=\"none\" stroke=\"currentColor\"/>\n",
       "    <text dy=\"1.25em\" style=\"font-size: 0.8em; letter-spacing: 1px\">\n",
       "        <textPath xlink:href=\"#arrow-db609f01165a46eca7e9abfc9da98615-0-8\" class=\"displacy-label\" startOffset=\"50%\" side=\"left\" fill=\"currentColor\" text-anchor=\"middle\">obj</textPath>\n",
       "    </text>\n",
       "    <path class=\"displacy-arrowhead\" d=\"M758.0,204.0 L762.0,196.0 754.0,196.0\" fill=\"currentColor\"/>\n",
       "</g>\n",
       "\n",
       "<g class=\"displacy-arrow\">\n",
       "    <path class=\"displacy-arc\" id=\"arrow-db609f01165a46eca7e9abfc9da98615-0-9\" stroke-width=\"2px\" d=\"M862,202.0 862,188.66666666666666 918.0,188.66666666666666 918.0,202.0\" fill=\"none\" stroke=\"currentColor\"/>\n",
       "    <text dy=\"1.25em\" style=\"font-size: 0.8em; letter-spacing: 1px\">\n",
       "        <textPath xlink:href=\"#arrow-db609f01165a46eca7e9abfc9da98615-0-9\" class=\"displacy-label\" startOffset=\"50%\" side=\"left\" fill=\"currentColor\" text-anchor=\"middle\">case</textPath>\n",
       "    </text>\n",
       "    <path class=\"displacy-arrowhead\" d=\"M862,204.0 L858,196.0 866,196.0\" fill=\"currentColor\"/>\n",
       "</g>\n",
       "\n",
       "<g class=\"displacy-arrow\">\n",
       "    <path class=\"displacy-arc\" id=\"arrow-db609f01165a46eca7e9abfc9da98615-0-10\" stroke-width=\"2px\" d=\"M782,202.0 782,175.33333333333334 921.0,175.33333333333334 921.0,202.0\" fill=\"none\" stroke=\"currentColor\"/>\n",
       "    <text dy=\"1.25em\" style=\"font-size: 0.8em; letter-spacing: 1px\">\n",
       "        <textPath xlink:href=\"#arrow-db609f01165a46eca7e9abfc9da98615-0-10\" class=\"displacy-label\" startOffset=\"50%\" side=\"left\" fill=\"currentColor\" text-anchor=\"middle\">nmod</textPath>\n",
       "    </text>\n",
       "    <path class=\"displacy-arrowhead\" d=\"M921.0,204.0 L925.0,196.0 917.0,196.0\" fill=\"currentColor\"/>\n",
       "</g>\n",
       "\n",
       "<g class=\"displacy-arrow\">\n",
       "    <path class=\"displacy-arc\" id=\"arrow-db609f01165a46eca7e9abfc9da98615-0-11\" stroke-width=\"2px\" d=\"M1022,202.0 1022,188.66666666666666 1078.0,188.66666666666666 1078.0,202.0\" fill=\"none\" stroke=\"currentColor\"/>\n",
       "    <text dy=\"1.25em\" style=\"font-size: 0.8em; letter-spacing: 1px\">\n",
       "        <textPath xlink:href=\"#arrow-db609f01165a46eca7e9abfc9da98615-0-11\" class=\"displacy-label\" startOffset=\"50%\" side=\"left\" fill=\"currentColor\" text-anchor=\"middle\">case</textPath>\n",
       "    </text>\n",
       "    <path class=\"displacy-arrowhead\" d=\"M1022,204.0 L1018,196.0 1026,196.0\" fill=\"currentColor\"/>\n",
       "</g>\n",
       "\n",
       "<g class=\"displacy-arrow\">\n",
       "    <path class=\"displacy-arc\" id=\"arrow-db609f01165a46eca7e9abfc9da98615-0-12\" stroke-width=\"2px\" d=\"M782,202.0 782,162.0 1084.0,162.0 1084.0,202.0\" fill=\"none\" stroke=\"currentColor\"/>\n",
       "    <text dy=\"1.25em\" style=\"font-size: 0.8em; letter-spacing: 1px\">\n",
       "        <textPath xlink:href=\"#arrow-db609f01165a46eca7e9abfc9da98615-0-12\" class=\"displacy-label\" startOffset=\"50%\" side=\"left\" fill=\"currentColor\" text-anchor=\"middle\">nmod</textPath>\n",
       "    </text>\n",
       "    <path class=\"displacy-arrowhead\" d=\"M1084.0,204.0 L1088.0,196.0 1080.0,196.0\" fill=\"currentColor\"/>\n",
       "</g>\n",
       "\n",
       "<g class=\"displacy-arrow\">\n",
       "    <path class=\"displacy-arc\" id=\"arrow-db609f01165a46eca7e9abfc9da98615-0-13\" stroke-width=\"2px\" d=\"M1182,202.0 1182,175.33333333333334 1321.0,175.33333333333334 1321.0,202.0\" fill=\"none\" stroke=\"currentColor\"/>\n",
       "    <text dy=\"1.25em\" style=\"font-size: 0.8em; letter-spacing: 1px\">\n",
       "        <textPath xlink:href=\"#arrow-db609f01165a46eca7e9abfc9da98615-0-13\" class=\"displacy-label\" startOffset=\"50%\" side=\"left\" fill=\"currentColor\" text-anchor=\"middle\">advmod</textPath>\n",
       "    </text>\n",
       "    <path class=\"displacy-arrowhead\" d=\"M1182,204.0 L1178,196.0 1186,196.0\" fill=\"currentColor\"/>\n",
       "</g>\n",
       "\n",
       "<g class=\"displacy-arrow\">\n",
       "    <path class=\"displacy-arc\" id=\"arrow-db609f01165a46eca7e9abfc9da98615-0-14\" stroke-width=\"2px\" d=\"M1262,202.0 1262,188.66666666666666 1318.0,188.66666666666666 1318.0,202.0\" fill=\"none\" stroke=\"currentColor\"/>\n",
       "    <text dy=\"1.25em\" style=\"font-size: 0.8em; letter-spacing: 1px\">\n",
       "        <textPath xlink:href=\"#arrow-db609f01165a46eca7e9abfc9da98615-0-14\" class=\"displacy-label\" startOffset=\"50%\" side=\"left\" fill=\"currentColor\" text-anchor=\"middle\">advmod</textPath>\n",
       "    </text>\n",
       "    <path class=\"displacy-arrowhead\" d=\"M1262,204.0 L1258,196.0 1266,196.0\" fill=\"currentColor\"/>\n",
       "</g>\n",
       "\n",
       "<g class=\"displacy-arrow\">\n",
       "    <path class=\"displacy-arc\" id=\"arrow-db609f01165a46eca7e9abfc9da98615-0-15\" stroke-width=\"2px\" d=\"M1422,202.0 1422,175.33333333333334 1561.0,175.33333333333334 1561.0,202.0\" fill=\"none\" stroke=\"currentColor\"/>\n",
       "    <text dy=\"1.25em\" style=\"font-size: 0.8em; letter-spacing: 1px\">\n",
       "        <textPath xlink:href=\"#arrow-db609f01165a46eca7e9abfc9da98615-0-15\" class=\"displacy-label\" startOffset=\"50%\" side=\"left\" fill=\"currentColor\" text-anchor=\"middle\">det</textPath>\n",
       "    </text>\n",
       "    <path class=\"displacy-arrowhead\" d=\"M1422,204.0 L1418,196.0 1426,196.0\" fill=\"currentColor\"/>\n",
       "</g>\n",
       "\n",
       "<g class=\"displacy-arrow\">\n",
       "    <path class=\"displacy-arc\" id=\"arrow-db609f01165a46eca7e9abfc9da98615-0-16\" stroke-width=\"2px\" d=\"M1502,202.0 1502,188.66666666666666 1558.0,188.66666666666666 1558.0,202.0\" fill=\"none\" stroke=\"currentColor\"/>\n",
       "    <text dy=\"1.25em\" style=\"font-size: 0.8em; letter-spacing: 1px\">\n",
       "        <textPath xlink:href=\"#arrow-db609f01165a46eca7e9abfc9da98615-0-16\" class=\"displacy-label\" startOffset=\"50%\" side=\"left\" fill=\"currentColor\" text-anchor=\"middle\">det</textPath>\n",
       "    </text>\n",
       "    <path class=\"displacy-arrowhead\" d=\"M1502,204.0 L1498,196.0 1506,196.0\" fill=\"currentColor\"/>\n",
       "</g>\n",
       "\n",
       "<g class=\"displacy-arrow\">\n",
       "    <path class=\"displacy-arc\" id=\"arrow-db609f01165a46eca7e9abfc9da98615-0-17\" stroke-width=\"2px\" d=\"M1342,202.0 1342,162.0 1564.0,162.0 1564.0,202.0\" fill=\"none\" stroke=\"currentColor\"/>\n",
       "    <text dy=\"1.25em\" style=\"font-size: 0.8em; letter-spacing: 1px\">\n",
       "        <textPath xlink:href=\"#arrow-db609f01165a46eca7e9abfc9da98615-0-17\" class=\"displacy-label\" startOffset=\"50%\" side=\"left\" fill=\"currentColor\" text-anchor=\"middle\">obj</textPath>\n",
       "    </text>\n",
       "    <path class=\"displacy-arrowhead\" d=\"M1564.0,204.0 L1568.0,196.0 1560.0,196.0\" fill=\"currentColor\"/>\n",
       "</g>\n",
       "\n",
       "<g class=\"displacy-arrow\">\n",
       "    <path class=\"displacy-arc\" id=\"arrow-db609f01165a46eca7e9abfc9da98615-0-18\" stroke-width=\"2px\" d=\"M1662,202.0 1662,188.66666666666666 1718.0,188.66666666666666 1718.0,202.0\" fill=\"none\" stroke=\"currentColor\"/>\n",
       "    <text dy=\"1.25em\" style=\"font-size: 0.8em; letter-spacing: 1px\">\n",
       "        <textPath xlink:href=\"#arrow-db609f01165a46eca7e9abfc9da98615-0-18\" class=\"displacy-label\" startOffset=\"50%\" side=\"left\" fill=\"currentColor\" text-anchor=\"middle\">case</textPath>\n",
       "    </text>\n",
       "    <path class=\"displacy-arrowhead\" d=\"M1662,204.0 L1658,196.0 1666,196.0\" fill=\"currentColor\"/>\n",
       "</g>\n",
       "\n",
       "<g class=\"displacy-arrow\">\n",
       "    <path class=\"displacy-arc\" id=\"arrow-db609f01165a46eca7e9abfc9da98615-0-19\" stroke-width=\"2px\" d=\"M1582,202.0 1582,175.33333333333334 1721.0,175.33333333333334 1721.0,202.0\" fill=\"none\" stroke=\"currentColor\"/>\n",
       "    <text dy=\"1.25em\" style=\"font-size: 0.8em; letter-spacing: 1px\">\n",
       "        <textPath xlink:href=\"#arrow-db609f01165a46eca7e9abfc9da98615-0-19\" class=\"displacy-label\" startOffset=\"50%\" side=\"left\" fill=\"currentColor\" text-anchor=\"middle\">nmod</textPath>\n",
       "    </text>\n",
       "    <path class=\"displacy-arrowhead\" d=\"M1721.0,204.0 L1725.0,196.0 1717.0,196.0\" fill=\"currentColor\"/>\n",
       "</g>\n",
       "\n",
       "<g class=\"displacy-arrow\">\n",
       "    <path class=\"displacy-arc\" id=\"arrow-db609f01165a46eca7e9abfc9da98615-0-20\" stroke-width=\"2px\" d=\"M1822,202.0 1822,188.66666666666666 1878.0,188.66666666666666 1878.0,202.0\" fill=\"none\" stroke=\"currentColor\"/>\n",
       "    <text dy=\"1.25em\" style=\"font-size: 0.8em; letter-spacing: 1px\">\n",
       "        <textPath xlink:href=\"#arrow-db609f01165a46eca7e9abfc9da98615-0-20\" class=\"displacy-label\" startOffset=\"50%\" side=\"left\" fill=\"currentColor\" text-anchor=\"middle\">case</textPath>\n",
       "    </text>\n",
       "    <path class=\"displacy-arrowhead\" d=\"M1822,204.0 L1818,196.0 1826,196.0\" fill=\"currentColor\"/>\n",
       "</g>\n",
       "\n",
       "<g class=\"displacy-arrow\">\n",
       "    <path class=\"displacy-arc\" id=\"arrow-db609f01165a46eca7e9abfc9da98615-0-21\" stroke-width=\"2px\" d=\"M1742,202.0 1742,175.33333333333334 1881.0,175.33333333333334 1881.0,202.0\" fill=\"none\" stroke=\"currentColor\"/>\n",
       "    <text dy=\"1.25em\" style=\"font-size: 0.8em; letter-spacing: 1px\">\n",
       "        <textPath xlink:href=\"#arrow-db609f01165a46eca7e9abfc9da98615-0-21\" class=\"displacy-label\" startOffset=\"50%\" side=\"left\" fill=\"currentColor\" text-anchor=\"middle\">nmod</textPath>\n",
       "    </text>\n",
       "    <path class=\"displacy-arrowhead\" d=\"M1881.0,204.0 L1885.0,196.0 1877.0,196.0\" fill=\"currentColor\"/>\n",
       "</g>\n",
       "</svg></span>"
      ],
      "text/plain": [
       "<IPython.core.display.HTML object>"
      ]
     },
     "metadata": {},
     "output_type": "display_data"
    }
   ],
   "source": [
    "documento.user_data['title']= 'Exemplo'\n",
    "displacy.render(documento, style=\"dep\", jupyter=True,\n",
    "                options={'compact':True, 'distance':80, 'color':'#fff', 'bg':'#000', 'font':'Arial'})"
   ]
  },
  {
   "cell_type": "code",
   "execution_count": 64,
   "metadata": {},
   "outputs": [
    {
     "name": "stdout",
     "output_type": "stream",
     "text": [
      "Pipeline Normal: ['tok2vec', 'morphologizer', 'parser', 'lemmatizer', 'attribute_ruler', 'ner']\n"
     ]
    }
   ],
   "source": [
    "print(\"Pipeline Normal:\",nlp.pipe_names)"
   ]
  },
  {
   "cell_type": "code",
   "execution_count": 65,
   "metadata": {},
   "outputs": [
    {
     "data": {
      "text/plain": [
       "('tok2vec', <spacy.pipeline.tok2vec.Tok2Vec at 0x2968e806e10>)"
      ]
     },
     "execution_count": 65,
     "metadata": {},
     "output_type": "execute_result"
    }
   ],
   "source": [
    "nlp.remove_pipe(\"tok2vec\")"
   ]
  },
  {
   "cell_type": "code",
   "execution_count": 66,
   "metadata": {},
   "outputs": [
    {
     "name": "stdout",
     "output_type": "stream",
     "text": [
      "Pipeline sem tok2vec: ['morphologizer', 'parser', 'lemmatizer', 'attribute_ruler', 'ner']\n"
     ]
    }
   ],
   "source": [
    "print(\"Pipeline sem tok2vec:\",nlp.pipe_names)\n"
   ]
  },
  {
   "cell_type": "code",
   "execution_count": 67,
   "metadata": {},
   "outputs": [
    {
     "data": {
      "text/plain": [
       "<spacy.pipeline.tok2vec.Tok2Vec at 0x2968e806ed0>"
      ]
     },
     "execution_count": 67,
     "metadata": {},
     "output_type": "execute_result"
    }
   ],
   "source": [
    "nlp.add_pipe(\"tok2vec\", after=\"morphologizer\")"
   ]
  },
  {
   "cell_type": "code",
   "execution_count": 68,
   "metadata": {},
   "outputs": [
    {
     "name": "stdout",
     "output_type": "stream",
     "text": [
      "Pipeline sem tok2vec: ['morphologizer', 'tok2vec', 'parser', 'lemmatizer', 'attribute_ruler', 'ner']\n"
     ]
    }
   ],
   "source": [
    "print(\"Pipeline sem tok2vec:\",nlp.pipe_names)\n"
   ]
  },
  {
   "cell_type": "code",
   "execution_count": null,
   "metadata": {},
   "outputs": [],
   "source": []
  }
 ],
 "metadata": {
  "kernelspec": {
   "display_name": ".venv",
   "language": "python",
   "name": "python3"
  },
  "language_info": {
   "codemirror_mode": {
    "name": "ipython",
    "version": 3
   },
   "file_extension": ".py",
   "mimetype": "text/x-python",
   "name": "python",
   "nbconvert_exporter": "python",
   "pygments_lexer": "ipython3",
   "version": "3.12.3"
  }
 },
 "nbformat": 4,
 "nbformat_minor": 2
}
